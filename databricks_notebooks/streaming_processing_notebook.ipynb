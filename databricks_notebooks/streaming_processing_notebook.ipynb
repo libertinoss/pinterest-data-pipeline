{
 "cells": [
  {
   "cell_type": "markdown",
   "metadata": {
    "application/vnd.databricks.v1+cell": {
     "cellMetadata": {},
     "inputWidgets": {},
     "nuid": "2e412cfc-d860-4ed7-901a-8d0160150a34",
     "showTitle": false,
     "title": ""
    }
   },
   "source": [
    "#### AWS access key loaded in the same way as for batch processing"
   ]
  },
  {
   "cell_type": "code",
   "execution_count": 0,
   "metadata": {
    "application/vnd.databricks.v1+cell": {
     "cellMetadata": {
      "byteLimit": 2048000,
      "rowLimit": 10000
     },
     "inputWidgets": {},
     "nuid": "9aebd848-769c-4970-8c5d-36dc4c84dbce",
     "showTitle": false,
     "title": ""
    }
   },
   "outputs": [
    {
     "output_type": "display_data",
     "data": {
      "text/html": [
       "<style scoped>\n",
       "  .ansiout {\n",
       "    display: block;\n",
       "    unicode-bidi: embed;\n",
       "    white-space: pre-wrap;\n",
       "    word-wrap: break-word;\n",
       "    word-break: break-all;\n",
       "    font-family: \"Menlo\", \"Monaco\", \"Consolas\", \"Ubuntu Mono\", \"Source Code Pro\", monospace;\n",
       "    font-size: 13px;\n",
       "    color: #555;\n",
       "    margin-left: 4px;\n",
       "    line-height: 19px;\n",
       "  }\n",
       "</style>\n",
       "<div class=\"ansiout\"></div>"
      ]
     },
     "metadata": {
      "application/vnd.databricks.v1+output": {
       "addedWidgets": {},
       "arguments": {},
       "data": "<div class=\"ansiout\"></div>",
       "datasetInfos": [],
       "metadata": {},
       "removedWidgets": [],
       "type": "html"
      }
     },
     "output_type": "display_data"
    }
   ],
   "source": [
    "# pyspark functions\n",
    "from pyspark.sql.functions import *\n",
    "# URL processing\n",
    "import urllib\n",
    "\n",
    "# Define the path to the Delta table\n",
    "delta_table_path = \"dbfs:/user/hive/warehouse/authentication_credentials\"\n",
    "\n",
    "# Read the Delta table to a Spark DataFrame\n",
    "aws_keys_df = spark.read.format(\"delta\").load(delta_table_path)\n",
    "\n",
    "# Get the AWS access key and secret key from the spark dataframe\n",
    "ACCESS_KEY = aws_keys_df.select('Access key ID').collect()[0]['Access key ID']\n",
    "SECRET_KEY = aws_keys_df.select('Secret access key').collect()[0]['Secret access key']\n",
    "# Encode the secrete key\n",
    "ENCODED_SECRET_KEY = urllib.parse.quote(string=SECRET_KEY, safe=\"\")"
   ]
  },
  {
   "cell_type": "code",
   "execution_count": 0,
   "metadata": {
    "application/vnd.databricks.v1+cell": {
     "cellMetadata": {
      "byteLimit": 2048000,
      "implicitDf": true,
      "rowLimit": 10000
     },
     "inputWidgets": {},
     "nuid": "106b5107-b670-4ea7-a262-a73d7a737f7e",
     "showTitle": false,
     "title": ""
    }
   },
   "outputs": [
    {
     "output_type": "display_data",
     "data": {
      "text/html": [
       "<style scoped>\n",
       "  .table-result-container {\n",
       "    max-height: 300px;\n",
       "    overflow: auto;\n",
       "  }\n",
       "  table, th, td {\n",
       "    border: 1px solid black;\n",
       "    border-collapse: collapse;\n",
       "  }\n",
       "  th, td {\n",
       "    padding: 5px;\n",
       "  }\n",
       "  th {\n",
       "    text-align: left;\n",
       "  }\n",
       "</style><div class='table-result-container'><table class='table-result'><thead style='background-color: white'><tr><th>key</th><th>value</th></tr></thead><tbody><tr><td>spark.databricks.delta.formatCheck.enabled</td><td>false</td></tr></tbody></table></div>"
      ]
     },
     "metadata": {
      "application/vnd.databricks.v1+output": {
       "addedWidgets": {},
       "aggData": [],
       "aggError": "",
       "aggOverflow": false,
       "aggSchema": [],
       "aggSeriesLimitReached": false,
       "aggType": "",
       "arguments": {},
       "columnCustomDisplayInfos": {},
       "data": [
        [
         "spark.databricks.delta.formatCheck.enabled",
         "false"
        ]
       ],
       "datasetInfos": [],
       "dbfsResultPath": null,
       "isJsonSchema": true,
       "metadata": {},
       "overflow": false,
       "plotOptions": {
        "customPlotOptions": {},
        "displayType": "table",
        "pivotAggregation": null,
        "pivotColumns": null,
        "xColumns": null,
        "yColumns": null
       },
       "removedWidgets": [],
       "schema": [
        {
         "metadata": "{}",
         "name": "key",
         "type": "\"string\""
        },
        {
         "metadata": "{}",
         "name": "value",
         "type": "\"string\""
        }
       ],
       "type": "table"
      }
     },
     "output_type": "display_data"
    }
   ],
   "source": [
    "%sql\n",
    "-- Disable format checks during the reading of Delta tables\n",
    "SET spark.databricks.delta.formatCheck.enabled=false"
   ]
  },
  {
   "cell_type": "markdown",
   "metadata": {
    "application/vnd.databricks.v1+cell": {
     "cellMetadata": {
      "byteLimit": 2048000,
      "rowLimit": 10000
     },
     "inputWidgets": {},
     "nuid": "49fb4140-1614-41be-ba22-199351f190a2",
     "showTitle": false,
     "title": ""
    }
   },
   "source": [
    "#### Streaming data from Kinesis read into three dataframes (one for each topic)"
   ]
  },
  {
   "cell_type": "code",
   "execution_count": 0,
   "metadata": {
    "application/vnd.databricks.v1+cell": {
     "cellMetadata": {
      "byteLimit": 2048000,
      "rowLimit": 10000
     },
     "inputWidgets": {},
     "nuid": "447873c1-5329-4a74-b535-d7d05eed3afd",
     "showTitle": false,
     "title": ""
    }
   },
   "outputs": [
    {
     "output_type": "display_data",
     "data": {
      "text/html": [
       "<style scoped>\n",
       "  .ansiout {\n",
       "    display: block;\n",
       "    unicode-bidi: embed;\n",
       "    white-space: pre-wrap;\n",
       "    word-wrap: break-word;\n",
       "    word-break: break-all;\n",
       "    font-family: \"Menlo\", \"Monaco\", \"Consolas\", \"Ubuntu Mono\", \"Source Code Pro\", monospace;\n",
       "    font-size: 13px;\n",
       "    color: #555;\n",
       "    margin-left: 4px;\n",
       "    line-height: 19px;\n",
       "  }\n",
       "</style>\n",
       "<div class=\"ansiout\"></div>"
      ]
     },
     "metadata": {
      "application/vnd.databricks.v1+output": {
       "addedWidgets": {},
       "arguments": {},
       "data": "<div class=\"ansiout\"></div>",
       "datasetInfos": [],
       "metadata": {},
       "removedWidgets": [],
       "type": "html"
      }
     },
     "output_type": "display_data"
    }
   ],
   "source": [
    "df_pin = spark \\\n",
    ".readStream \\\n",
    ".format('kinesis') \\\n",
    ".option('streamName','streaming-0ad8a60ac12f-pin') \\\n",
    ".option('initialPosition','earliest') \\\n",
    ".option('region','us-east-1') \\\n",
    ".option('awsAccessKey', ACCESS_KEY) \\\n",
    ".option('awsSecretKey', SECRET_KEY) \\\n",
    ".load()"
   ]
  },
  {
   "cell_type": "code",
   "execution_count": 0,
   "metadata": {
    "application/vnd.databricks.v1+cell": {
     "cellMetadata": {
      "byteLimit": 2048000,
      "rowLimit": 10000
     },
     "inputWidgets": {},
     "nuid": "a6dc422e-dbe6-49a2-a3d1-05413b4403be",
     "showTitle": false,
     "title": ""
    }
   },
   "outputs": [
    {
     "output_type": "display_data",
     "data": {
      "text/html": [
       "<style scoped>\n",
       "  .ansiout {\n",
       "    display: block;\n",
       "    unicode-bidi: embed;\n",
       "    white-space: pre-wrap;\n",
       "    word-wrap: break-word;\n",
       "    word-break: break-all;\n",
       "    font-family: \"Menlo\", \"Monaco\", \"Consolas\", \"Ubuntu Mono\", \"Source Code Pro\", monospace;\n",
       "    font-size: 13px;\n",
       "    color: #555;\n",
       "    margin-left: 4px;\n",
       "    line-height: 19px;\n",
       "  }\n",
       "</style>\n",
       "<div class=\"ansiout\"></div>"
      ]
     },
     "metadata": {
      "application/vnd.databricks.v1+output": {
       "addedWidgets": {},
       "arguments": {},
       "data": "<div class=\"ansiout\"></div>",
       "datasetInfos": [],
       "metadata": {},
       "removedWidgets": [],
       "type": "html"
      }
     },
     "output_type": "display_data"
    }
   ],
   "source": [
    "df_geo = spark \\\n",
    ".readStream \\\n",
    ".format('kinesis') \\\n",
    ".option('streamName','streaming-0ad8a60ac12f-geo') \\\n",
    ".option('initialPosition','earliest') \\\n",
    ".option('region','us-east-1') \\\n",
    ".option('awsAccessKey', ACCESS_KEY) \\\n",
    ".option('awsSecretKey', SECRET_KEY) \\\n",
    ".load()"
   ]
  },
  {
   "cell_type": "code",
   "execution_count": 0,
   "metadata": {
    "application/vnd.databricks.v1+cell": {
     "cellMetadata": {
      "byteLimit": 2048000,
      "rowLimit": 10000
     },
     "inputWidgets": {},
     "nuid": "7b66f483-149e-4728-a613-80015fcb626c",
     "showTitle": false,
     "title": ""
    }
   },
   "outputs": [
    {
     "output_type": "display_data",
     "data": {
      "text/html": [
       "<style scoped>\n",
       "  .ansiout {\n",
       "    display: block;\n",
       "    unicode-bidi: embed;\n",
       "    white-space: pre-wrap;\n",
       "    word-wrap: break-word;\n",
       "    word-break: break-all;\n",
       "    font-family: \"Menlo\", \"Monaco\", \"Consolas\", \"Ubuntu Mono\", \"Source Code Pro\", monospace;\n",
       "    font-size: 13px;\n",
       "    color: #555;\n",
       "    margin-left: 4px;\n",
       "    line-height: 19px;\n",
       "  }\n",
       "</style>\n",
       "<div class=\"ansiout\"></div>"
      ]
     },
     "metadata": {
      "application/vnd.databricks.v1+output": {
       "addedWidgets": {},
       "arguments": {},
       "data": "<div class=\"ansiout\"></div>",
       "datasetInfos": [],
       "metadata": {},
       "removedWidgets": [],
       "type": "html"
      }
     },
     "output_type": "display_data"
    }
   ],
   "source": [
    "df_user = spark \\\n",
    ".readStream \\\n",
    ".format('kinesis') \\\n",
    ".option('streamName','streaming-0ad8a60ac12f-user') \\\n",
    ".option('initialPosition','earliest') \\\n",
    ".option('region','us-east-1') \\\n",
    ".option('awsAccessKey', ACCESS_KEY) \\\n",
    ".option('awsSecretKey', SECRET_KEY) \\\n",
    ".load()"
   ]
  },
  {
   "cell_type": "code",
   "execution_count": 0,
   "metadata": {
    "application/vnd.databricks.v1+cell": {
     "cellMetadata": {
      "byteLimit": 2048000,
      "rowLimit": 10000
     },
     "inputWidgets": {},
     "nuid": "0e18150b-cc0d-4285-a1bd-e392b6a531e6",
     "showTitle": false,
     "title": ""
    }
   },
   "outputs": [
    {
     "output_type": "display_data",
     "data": {
      "text/html": [
       "<style scoped>\n",
       "  .table-result-container {\n",
       "    max-height: 300px;\n",
       "    overflow: auto;\n",
       "  }\n",
       "  table, th, td {\n",
       "    border: 1px solid black;\n",
       "    border-collapse: collapse;\n",
       "  }\n",
       "  th, td {\n",
       "    padding: 5px;\n",
       "  }\n",
       "  th {\n",
       "    text-align: left;\n",
       "  }\n",
       "</style><div class='table-result-container'><table class='table-result'><thead style='background-color: white'><tr><th>partitionKey</th><th>data</th><th>stream</th><th>shardId</th><th>sequenceNumber</th><th>approximateArrivalTimestamp</th></tr></thead><tbody></tbody></table></div>"
      ]
     },
     "metadata": {
      "application/vnd.databricks.v1+output": {
       "addedWidgets": {},
       "aggData": [],
       "aggError": "",
       "aggOverflow": false,
       "aggSchema": [],
       "aggSeriesLimitReached": false,
       "aggType": "",
       "arguments": {},
       "columnCustomDisplayInfos": {},
       "data": [],
       "datasetInfos": [],
       "dbfsResultPath": null,
       "isJsonSchema": true,
       "metadata": {
        "isDbfsCommandResult": false
       },
       "overflow": false,
       "plotOptions": {
        "customPlotOptions": {},
        "displayType": "table",
        "pivotAggregation": null,
        "pivotColumns": null,
        "xColumns": null,
        "yColumns": null
       },
       "removedWidgets": [],
       "schema": [
        {
         "metadata": "{}",
         "name": "partitionKey",
         "type": "\"string\""
        },
        {
         "metadata": "{}",
         "name": "data",
         "type": "\"binary\""
        },
        {
         "metadata": "{}",
         "name": "stream",
         "type": "\"string\""
        },
        {
         "metadata": "{}",
         "name": "shardId",
         "type": "\"string\""
        },
        {
         "metadata": "{}",
         "name": "sequenceNumber",
         "type": "\"string\""
        },
        {
         "metadata": "{}",
         "name": "approximateArrivalTimestamp",
         "type": "\"timestamp\""
        }
       ],
       "type": "table"
      }
     },
     "output_type": "display_data"
    }
   ],
   "source": [
    "display(df_pin)"
   ]
  },
  {
   "cell_type": "code",
   "execution_count": 0,
   "metadata": {
    "application/vnd.databricks.v1+cell": {
     "cellMetadata": {
      "byteLimit": 2048000,
      "rowLimit": 10000
     },
     "inputWidgets": {},
     "nuid": "62840cb6-a4e2-4d97-b5bc-4e53497fda1d",
     "showTitle": false,
     "title": ""
    }
   },
   "outputs": [
    {
     "output_type": "display_data",
     "data": {
      "text/html": [
       "<style scoped>\n",
       "  .table-result-container {\n",
       "    max-height: 300px;\n",
       "    overflow: auto;\n",
       "  }\n",
       "  table, th, td {\n",
       "    border: 1px solid black;\n",
       "    border-collapse: collapse;\n",
       "  }\n",
       "  th, td {\n",
       "    padding: 5px;\n",
       "  }\n",
       "  th {\n",
       "    text-align: left;\n",
       "  }\n",
       "</style><div class='table-result-container'><table class='table-result'><thead style='background-color: white'><tr><th>partitionKey</th><th>data</th><th>stream</th><th>shardId</th><th>sequenceNumber</th><th>approximateArrivalTimestamp</th></tr></thead><tbody></tbody></table></div>"
      ]
     },
     "metadata": {
      "application/vnd.databricks.v1+output": {
       "addedWidgets": {},
       "aggData": [],
       "aggError": "",
       "aggOverflow": false,
       "aggSchema": [],
       "aggSeriesLimitReached": false,
       "aggType": "",
       "arguments": {},
       "columnCustomDisplayInfos": {},
       "data": [],
       "datasetInfos": [],
       "dbfsResultPath": null,
       "isJsonSchema": true,
       "metadata": {
        "isDbfsCommandResult": false
       },
       "overflow": false,
       "plotOptions": {
        "customPlotOptions": {},
        "displayType": "table",
        "pivotAggregation": null,
        "pivotColumns": null,
        "xColumns": null,
        "yColumns": null
       },
       "removedWidgets": [],
       "schema": [
        {
         "metadata": "{}",
         "name": "partitionKey",
         "type": "\"string\""
        },
        {
         "metadata": "{}",
         "name": "data",
         "type": "\"binary\""
        },
        {
         "metadata": "{}",
         "name": "stream",
         "type": "\"string\""
        },
        {
         "metadata": "{}",
         "name": "shardId",
         "type": "\"string\""
        },
        {
         "metadata": "{}",
         "name": "sequenceNumber",
         "type": "\"string\""
        },
        {
         "metadata": "{}",
         "name": "approximateArrivalTimestamp",
         "type": "\"timestamp\""
        }
       ],
       "type": "table"
      }
     },
     "output_type": "display_data"
    }
   ],
   "source": [
    "display(df_geo)"
   ]
  },
  {
   "cell_type": "code",
   "execution_count": 0,
   "metadata": {
    "application/vnd.databricks.v1+cell": {
     "cellMetadata": {
      "byteLimit": 2048000,
      "rowLimit": 10000
     },
     "inputWidgets": {},
     "nuid": "2f6316ec-9416-43a2-b36e-25acafe005e2",
     "showTitle": false,
     "title": ""
    }
   },
   "outputs": [
    {
     "output_type": "display_data",
     "data": {
      "text/html": [
       "<style scoped>\n",
       "  .table-result-container {\n",
       "    max-height: 300px;\n",
       "    overflow: auto;\n",
       "  }\n",
       "  table, th, td {\n",
       "    border: 1px solid black;\n",
       "    border-collapse: collapse;\n",
       "  }\n",
       "  th, td {\n",
       "    padding: 5px;\n",
       "  }\n",
       "  th {\n",
       "    text-align: left;\n",
       "  }\n",
       "</style><div class='table-result-container'><table class='table-result'><thead style='background-color: white'><tr><th>partitionKey</th><th>data</th><th>stream</th><th>shardId</th><th>sequenceNumber</th><th>approximateArrivalTimestamp</th></tr></thead><tbody><tr><td>partition-user</td><td>eyJpbmQiOjc1MjgsImZpcnN0X25hbWUiOiJBYmlnYWlsIiwibGFzdF9uYW1lIjoiQWxpIiwiYWdlIjoyMCwiZGF0ZV9qb2luZWQiOiIyMDE1LTEwLTI0IDExOjIzOjUxIn0=</td><td>streaming-0ad8a60ac12f-user</td><td>shardId-000000000000</td><td>49648256421248313573246050223309610985396448393091350530</td><td>2024-01-14T15:59:44.638+0000</td></tr><tr><td>partition-user</td><td>eyJpbmQiOjI4NjMsImZpcnN0X25hbWUiOiJEeWxhbiIsImxhc3RfbmFtZSI6IkhvbG1lcyIsImFnZSI6MzIsImRhdGVfam9pbmVkIjoiMjAxNi0xMC0yMyAxNDowNjo1MSJ9</td><td>streaming-0ad8a60ac12f-user</td><td>shardId-000000000000</td><td>49648256421248313573246050225081896236951494900649558018</td><td>2024-01-14T15:59:47.500+0000</td></tr><tr><td>partition-user</td><td>eyJpbmQiOjU3MzAsImZpcnN0X25hbWUiOiJSYWNoZWwiLCJsYXN0X25hbWUiOiJEYXZpcyIsImFnZSI6MzYsImRhdGVfam9pbmVkIjoiMjAxNS0xMi0wOCAyMDowMjo0MyJ9</td><td>streaming-0ad8a60ac12f-user</td><td>shardId-000000000000</td><td>49648256421248313573246050226828794046294634264258412546</td><td>2024-01-14T15:59:50.415+0000</td></tr><tr><td>partition-user</td><td>eyJpbmQiOjgzMDQsImZpcnN0X25hbWUiOiJDaGFybGVzIiwibGFzdF9uYW1lIjoiQmVycnkiLCJhZ2UiOjI1LCJkYXRlX2pvaW5lZCI6IjIwMTUtMTItMjggMDQ6MjE6MzkifQ==</td><td>streaming-0ad8a60ac12f-user</td><td>shardId-000000000000</td><td>49648256421248313573246050228711091547434612095434358786</td><td>2024-01-14T15:59:53.296+0000</td></tr><tr><td>partition-user</td><td>eyJpbmQiOjg3MzEsImZpcnN0X25hbWUiOiJBbmRyZWEiLCJsYXN0X25hbWUiOiJBbGV4YW5kZXIiLCJhZ2UiOjIxLCJkYXRlX2pvaW5lZCI6IjIwMTUtMTEtMTAgMDk6Mjc6NDIifQ==</td><td>streaming-0ad8a60ac12f-user</td><td>shardId-000000000000</td><td>49648256421248313573246050229799124785087778421389393922</td><td>2024-01-14T15:59:55.151+0000</td></tr><tr><td>partition-user</td><td>eyJpbmQiOjEzMTMsImZpcnN0X25hbWUiOiJCcml0dGFueSIsImxhc3RfbmFtZSI6IkpvbmVzIiwiYWdlIjozMiwiZGF0ZV9qb2luZWQiOiIyMDE2LTA0LTAyIDAzOjUxOjIzIn0=</td><td>streaming-0ad8a60ac12f-user</td><td>shardId-000000000000</td><td>49648256421248313573246050230962111423557051893615165442</td><td>2024-01-14T15:59:56.951+0000</td></tr><tr><td>partition-user</td><td>eyJpbmQiOjQzMTUsImZpcnN0X25hbWUiOiJNaWNoZWxsZSIsImxhc3RfbmFtZSI6IlByaW5jZSIsImFnZSI6MzYsImRhdGVfam9pbmVkIjoiMjAxNS0xMi0yMCAxNjozODoxMyJ9</td><td>streaming-0ad8a60ac12f-user</td><td>shardId-000000000000</td><td>49648256421248313573246050232641309387001771954720997378</td><td>2024-01-14T15:59:59.837+0000</td></tr><tr><td>partition-user</td><td>eyJpbmQiOjEwNzk0LCJmaXJzdF9uYW1lIjoiVGhvbWFzIiwibGFzdF9uYW1lIjoiVHVybmVyIiwiYWdlIjozNCwiZGF0ZV9qb2luZWQiOiIyMDE2LTEyLTIyIDAwOjAyOjAyIn0=</td><td>streaming-0ad8a60ac12f-user</td><td>shardId-000000000000</td><td>49648256421248313573246050234877822153288836202805329922</td><td>2024-01-14T16:00:03.681+0000</td></tr><tr><td>partition-user</td><td>eyJpbmQiOjU0OTQsImZpcnN0X25hbWUiOiJBbm5lIiwibGFzdF9uYW1lIjoiQWxsZW4iLCJhZ2UiOjI3LCJkYXRlX2pvaW5lZCI6IjIwMTUtMTItMTYgMTU6MjA6MDUifQ==</td><td>streaming-0ad8a60ac12f-user</td><td>shardId-000000000000</td><td>49648256421248313573246050236147194263884196973685768194</td><td>2024-01-14T16:00:05.554+0000</td></tr><tr><td>partition-user</td><td>eyJpbmQiOjUwNjksImZpcnN0X25hbWUiOiJBbWFuZGEiLCJsYXN0X25hbWUiOiJCYWxsIiwiYWdlIjoyNSwiZGF0ZV9qb2luZWQiOiIyMDE2LTAxLTEzIDE3OjM2OjMwIn0=</td><td>streaming-0ad8a60ac12f-user</td><td>shardId-000000000000</td><td>49648256421248313573246050237383925377349962756849139714</td><td>2024-01-14T16:00:07.311+0000</td></tr><tr><td>partition-user</td><td>eyJpbmQiOjI5MjMsImZpcnN0X25hbWUiOiJCcmlhbiIsImxhc3RfbmFtZSI6Ik5lbHNvbiIsImFnZSI6MjYsImRhdGVfam9pbmVkIjoiMjAxNS0xMS0xMSAwMzoyMDo1NyJ9</td><td>streaming-0ad8a60ac12f-user</td><td>shardId-000000000000</td><td>49648256421248313573246050238670222449419928336175464450</td><td>2024-01-14T16:00:09.147+0000</td></tr><tr><td>partition-user</td><td>eyJpbmQiOjMwODksImZpcnN0X25hbWUiOiJBYmlnYWlsIiwibGFzdF9uYW1lIjoiQWxpIiwiYWdlIjoyMCwiZGF0ZV9qb2luZWQiOiIyMDE1LTEwLTI0IDExOjIzOjUxIn0=</td><td>streaming-0ad8a60ac12f-user</td><td>shardId-000000000000</td><td>49648256421248313573246050239942012411654518296685838338</td><td>2024-01-14T16:00:11.078+0000</td></tr><tr><td>partition-user</td><td>eyJpbmQiOjYwNjMsImZpcnN0X25hbWUiOiJDb3JleSIsImxhc3RfbmFtZSI6IkFuZHJld3MiLCJhZ2UiOjIzLCJkYXRlX2pvaW5lZCI6IjIwMTUtMTEtMjUgMTM6MzY6MjIifQ==</td><td>streaming-0ad8a60ac12f-user</td><td>shardId-000000000000</td><td>49648256421248313573246050241968172085328637068371296258</td><td>2024-01-14T16:00:13.965+0000</td></tr><tr><td>partition-user</td><td>eyJpbmQiOjM0NTQsImZpcnN0X25hbWUiOiJSb2JlcnQiLCJsYXN0X25hbWUiOiJNdXJwaHkiLCJhZ2UiOjQ4LCJkYXRlX2pvaW5lZCI6IjIwMTctMDktMjYgMTY6MzE6NTYifQ==</td><td>streaming-0ad8a60ac12f-user</td><td>shardId-000000000000</td><td>49648256421248313573246050244139402857356511203582541826</td><td>2024-01-14T16:00:16.954+0000</td></tr><tr><td>partition-user</td><td>eyJpbmQiOjc1NTQsImZpcnN0X25hbWUiOiJDaGVyeWwiLCJsYXN0X25hbWUiOiJIdWVydGEiLCJhZ2UiOjIwLCJkYXRlX2pvaW5lZCI6IjIwMTctMDQtMTEgMTY6MzU6MzMifQ==</td><td>streaming-0ad8a60ac12f-user</td><td>shardId-000000000000</td><td>49648256421248313573246050246128085830622576402132631554</td><td>2024-01-14T16:00:19.802+0000</td></tr><tr><td>partition-user</td><td>eyJpbmQiOjYxNDUsImZpcnN0X25hbWUiOiJFbWlseSIsImxhc3RfbmFtZSI6Ikhhd2tpbnMiLCJhZ2UiOjMwLCJkYXRlX2pvaW5lZCI6IjIwMTUtMTItMjUgMjA6MjQ6MzcifQ==</td><td>streaming-0ad8a60ac12f-user</td><td>shardId-000000000000</td><td>49648256421248313573246050248143365171920163442526257154</td><td>2024-01-14T16:00:22.657+0000</td></tr><tr><td>partition-user</td><td>eyJpbmQiOjEwNjI1LCJmaXJzdF9uYW1lIjoiQ2hyaXN0aWFuIiwibGFzdF9uYW1lIjoiTGFuZyIsImFnZSI6MzIsImRhdGVfam9pbmVkIjoiMjAxNy0xMC0xMCAyMDowOTozMyJ9</td><td>streaming-0ad8a60ac12f-user</td><td>shardId-000000000000</td><td>49648256421248313573246050249523958457920070028760186882</td><td>2024-01-14T16:00:24.599+0000</td></tr><tr><td>partition-user</td><td>eyJpbmQiOjI5NTksImZpcnN0X25hbWUiOiJEYXZpZCIsImxhc3RfbmFtZSI6IkdyaWZmaXRoIiwiYWdlIjoyMCwiZGF0ZV9qb2luZWQiOiIyMDE2LTAxLTA3IDE5OjQ5OjIyIn0=</td><td>streaming-0ad8a60ac12f-user</td><td>shardId-000000000000</td><td>49648256421248313573246050250929939186131883965101899778</td><td>2024-01-14T16:00:26.538+0000</td></tr><tr><td>partition-user</td><td>eyJpbmQiOjk4NzUsImZpcnN0X25hbWUiOiJCcmVuZGFuIiwibGFzdF9uYW1lIjoiSm9zZXBoIiwiYWdlIjoyNiwiZGF0ZV9qb2luZWQiOiIyMDE1LTEyLTIwIDEwOjI4OjAwIn0=</td><td>streaming-0ad8a60ac12f-user</td><td>shardId-000000000000</td><td>49648256421248313573246050252213818406562620286078812162</td><td>2024-01-14T16:00:28.415+0000</td></tr><tr><td>partition-user</td><td>eyJpbmQiOjI0MTgsImZpcnN0X25hbWUiOiJBbWFuZGEiLCJsYXN0X25hbWUiOiJBZGFtcyIsImFnZSI6MjAsImRhdGVfam9pbmVkIjoiMjAxNS0xMC0yMSAwODoyNzozNiJ9</td><td>streaming-0ad8a60ac12f-user</td><td>shardId-000000000000</td><td>49648256421248313573246050254061057058933773871188279298</td><td>2024-01-14T16:00:31.271+0000</td></tr><tr><td>partition-user</td><td>eyJpbmQiOjMxNTYsImZpcnN0X25hbWUiOiJBbmRyZXciLCJsYXN0X25hbWUiOiJCYWtlciIsImFnZSI6MjIsImRhdGVfam9pbmVkIjoiMjAxNS0xMi0yMSAwODowNjo1NCJ9</td><td>streaming-0ad8a60ac12f-user</td><td>shardId-000000000000</td><td>49648256421248313573246050255412636125262929425948737538</td><td>2024-01-14T16:00:33.245+0000</td></tr><tr><td>partition-user</td><td>eyJpbmQiOjQyOCwiZmlyc3RfbmFtZSI6IkNsYXVkaWEiLCJsYXN0X25hbWUiOiJBZGFtcyIsImFnZSI6MjAsImRhdGVfam9pbmVkIjoiMjAxNS0xMS0yOCAwMjoyMDoyOSJ9</td><td>streaming-0ad8a60ac12f-user</td><td>shardId-000000000000</td><td>49648256421248313573246050256587712021928349052482617346</td><td>2024-01-14T16:00:35.020+0000</td></tr><tr><td>partition-user</td><td>eyJpbmQiOjczNDMsImZpcnN0X25hbWUiOiJBbm5lIiwibGFzdF9uYW1lIjoiQ2xheXRvbiIsImFnZSI6MjQsImRhdGVfam9pbmVkIjoiMjAxNi0wMS0xMSAxMjowMzo0OCJ9</td><td>streaming-0ad8a60ac12f-user</td><td>shardId-000000000000</td><td>49648256421248313573246050257973141011206714224134848514</td><td>2024-01-14T16:00:36.960+0000</td></tr><tr><td>partition-user</td><td>eyJpbmQiOjIwNzQsImZpcnN0X25hbWUiOiJBbm5ldHRlIiwibGFzdF9uYW1lIjoiRm9yYmVzIiwiYWdlIjoyMSwiZGF0ZV9qb2luZWQiOiIyMDE2LTAxLTAzIDE1OjQyOjEyIn0=</td><td>streaming-0ad8a60ac12f-user</td><td>shardId-000000000000</td><td>49648256421248313573246050259920720506605882030744928258</td><td>2024-01-14T16:00:39.725+0000</td></tr><tr><td>partition-user</td><td>eyJpbmQiOjk5NzksImZpcnN0X25hbWUiOiJLYXlsZWUiLCJsYXN0X25hbWUiOiJNaWxsZXIiLCJhZ2UiOjMxLCJkYXRlX2pvaW5lZCI6IjIwMTYtMTEtMDkgMTk6NTA6NTEifQ==</td><td>streaming-0ad8a60ac12f-user</td><td>shardId-000000000000</td><td>49648256421248313573246050261132064177859740601239470082</td><td>2024-01-14T16:00:41.595+0000</td></tr><tr><td>partition-user</td><td>eyJpbmQiOjEwMTM4LCJmaXJzdF9uYW1lIjoiQ2Fyb2wiLCJsYXN0X25hbWUiOiJTaWx2YSIsImFnZSI6MjIsImRhdGVfam9pbmVkIjoiMjAxNS0xMi0zMSAxNDo1NzowMiJ9</td><td>streaming-0ad8a60ac12f-user</td><td>shardId-000000000000</td><td>49648256421248313573246050262518702092957720333346930690</td><td>2024-01-14T16:00:43.533+0000</td></tr><tr><td>partition-user</td><td>eyJpbmQiOjk2NzIsImZpcnN0X25hbWUiOiJKZW5uaWZlciIsImxhc3RfbmFtZSI6Ikh1ZHNvbiIsImFnZSI6MjIsImRhdGVfam9pbmVkIjoiMjAxNi0wMi0xMSAyMDo0NjowNCJ9</td><td>streaming-0ad8a60ac12f-user</td><td>shardId-000000000000</td><td>49648256421248313573246050264546070692451453734207094786</td><td>2024-01-14T16:00:46.355+0000</td></tr><tr><td>partition-user</td><td>eyJpbmQiOjg2NTMsImZpcnN0X25hbWUiOiJUYW1teSIsImxhc3RfbmFtZSI6IkRhdmlzIiwiYWdlIjoyNCwiZGF0ZV9qb2luZWQiOiIyMDE2LTAzLTA5IDEwOjQ4OjE0In0=</td><td>streaming-0ad8a60ac12f-user</td><td>shardId-000000000000</td><td>49648256421248313573246050266673780134973201219128918018</td><td>2024-01-14T16:00:49.423+0000</td></tr><tr><td>partition-user</td><td>eyJpbmQiOjg4ODcsImZpcnN0X25hbWUiOiJBdXN0aW4iLCJsYXN0X25hbWUiOiJSb2RyaWd1ZXoiLCJhZ2UiOjI0LCJkYXRlX2pvaW5lZCI6IjIwMTYtMDMtMzEgMjA6NTY6MzkifQ==</td><td>streaming-0ad8a60ac12f-user</td><td>shardId-000000000000</td><td>49648256421248313573246050268730162954137685651462553602</td><td>2024-01-14T16:00:52.263+0000</td></tr><tr><td>partition-user</td><td>eyJpbmQiOjc5MjIsImZpcnN0X25hbWUiOiJEZW5pc2UiLCJsYXN0X25hbWUiOiJBZGFtcyIsImFnZSI6MjEsImRhdGVfam9pbmVkIjoiMjAxNS0xMS0xMiAwNjoyMTozNiJ9</td><td>streaming-0ad8a60ac12f-user</td><td>shardId-000000000000</td><td>49648256421248313573246050270640265749128800022376218626</td><td>2024-01-14T16:00:55.061+0000</td></tr><tr><td>partition-user</td><td>eyJpbmQiOjEwMTQsImZpcnN0X25hbWUiOiJHcmVnb3J5IiwibGFzdF9uYW1lIjoiUmFtc2V5IiwiYWdlIjo1NiwiZGF0ZV9qb2luZWQiOiIyMDE2LTEwLTE1IDE3OjIxOjM5In0=</td><td>streaming-0ad8a60ac12f-user</td><td>shardId-000000000000</td><td>49648256421248313573246050272539488211743382661998051330</td><td>2024-01-14T16:00:57.946+0000</td></tr><tr><td>partition-user</td><td>eyJpbmQiOjQ5MTMsImZpcnN0X25hbWUiOiJBbmdlbGEiLCJsYXN0X25hbWUiOiJCcm9va3MiLCJhZ2UiOjI0LCJkYXRlX2pvaW5lZCI6IjIwMTUtMTEtMjAgMDU6Mzc6MTEifQ==</td><td>streaming-0ad8a60ac12f-user</td><td>shardId-000000000000</td><td>49648256421248313573246050273851172726025255385273729026</td><td>2024-01-14T16:00:59.915+0000</td></tr><tr><td>partition-user</td><td>eyJpbmQiOjQxMzcsImZpcnN0X25hbWUiOiJNaWNoYWVsIiwibGFzdF9uYW1lIjoiRGVja2VyIiwiYWdlIjo1OSwiZGF0ZV9qb2luZWQiOiIyMDE3LTA2LTI5IDIyOjM1OjE3In0=</td><td>streaming-0ad8a60ac12f-user</td><td>shardId-000000000000</td><td>49648256421248313573246050275757648743557525868663275522</td><td>2024-01-14T16:01:02.781+0000</td></tr><tr><td>partition-user</td><td>eyJpbmQiOjcxNjYsImZpcnN0X25hbWUiOiJBbHZpbiIsImxhc3RfbmFtZSI6IkFkYW1zIiwiYWdlIjoyMCwiZGF0ZV9qb2luZWQiOiIyMDE2LTAxLTAxIDEzOjUwOjQwIn0=</td><td>streaming-0ad8a60ac12f-user</td><td>shardId-000000000000</td><td>49648256421248313573246050277093511774231691175433076738</td><td>2024-01-14T16:01:04.793+0000</td></tr><tr><td>partition-user</td><td>eyJpbmQiOjk1NDYsImZpcnN0X25hbWUiOiJBbGV4IiwibGFzdF9uYW1lIjoiQmFybmVzIiwiYWdlIjoyMCwiZGF0ZV9qb2luZWQiOiIyMDE2LTAyLTI3IDIxOjEzOjQ0In0=</td><td>streaming-0ad8a60ac12f-user</td><td>shardId-000000000000</td><td>49648256421248313573246050279032628788893556509100736514</td><td>2024-01-14T16:01:07.722+0000</td></tr><tr><td>partition-user</td><td>eyJpbmQiOjI0MTEsImZpcnN0X25hbWUiOiJBYXJvbiIsImxhc3RfbmFtZSI6IkJhcnRsZXR0IiwiYWdlIjoyMSwiZGF0ZV9qb2luZWQiOiIyMDE1LTExLTI0IDAyOjE1OjM2In0=</td><td>streaming-0ad8a60ac12f-user</td><td>shardId-000000000000</td><td>49648256421248313573246050281091429459697270268503261186</td><td>2024-01-14T16:01:10.749+0000</td></tr><tr><td>partition-user</td><td>eyJpbmQiOjk1OTAsImZpcnN0X25hbWUiOiJBbWFuZGEiLCJsYXN0X25hbWUiOiJBbGxlbiIsImFnZSI6MjIsImRhdGVfam9pbmVkIjoiMjAxNS0xMC0yNCAxODo1NjozMCJ9</td><td>streaming-0ad8a60ac12f-user</td><td>shardId-000000000000</td><td>49648256421248313573246050282209685842840802323825950722</td><td>2024-01-14T16:01:12.649+0000</td></tr><tr><td>partition-user</td><td>eyJpbmQiOjI2OTgsImZpcnN0X25hbWUiOiJLYXlsYSIsImxhc3RfbmFtZSI6IkJ1cnRvbiIsImFnZSI6NDQsImRhdGVfam9pbmVkIjoiMjAxNy0wNi0yMSAxOTo1MzoyNyJ9</td><td>streaming-0ad8a60ac12f-user</td><td>shardId-000000000000</td><td>49648256421248313573246050283963837207101629531202519042</td><td>2024-01-14T16:01:15.581+0000</td></tr><tr><td>partition-user</td><td>eyJpbmQiOjQ1MDgsImZpcnN0X25hbWUiOiJNaWNoYWVsIiwibGFzdF9uYW1lIjoiQ2FydGVyIiwiYWdlIjo1OCwiZGF0ZV9qb2luZWQiOiIyMDE2LTA2LTAzIDIzOjM1OjMwIn0=</td><td>streaming-0ad8a60ac12f-user</td><td>shardId-000000000000</td><td>49648256421248313573246050285131659548849361382688161794</td><td>2024-01-14T16:01:17.455+0000</td></tr><tr><td>partition-user</td><td>eyJpbmQiOjgzMSwiZmlyc3RfbmFtZSI6IkFpbWVlIiwibGFzdF9uYW1lIjoiQ29sbGlucyIsImFnZSI6MjgsImRhdGVfam9pbmVkIjoiMjAxNi0wNi0xNiAwMjowNjozOCJ9</td><td>streaming-0ad8a60ac12f-user</td><td>shardId-000000000000</td><td>49648256421248313573246050286223319563961371733606268930</td><td>2024-01-14T16:01:19.284+0000</td></tr><tr><td>partition-user</td><td>eyJpbmQiOjUwNzYsImZpcnN0X25hbWUiOiJDaHJpc3RvcGhlciIsImxhc3RfbmFtZSI6IkJ1dGxlciIsImFnZSI6MjAsImRhdGVfam9pbmVkIjoiMjAxNS0xMi0wMSAxNTowODozMSJ9</td><td>streaming-0ad8a60ac12f-user</td><td>shardId-000000000000</td><td>49648256421248313573246050287229145845880743275681284098</td><td>2024-01-14T16:01:21.207+0000</td></tr><tr><td>partition-user</td><td>eyJpbmQiOjEwNjYzLCJmaXJzdF9uYW1lIjoiSnVsaWUiLCJsYXN0X25hbWUiOiJDb3giLCJhZ2UiOjIzLCJkYXRlX2pvaW5lZCI6IjIwMTYtMDYtMjMgMTQ6Mzg6MDAifQ==</td><td>streaming-0ad8a60ac12f-user</td><td>shardId-000000000000</td><td>49648256421248313573246050288286955938043544009707618306</td><td>2024-01-14T16:01:23.088+0000</td></tr><tr><td>partition-user</td><td>eyJpbmQiOjU0NjgsImZpcnN0X25hbWUiOiJMaXNhIiwibGFzdF9uYW1lIjoiR2FtYmxlIiwiYWdlIjoyMCwiZGF0ZV9qb2luZWQiOiIyMDE2LTA3LTIzIDIwOjUxOjA2In0=</td><td>streaming-0ad8a60ac12f-user</td><td>shardId-000000000000</td><td>49648256421248313573246050289973407456405951845861687298</td><td>2024-01-14T16:01:25.914+0000</td></tr><tr><td>partition-user</td><td>eyJpbmQiOjIwNSwiZmlyc3RfbmFtZSI6IkJyZXR0IiwibGFzdF9uYW1lIjoiQnJ5YW50IiwiYWdlIjoyMCwiZGF0ZV9qb2luZWQiOiIyMDE1LTEwLTIzIDEyOjQwOjE5In0=</td><td>streaming-0ad8a60ac12f-user</td><td>shardId-000000000000</td><td>49648256421248313573246050291698544600996027884325830658</td><td>2024-01-14T16:01:28.839+0000</td></tr><tr><td>partition-user</td><td>eyJpbmQiOjc3OTAsImZpcnN0X25hbWUiOiJNaWNoZWxsZSIsImxhc3RfbmFtZSI6Ikd1dGllcnJleiIsImFnZSI6MzksImRhdGVfam9pbmVkIjoiMjAxNy0wNy0xOSAwNzoxMjowNCJ9</td><td>streaming-0ad8a60ac12f-user</td><td>shardId-000000000000</td><td>49648256421248313573246050292735802954225379784943206402</td><td>2024-01-14T16:01:30.688+0000</td></tr><tr><td>partition-user</td><td>eyJpbmQiOjg2MDYsImZpcnN0X25hbWUiOiJEZW5pc2UiLCJsYXN0X25hbWUiOiJBZGFtcyIsImFnZSI6MjEsImRhdGVfam9pbmVkIjoiMjAxNS0xMS0xMiAwNjoyMTozNiJ9</td><td>streaming-0ad8a60ac12f-user</td><td>shardId-000000000000</td><td>49648256421248313573246050293889118186137736223771328514</td><td>2024-01-14T16:01:32.645+0000</td></tr><tr><td>partition-user</td><td>eyJpbmQiOjk3NTksImZpcnN0X25hbWUiOiJEYW5pZWwiLCJsYXN0X25hbWUiOiJCcm9va3MiLCJhZ2UiOjI1LCJkYXRlX2pvaW5lZCI6IjIwMTUtMTEtMTkgMjE6MjQ6MzMifQ==</td><td>streaming-0ad8a60ac12f-user</td><td>shardId-000000000000</td><td>49648256421248313573246050294861094545107898217674047490</td><td>2024-01-14T16:01:34.502+0000</td></tr><tr><td>partition-user</td><td>eyJpbmQiOjcxOSwiZmlyc3RfbmFtZSI6IkFsaWNpYSIsImxhc3RfbmFtZSI6IkF2aWxhIiwiYWdlIjoyMCwiZGF0ZV9qb2luZWQiOiIyMDE2LTAxLTI2IDAxOjQ5OjIzIn0=</td><td>streaming-0ad8a60ac12f-user</td><td>shardId-000000000000</td><td>49648256421248313573246050295864502975388040570119127042</td><td>2024-01-14T16:01:36.389+0000</td></tr><tr><td>partition-user</td><td>eyJpbmQiOjE3MDQsImZpcnN0X25hbWUiOiJCYXJyeSIsImxhc3RfbmFtZSI6Ikx5bm4iLCJhZ2UiOjIwLCJkYXRlX2pvaW5lZCI6IjIwMTUtMTAtMjggMDU6MDA6MzMifQ==</td><td>streaming-0ad8a60ac12f-user</td><td>shardId-000000000000</td><td>49648256421248313573246050297304333626549064054633136130</td><td>2024-01-14T16:01:39.197+0000</td></tr><tr><td>partition-user</td><td>eyJpbmQiOjI0ODIsImZpcnN0X25hbWUiOiJEYXZpZCIsImxhc3RfbmFtZSI6Ik1vc3MiLCJhZ2UiOjIyLCJkYXRlX2pvaW5lZCI6IjIwMTYtMDMtMDEgMDc6MTE6NDgifQ==</td><td>streaming-0ad8a60ac12f-user</td><td>shardId-000000000000</td><td>49648256421248313573246050298888026450244228548376133634</td><td>2024-01-14T16:01:42.074+0000</td></tr><tr><td>partition-user</td><td>eyJpbmQiOjg5MzAsImZpcnN0X25hbWUiOiJBbmRyZXciLCJsYXN0X25hbWUiOiJBbmRlcnNvbiIsImFnZSI6MjMsImRhdGVfam9pbmVkIjoiMjAxNS0xMS0yOCAxMTo1MjozNyJ9</td><td>streaming-0ad8a60ac12f-user</td><td>shardId-000000000000</td><td>49648256421248313573246050300576895820245865642879614978</td><td>2024-01-14T16:01:44.976+0000</td></tr><tr><td>partition-user</td><td>eyJpbmQiOjcyOTQsImZpcnN0X25hbWUiOiJEYXduIiwibGFzdF9uYW1lIjoiQW5kZXJzb24iLCJhZ2UiOjIwLCJkYXRlX2pvaW5lZCI6IjIwMTYtMTItMzEgMDA6MDY6MzYifQ==</td><td>streaming-0ad8a60ac12f-user</td><td>shardId-000000000000</td><td>49648256421248313573246050301540409698478725301278867458</td><td>2024-01-14T16:01:46.776+0000</td></tr><tr><td>partition-user</td><td>eyJpbmQiOjgwOCwiZmlyc3RfbmFtZSI6IkFhcm9uIiwibGFzdF9uYW1lIjoiQmFydGxldHQiLCJhZ2UiOjIxLCJkYXRlX2pvaW5lZCI6IjIwMTUtMTEtMjQgMDI6MTU6MzYifQ==</td><td>streaming-0ad8a60ac12f-user</td><td>shardId-000000000000</td><td>49648256421248313573246050302572832348429618685197418498</td><td>2024-01-14T16:01:48.545+0000</td></tr><tr><td>partition-user</td><td>eyJpbmQiOjc3MSwiZmlyc3RfbmFtZSI6IkJyaXR0YW55IiwibGFzdF9uYW1lIjoiQnV0bGVyIiwiYWdlIjozMiwiZGF0ZV9qb2luZWQiOiIyMDE2LTAzLTEwIDA0OjExOjMxIn0=</td><td>streaming-0ad8a60ac12f-user</td><td>shardId-000000000000</td><td>49648256421248313573246050304216971463105514500236771330</td><td>2024-01-14T16:01:51.430+0000</td></tr><tr><td>partition-user</td><td>eyJpbmQiOjQwNzYsImZpcnN0X25hbWUiOiJMYXJyeSIsImxhc3RfbmFtZSI6IlBpbmVkYSIsImFnZSI6MjAsImRhdGVfam9pbmVkIjoiMjAxNS0xMC0yMyAyMjo0NzozOSJ9</td><td>streaming-0ad8a60ac12f-user</td><td>shardId-000000000000</td><td>49648256421248313573246050305213126338467969146353090562</td><td>2024-01-14T16:01:53.275+0000</td></tr><tr><td>partition-user</td><td>eyJpbmQiOjE1NDUsImZpcnN0X25hbWUiOiJKb25hdGhhbiIsImxhc3RfbmFtZSI6IkF2aWxhIiwiYWdlIjo0NiwiZGF0ZV9qb2luZWQiOiIyMDE1LTExLTI3IDIzOjExOjIxIn0=</td><td>streaming-0ad8a60ac12f-user</td><td>shardId-000000000000</td><td>49648256421248313573246050306176640216700828667313389570</td><td>2024-01-14T16:01:55.079+0000</td></tr><tr><td>partition-user</td><td>eyJpbmQiOjIyOTMsImZpcnN0X25hbWUiOiJBbGV4IiwibGFzdF9uYW1lIjoiQmVhbiIsImFnZSI6MjQsImRhdGVfam9pbmVkIjoiMjAxNi0wMS0xMSAyMzowODoyNyJ9</td><td>streaming-0ad8a60ac12f-user</td><td>shardId-000000000000</td><td>49648256421248313573246050307200600385914419715728474114</td><td>2024-01-14T16:01:56.959+0000</td></tr><tr><td>partition-user</td><td>eyJpbmQiOjEwNTA5LCJmaXJzdF9uYW1lIjoiQnJpdHRhbnkiLCJsYXN0X25hbWUiOiJUaG9tcHNvbiIsImFnZSI6NDksImRhdGVfam9pbmVkIjoiMjAxNi0wNC0yMiAyMDozNjowMiJ9</td><td>streaming-0ad8a60ac12f-user</td><td>shardId-000000000000</td><td>49648256421248313573246050308153233931770747642835894274</td><td>2024-01-14T16:01:58.829+0000</td></tr><tr><td>partition-user</td><td>eyJpbmQiOjIwMTUsImZpcnN0X25hbWUiOiJDaHJpc3RvcGhlciIsImxhc3RfbmFtZSI6IkJyYWRzaGF3IiwiYWdlIjoyNywiZGF0ZV9qb2luZWQiOiIyMDE2LTAzLTA4IDEzOjM4OjM3In0=</td><td>streaming-0ad8a60ac12f-user</td><td>shardId-000000000000</td><td>49648256421248313573246050309186865507541255724648628226</td><td>2024-01-14T16:02:00.625+0000</td></tr><tr><td>partition-user</td><td>eyJpbmQiOjEwOTQsImZpcnN0X25hbWUiOiJBbm4iLCJsYXN0X25hbWUiOiJFbGxpb3R0IiwiYWdlIjoyMCwiZGF0ZV9qb2luZWQiOiIyMDE2LTA3LTAyIDAyOjMyOjMwIn0=</td><td>streaming-0ad8a60ac12f-user</td><td>shardId-000000000000</td><td>49648256421248313573246050310849138509511371046028050434</td><td>2024-01-14T16:02:03.558+0000</td></tr><tr><td>partition-user</td><td>eyJpbmQiOjYwMywiZmlyc3RfbmFtZSI6IkJyYW5kb24iLCJsYXN0X25hbWUiOiJKYWNrc29uIiwiYWdlIjo0NCwiZGF0ZV9qb2luZWQiOiIyMDE2LTEwLTI5IDAyOjA3OjIxIn0=</td><td>streaming-0ad8a60ac12f-user</td><td>shardId-000000000000</td><td>49648256421248313573246050312467890181975359717118050306</td><td>2024-01-14T16:02:06.396+0000</td></tr><tr><td>partition-user</td><td>eyJpbmQiOjc3NjgsImZpcnN0X25hbWUiOiJDaHJpc3RpbmUiLCJsYXN0X25hbWUiOiJDb3J0ZXoiLCJhZ2UiOjIzLCJkYXRlX2pvaW5lZCI6IjIwMTUtMTItMDEgMTg6MTU6MDIifQ==</td><td>streaming-0ad8a60ac12f-user</td><td>shardId-000000000000</td><td>49648256421248313573246050314176102365090830947136307202</td><td>2024-01-14T16:02:09.342+0000</td></tr><tr><td>partition-user</td><td>eyJpbmQiOjU2MzAsImZpcnN0X25hbWUiOiJDYXJsb3MiLCJsYXN0X25hbWUiOiJFc3RyYWRhIiwiYWdlIjoyMiwiZGF0ZV9qb2luZWQiOiIyMDE2LTAyLTA5IDE3OjAxOjM4In0=</td><td>streaming-0ad8a60ac12f-user</td><td>shardId-000000000000</td><td>49648256421248313573246050315920582322794740983676272642</td><td>2024-01-14T16:02:12.285+0000</td></tr><tr><td>partition-user</td><td>eyJpbmQiOjg1NzgsImZpcnN0X25hbWUiOiJKb2UiLCJsYXN0X25hbWUiOiJQaGFtIiwiYWdlIjo0OCwiZGF0ZV9qb2luZWQiOiIyMDE3LTA2LTAxIDIzOjEzOjI3In0=</td><td>streaming-0ad8a60ac12f-user</td><td>shardId-000000000000</td><td>49648256421248313573246050317684405093612485224450490370</td><td>2024-01-14T16:02:15.146+0000</td></tr><tr><td>partition-user</td><td>eyJpbmQiOjk5MzYsImZpcnN0X25hbWUiOiJBbnRob255IiwibGFzdF9uYW1lIjoiQ2FudHUiLCJhZ2UiOjI4LCJkYXRlX2pvaW5lZCI6IjIwMTYtMTEtMTUgMTA6NDA6MDMifQ==</td><td>streaming-0ad8a60ac12f-user</td><td>shardId-000000000000</td><td>49648256421248313573246050318890913061587885209526730754</td><td>2024-01-14T16:02:17.027+0000</td></tr><tr><td>partition-user</td><td>eyJpbmQiOjY4NDQsImZpcnN0X25hbWUiOiJQZXRlciIsImxhc3RfbmFtZSI6IlJvYmVydHMiLCJhZ2UiOjMwLCJkYXRlX2pvaW5lZCI6IjIwMTYtMDctMDMgMTA6NTk6NDAifQ==</td><td>streaming-0ad8a60ac12f-user</td><td>shardId-000000000000</td><td>49648256421248313573246050320774419488547477738596859906</td><td>2024-01-14T16:02:19.911+0000</td></tr><tr><td>partition-user</td><td>eyJpbmQiOjM0MTksImZpcnN0X25hbWUiOiJBYXJvbiIsImxhc3RfbmFtZSI6IkplbmtpbnMiLCJhZ2UiOjQ3LCJkYXRlX2pvaW5lZCI6IjIwMTctMDQtMjYgMDM6MjY6MjMifQ==</td><td>streaming-0ad8a60ac12f-user</td><td>shardId-000000000000</td><td>49648256421248313573246050321990598863079794757070749698</td><td>2024-01-14T16:02:21.753+0000</td></tr><tr><td>partition-user</td><td>eyJpbmQiOjEyNjgsImZpcnN0X25hbWUiOiJEb25uYSIsImxhc3RfbmFtZSI6IkNhbXBiZWxsIiwiYWdlIjozMiwiZGF0ZV9qb2luZWQiOiIyMDE2LTA2LTA4IDIyOjEwOjEzIn0=</td><td>streaming-0ad8a60ac12f-user</td><td>shardId-000000000000</td><td>49648256421248313573246050324028847794950059820503269378</td><td>2024-01-14T16:02:24.700+0000</td></tr><tr><td>partition-user</td><td>eyJpbmQiOjY1NjYsImZpcnN0X25hbWUiOiJBbGV4YW5kZXIiLCJsYXN0X25hbWUiOiJQZXJleiIsImFnZSI6MzEsImRhdGVfam9pbmVkIjoiMjAxNy0wOC0wNCAxNDozMDoyMiJ9</td><td>streaming-0ad8a60ac12f-user</td><td>shardId-000000000000</td><td>49648256421248313573246050325980054067808071445917990914</td><td>2024-01-14T16:02:27.550+0000</td></tr><tr><td>partition-user</td><td>eyJpbmQiOjE1NTUsImZpcnN0X25hbWUiOiJBbGV4aXMiLCJsYXN0X25hbWUiOiJCZW5uZXR0IiwiYWdlIjo1NCwiZGF0ZV9qb2luZWQiOiIyMDE2LTA1LTE1IDA0OjIyOjAxIn0=</td><td>streaming-0ad8a60ac12f-user</td><td>shardId-000000000000</td><td>49648256421248313573246050327677385918547010944644415490</td><td>2024-01-14T16:02:30.354+0000</td></tr><tr><td>partition-user</td><td>eyJpbmQiOjM3MjksImZpcnN0X25hbWUiOiJSaWNoYXJkIiwibGFzdF9uYW1lIjoiRWR3YXJkcyIsImFnZSI6NTIsImRhdGVfam9pbmVkIjoiMjAxNi0wMi0wNyAyMDowMDoyNSJ9</td><td>streaming-0ad8a60ac12f-user</td><td>shardId-000000000000</td><td>49648256421248313573246050328831910076278982012647243778</td><td>2024-01-14T16:02:32.206+0000</td></tr><tr><td>partition-user</td><td>eyJpbmQiOjYzOTgsImZpcnN0X25hbWUiOiJDaHJpc3RpbmEiLCJsYXN0X25hbWUiOiJEYXZlbnBvcnQiLCJhZ2UiOjM5LCJkYXRlX2pvaW5lZCI6IjIwMTYtMDYtMjkgMjA6NDM6NTkifQ==</td><td>streaming-0ad8a60ac12f-user</td><td>shardId-000000000000</td><td>49648256421248313573246050329973136049995192091008827394</td><td>2024-01-14T16:02:34.074+0000</td></tr><tr><td>partition-user</td><td>eyJpbmQiOjQ2LCJmaXJzdF9uYW1lIjoiRXJpayIsImxhc3RfbmFtZSI6IktlbGxleSIsImFnZSI6MzAsImRhdGVfam9pbmVkIjoiMjAxNi0wMS0wNiAwOTo1ODo1NiJ9</td><td>streaming-0ad8a60ac12f-user</td><td>shardId-000000000000</td><td>49648256421248313573246050331799822963432896980148289538</td><td>2024-01-14T16:02:36.975+0000</td></tr><tr><td>partition-user</td><td>eyJpbmQiOjQ5ODgsImZpcnN0X25hbWUiOiJSaG9uZGEiLCJsYXN0X25hbWUiOiJEdXJoYW0iLCJhZ2UiOjI1LCJkYXRlX2pvaW5lZCI6IjIwMTctMDctMjAgMDU6NTE6MjMifQ==</td><td>streaming-0ad8a60ac12f-user</td><td>shardId-000000000000</td><td>49648256421248313573246050333714761461702469730321825794</td><td>2024-01-14T16:02:39.857+0000</td></tr><tr><td>partition-user</td><td>eyJpbmQiOjQyNywiZmlyc3RfbmFtZSI6IkpvbiIsImxhc3RfbmFtZSI6IkJ1cmtlIiwiYWdlIjoyNSwiZGF0ZV9qb2luZWQiOiIyMDE1LTExLTI2IDE3OjQyOjM3In0=</td><td>streaming-0ad8a60ac12f-user</td><td>shardId-000000000000</td><td>49648256421248313573246050334847524954681377404460466178</td><td>2024-01-14T16:02:41.690+0000</td></tr><tr><td>partition-user</td><td>eyJpbmQiOjM4MDAsImZpcnN0X25hbWUiOiJBZGFtIiwibGFzdF9uYW1lIjoiQXJtc3Ryb25nIiwiYWdlIjoyMCwiZGF0ZV9qb2luZWQiOiIyMDE1LTEyLTE3IDA4OjQzOjQwIn0=</td><td>streaming-0ad8a60ac12f-user</td><td>shardId-000000000000</td><td>49648256421248313573246050336772134859507867256751128578</td><td>2024-01-14T16:02:44.590+0000</td></tr><tr><td>partition-user</td><td>eyJpbmQiOjE1OSwiZmlyc3RfbmFtZSI6IkFsaXNvbiIsImxhc3RfbmFtZSI6IkJlbGwiLCJhZ2UiOjIxLCJkYXRlX2pvaW5lZCI6IjIwMTYtMDEtMDcgMDg6MTE6MzUifQ==</td><td>streaming-0ad8a60ac12f-user</td><td>shardId-000000000000</td><td>49648256421248313573246050338558927220898289314405810178</td><td>2024-01-14T16:02:47.445+0000</td></tr><tr><td>partition-user</td><td>eyJpbmQiOjM1OTksImZpcnN0X25hbWUiOiJBbGV4YW5kcmlhIiwibGFzdF9uYW1lIjoiQWx2YXJhZG8iLCJhZ2UiOjIwLCJkYXRlX2pvaW5lZCI6IjIwMTUtMTAtMjMgMDQ6MTM6MjMifQ==</td><td>streaming-0ad8a60ac12f-user</td><td>shardId-000000000000</td><td>49648256421248313573246050339744883449940240740950999042</td><td>2024-01-14T16:02:49.308+0000</td></tr><tr><td>partition-user</td><td>eyJpbmQiOjEwNTUyLCJmaXJzdF9uYW1lIjoiTWljaGFlbCIsImxhc3RfbmFtZSI6Ikh1bnRlciIsImFnZSI6NDAsImRhdGVfam9pbmVkIjoiMjAxNy0wNS0xNiAwNzowOToyMSJ9</td><td>streaming-0ad8a60ac12f-user</td><td>shardId-000000000000</td><td>49648256421248313573246050341563107882640643157148041218</td><td>2024-01-14T16:02:52.172+0000</td></tr><tr><td>partition-user</td><td>eyJpbmQiOjE0MjIsImZpcnN0X25hbWUiOiJBYXJvbiIsImxhc3RfbmFtZSI6IkFiYm90dCIsImFnZSI6MjAsImRhdGVfam9pbmVkIjoiMjAxNS0xMC0zMSAxODo1MTowNyJ9</td><td>streaming-0ad8a60ac12f-user</td><td>shardId-000000000000</td><td>49648256421248313573246050342753899814961053031672578050</td><td>2024-01-14T16:02:53.978+0000</td></tr><tr><td>partition-user</td><td>eyJpbmQiOjUzMDksImZpcnN0X25hbWUiOiJEYW5pZWwiLCJsYXN0X25hbWUiOiJSb3kiLCJhZ2UiOjMxLCJkYXRlX2pvaW5lZCI6IjIwMTYtMDMtMDcgMDE6MDE6MjQifQ==</td><td>streaming-0ad8a60ac12f-user</td><td>shardId-000000000000</td><td>49648256421248313573246050344610809873889123650179694594</td><td>2024-01-14T16:02:56.855+0000</td></tr><tr><td>partition-user</td><td>eyJpbmQiOjU1MiwiZmlyc3RfbmFtZSI6IlJlZ2luYSIsImxhc3RfbmFtZSI6Ik1vcmFsZXMiLCJhZ2UiOjIwLCJkYXRlX2pvaW5lZCI6IjIwMTctMDEtMTcgMDE6NDk6MjcifQ==</td><td>streaming-0ad8a60ac12f-user</td><td>shardId-000000000000</td><td>49648256421248313573246050346384304051263784855632084994</td><td>2024-01-14T16:02:59.772+0000</td></tr><tr><td>partition-user</td><td>eyJpbmQiOjEzNzEsImZpcnN0X25hbWUiOiJBbWFuZGEiLCJsYXN0X25hbWUiOiJCcm93biIsImFnZSI6MjAsImRhdGVfam9pbmVkIjoiMjAxNS0xMS0xMiAwMzoyMzo0OSJ9</td><td>streaming-0ad8a60ac12f-user</td><td>shardId-000000000000</td><td>49648256421248313573246050347547290689733058259138379778</td><td>2024-01-14T16:03:01.729+0000</td></tr><tr><td>partition-user</td><td>eyJpbmQiOjEwMTE5LCJmaXJzdF9uYW1lIjoiQ2hlbHNlYSIsImxhc3RfbmFtZSI6IkdvbnphbGV6IiwiYWdlIjo0MywiZGF0ZV9qb2luZWQiOiIyMDE2LTA3LTIxIDE1OjI1OjA4In0=</td><td>streaming-0ad8a60ac12f-user</td><td>shardId-000000000000</td><td>49648256421248313573246050348652248888860829462258778114</td><td>2024-01-14T16:03:03.587+0000</td></tr><tr><td>partition-user</td><td>eyJpbmQiOjkwNzQsImZpcnN0X25hbWUiOiJBYXJvbiIsImxhc3RfbmFtZSI6IkFsZXhhbmRlciIsImFnZSI6MjEsImRhdGVfam9pbmVkIjoiMjAxNS0xMC0yNSAwNzozNjowOCJ9</td><td>streaming-0ad8a60ac12f-user</td><td>shardId-000000000000</td><td>49648256421248313573246050350611917642456143560615919618</td><td>2024-01-14T16:03:06.448+0000</td></tr><tr><td>partition-user</td><td>eyJpbmQiOjI2MDQsImZpcnN0X25hbWUiOiJBc2hsZXkiLCJsYXN0X25hbWUiOiJFdmFucyIsImFnZSI6MzAsImRhdGVfam9pbmVkIjoiMjAxNi0wMi0yMSAxMjo1NDowMSJ9</td><td>streaming-0ad8a60ac12f-user</td><td>shardId-000000000000</td><td>49648256421248313573246050351855902310839597118827528194</td><td>2024-01-14T16:03:08.328+0000</td></tr><tr><td>partition-user</td><td>eyJpbmQiOjIyMywiZmlyc3RfbmFtZSI6Ik1lbGFuaWUiLCJsYXN0X25hbWUiOiJIaWxsIiwiYWdlIjo1MSwiZGF0ZV9qb2luZWQiOiIyMDE2LTEwLTA5IDE0OjQ3OjUxIn0=</td><td>streaming-0ad8a60ac12f-user</td><td>shardId-000000000000</td><td>49648256421248313573246050353053947798077694699680825346</td><td>2024-01-14T16:03:10.196+0000</td></tr><tr><td>partition-user</td><td>eyJpbmQiOjgzMTIsImZpcnN0X25hbWUiOiJEYW5pZWwiLCJsYXN0X25hbWUiOiJCcm9va3MiLCJhZ2UiOjI1LCJkYXRlX2pvaW5lZCI6IjIwMTUtMTEtMTkgMjE6MjQ6MzMifQ==</td><td>streaming-0ad8a60ac12f-user</td><td>shardId-000000000000</td><td>49648256421248313573246050354943498854135360374624485378</td><td>2024-01-14T16:03:13.115+0000</td></tr><tr><td>partition-user</td><td>eyJpbmQiOjI4NTgsImZpcnN0X25hbWUiOiJBbm5lIiwibGFzdF9uYW1lIjoiQm9uZCIsImFnZSI6MjEsImRhdGVfam9pbmVkIjoiMjAxNS0xMi0yNyAyMzo0Mzo0MiJ9</td><td>streaming-0ad8a60ac12f-user</td><td>shardId-000000000000</td><td>49648256421248313573246050356800408913063430924412125186</td><td>2024-01-14T16:03:15.955+0000</td></tr><tr><td>partition-user</td><td>eyJpbmQiOjYyNjEsImZpcnN0X25hbWUiOiJOaWNob2xhcyIsImxhc3RfbmFtZSI6IkhhcnQiLCJhZ2UiOjM4LCJkYXRlX2pvaW5lZCI6IjIwMTUtMTAtMjYgMDk6NDU6NDUifQ==</td><td>streaming-0ad8a60ac12f-user</td><td>shardId-000000000000</td><td>49648256421248313573246050358595663755191155455009226754</td><td>2024-01-14T16:03:18.791+0000</td></tr><tr><td>partition-user</td><td>eyJpbmQiOjMyMDEsImZpcnN0X25hbWUiOiJFbGl6YWJldGgiLCJsYXN0X25hbWUiOiJUZXJyeSIsImFnZSI6MjgsImRhdGVfam9pbmVkIjoiMjAxNi0wMS0yOSAyMDozMjowNSJ9</td><td>streaming-0ad8a60ac12f-user</td><td>shardId-000000000000</td><td>49648256421248313573246050360364322229287358143762792450</td><td>2024-01-14T16:03:21.548+0000</td></tr><tr><td>partition-user</td><td>eyJpbmQiOjI2MzcsImZpcnN0X25hbWUiOiJTaGF3biIsImxhc3RfbmFtZSI6IkpvbmVzIiwiYWdlIjozMiwiZGF0ZV9qb2luZWQiOiIyMDE2LTA4LTIzIDIwOjM2OjEyIn0=</td><td>streaming-0ad8a60ac12f-user</td><td>shardId-000000000000</td><td>49648256421248313573246050361581710529639289860130865154</td><td>2024-01-14T16:03:23.372+0000</td></tr><tr><td>partition-user</td><td>eyJpbmQiOjExOTgsImZpcnN0X25hbWUiOiJBcmlhbmEiLCJsYXN0X25hbWUiOiJHcm9zcyIsImFnZSI6NTksImRhdGVfam9pbmVkIjoiMjAxNi0xMi0xNyAxMToxMDo0OCJ9</td><td>streaming-0ad8a60ac12f-user</td><td>shardId-000000000000</td><td>49648256421248313573246050363356413632833565626038484994</td><td>2024-01-14T16:03:26.152+0000</td></tr><tr><td>partition-user</td><td>eyJpbmQiOjEwMzcwLCJmaXJzdF9uYW1lIjoiRGVycmljayIsImxhc3RfbmFtZSI6IktpbSIsImFnZSI6MzAsImRhdGVfam9pbmVkIjoiMjAxNi0xMi0yMSAxMzozOToxNCJ9</td><td>streaming-0ad8a60ac12f-user</td><td>shardId-000000000000</td><td>49648256421248313573246050365191563027008572988120367106</td><td>2024-01-14T16:03:29.023+0000</td></tr><tr><td>partition-user</td><td>eyJpbmQiOjcxNjcsImZpcnN0X25hbWUiOiJEYXduIiwibGFzdF9uYW1lIjoiQnJhZGxleSIsImFnZSI6MjAsImRhdGVfam9pbmVkIjoiMjAxNi0wOC0yNiAxNjowOTo1MiJ9</td><td>streaming-0ad8a60ac12f-user</td><td>shardId-000000000000</td><td>49648256421248313573246050366344878258920929289509535746</td><td>2024-01-14T16:03:30.746+0000</td></tr><tr><td>partition-user</td><td>eyJpbmQiOjEwNjczLCJmaXJzdF9uYW1lIjoiQWxleGFuZGVyIiwibGFzdF9uYW1lIjoiQ2VydmFudGVzIiwiYWdlIjo1OSwiZGF0ZV9qb2luZWQiOiIyMDE3LTA1LTEyIDIxOjIyOjE3In0=</td><td>streaming-0ad8a60ac12f-user</td><td>shardId-000000000000</td><td>49648256421248313573246050367568311188370934220470616066</td><td>2024-01-14T16:03:32.548+0000</td></tr><tr><td>partition-user</td><td>eyJpbmQiOjIwNjAsImZpcnN0X25hbWUiOiJKb3NodWEiLCJsYXN0X25hbWUiOiJMb25nIiwiYWdlIjoyNywiZGF0ZV9qb2luZWQiOiIyMDE2LTEyLTE4IDEwOjExOjIzIn0=</td><td>streaming-0ad8a60ac12f-user</td><td>shardId-000000000000</td><td>49648256421248313573246050369281359074764863898468220930</td><td>2024-01-14T16:03:35.390+0000</td></tr><tr><td>partition-user</td><td>eyJpbmQiOjk0ODcsImZpcnN0X25hbWUiOiJKb3NlIiwibGFzdF9uYW1lIjoiQmFpbGV5IiwiYWdlIjoyMSwiZGF0ZV9qb2luZWQiOiIyMDE2LTAxLTEwIDA5OjQxOjE0In0=</td><td>streaming-0ad8a60ac12f-user</td><td>shardId-000000000000</td><td>49648256421248313573246050370602714995603653655141548034</td><td>2024-01-14T16:03:37.298+0000</td></tr><tr><td>partition-user</td><td>eyJpbmQiOjc3MiwiZmlyc3RfbmFtZSI6IkdsZW5uIiwibGFzdF9uYW1lIjoiSGFtbW9uZCIsImFnZSI6MjUsImRhdGVfam9pbmVkIjoiMjAxNi0wNC0yNyAwMjo1OToyNyJ9</td><td>streaming-0ad8a60ac12f-user</td><td>shardId-000000000000</td><td>49648256421248313573246050371730642785304102881300840450</td><td>2024-01-14T16:03:39.200+0000</td></tr><tr><td>partition-user</td><td>eyJpbmQiOjc1MTAsImZpcnN0X25hbWUiOiJEZWJyYSIsImxhc3RfbmFtZSI6IkJlY2tlciIsImFnZSI6MjAsImRhdGVfam9pbmVkIjoiMjAxNi0wNy0yNyAwNjoyMDo0OCJ9</td><td>streaming-0ad8a60ac12f-user</td><td>shardId-000000000000</td><td>49648256421248313573246050373481167372106086063714336770</td><td>2024-01-14T16:03:42.061+0000</td></tr><tr><td>partition-user</td><td>eyJpbmQiOjU3NTgsImZpcnN0X25hbWUiOiJBbWFuZGEiLCJsYXN0X25hbWUiOiJBcm5vbGQiLCJhZ2UiOjIwLCJkYXRlX2pvaW5lZCI6IjIwMTUtMTAtMjYgMjM6MDQ6NTIifQ==</td><td>streaming-0ad8a60ac12f-user</td><td>shardId-000000000000</td><td>49648256421248313573246050375219602700711923091819724802</td><td>2024-01-14T16:03:44.949+0000</td></tr><tr><td>partition-user</td><td>eyJpbmQiOjExMzcsImZpcnN0X25hbWUiOiJWaXJnaW5pYSIsImxhc3RfbmFtZSI6IlZlZ2EiLCJhZ2UiOjM4LCJkYXRlX2pvaW5lZCI6IjIwMTctMDUtMDMgMDM6MDg6MzMifQ==</td><td>streaming-0ad8a60ac12f-user</td><td>shardId-000000000000</td><td>49648256421248313573246050376383798265000811055781249026</td><td>2024-01-14T16:03:46.806+0000</td></tr><tr><td>partition-user</td><td>eyJpbmQiOjcyMzQsImZpcnN0X25hbWUiOiJBbmdlbGEiLCJsYXN0X25hbWUiOiJBbGxlbiIsImFnZSI6MjAsImRhdGVfam9pbmVkIjoiMjAxNS0xMC0yNiAwNDoxMjozMiJ9</td><td>streaming-0ad8a60ac12f-user</td><td>shardId-000000000000</td><td>49648256421248313573246050377549202755109313717636956162</td><td>2024-01-14T16:03:48.598+0000</td></tr><tr><td>partition-user</td><td>eyJpbmQiOjMyNywiZmlyc3RfbmFtZSI6IkppbGwiLCJsYXN0X25hbWUiOiJUYXlsb3IiLCJhZ2UiOjM5LCJkYXRlX2pvaW5lZCI6IjIwMTUtMTItMDQgMDM6MTU6MjgifQ==</td><td>streaming-0ad8a60ac12f-user</td><td>shardId-000000000000</td><td>49648256421248313573246050379348084374695882135758176258</td><td>2024-01-14T16:03:51.466+0000</td></tr><tr><td>partition-user</td><td>eyJpbmQiOjc4NzQsImZpcnN0X25hbWUiOiJBYXJvbiIsImxhc3RfbmFtZSI6IkFiYm90dCIsImFnZSI6MjAsImRhdGVfam9pbmVkIjoiMjAxNS0xMC0yMyAxNjowODo0MSJ9</td><td>streaming-0ad8a60ac12f-user</td><td>shardId-000000000000</td><td>49648256421248313573246050380486892496772862955770347522</td><td>2024-01-14T16:03:53.289+0000</td></tr><tr><td>partition-user</td><td>eyJpbmQiOjE0NTAsImZpcnN0X25hbWUiOiJBYXJvbiIsImxhc3RfbmFtZSI6IkFiYm90dCIsImFnZSI6MjAsImRhdGVfam9pbmVkIjoiMjAxNS0xMC0zMSAxODo1MTowNyJ9</td><td>streaming-0ad8a60ac12f-user</td><td>shardId-000000000000</td><td>49648256421248313573246050381551956143853351327405965314</td><td>2024-01-14T16:03:55.066+0000</td></tr><tr><td>partition-user</td><td>eyJpbmQiOjEwMjQ1LCJmaXJzdF9uYW1lIjoiSnVsaWUiLCJsYXN0X25hbWUiOiJDb29rIiwiYWdlIjozNCwiZGF0ZV9qb2luZWQiOiIyMDE2LTA1LTA4IDE2OjI3OjAxIn0=</td><td>streaming-0ad8a60ac12f-user</td><td>shardId-000000000000</td><td>49648256421248313573246050383331494950326085678731886594</td><td>2024-01-14T16:03:57.859+0000</td></tr><tr><td>partition-user</td><td>eyJpbmQiOjkwOTMsImZpcnN0X25hbWUiOiJBbGJlcnQiLCJsYXN0X25hbWUiOiJBZGFtcyIsImFnZSI6MjEsImRhdGVfam9pbmVkIjoiMjAxNS0xMS0wNSAyMjowNzo1NiJ9</td><td>streaming-0ad8a60ac12f-user</td><td>shardId-000000000000</td><td>49648256421248313573246050384446124556010773915249934338</td><td>2024-01-14T16:03:59.716+0000</td></tr><tr><td>partition-user</td><td>eyJpbmQiOjIzMDEsImZpcnN0X25hbWUiOiJLYXJpbmEiLCJsYXN0X25hbWUiOiJNb3J0b24iLCJhZ2UiOjMxLCJkYXRlX2pvaW5lZCI6IjIwMTYtMDEtMjEgMTI6NTM6MzQifQ==</td><td>streaming-0ad8a60ac12f-user</td><td>shardId-000000000000</td><td>49648256421248313573246050385670766411280393475385720834</td><td>2024-01-14T16:04:01.823+0000</td></tr><tr><td>partition-user</td><td>eyJpbmQiOjI3ODgsImZpcnN0X25hbWUiOiJKZXN1cyIsImxhc3RfbmFtZSI6IkFyZWxsYW5vIiwiYWdlIjo0MywiZGF0ZV9qb2luZWQiOiIyMDE2LTAzLTIyIDE1OjQ1OjIxIn0=</td><td>streaming-0ad8a60ac12f-user</td><td>shardId-000000000000</td><td>49648256421248313573246050386851886937043886247793131522</td><td>2024-01-14T16:04:03.674+0000</td></tr><tr><td>partition-user</td><td>eyJpbmQiOjkyNjgsImZpcnN0X25hbWUiOiJBbGV4YW5kZXIiLCJsYXN0X25hbWUiOiJCYWlsZXkiLCJhZ2UiOjIwLCJkYXRlX2pvaW5lZCI6IjIwMTUtMTAtMzAgMTE6Mzc6MzIifQ==</td><td>streaming-0ad8a60ac12f-user</td><td>shardId-000000000000</td><td>49648256421248313573246050388656813185728527811787882498</td><td>2024-01-14T16:04:06.482+0000</td></tr><tr><td>partition-user</td><td>eyJpbmQiOjE3MDYsImZpcnN0X25hbWUiOiJBbXkiLCJsYXN0X25hbWUiOiJBZGFtcyIsImFnZSI6MjAsImRhdGVfam9pbmVkIjoiMjAxNS0xMC0yNCAwNTowNToyOCJ9</td><td>streaming-0ad8a60ac12f-user</td><td>shardId-000000000000</td><td>49648256421248313573246050390552408870884266563885596674</td><td>2024-01-14T16:04:09.304+0000</td></tr><tr><td>partition-user</td><td>eyJpbmQiOjUyOTMsImZpcnN0X25hbWUiOiJEYXZpZCIsImxhc3RfbmFtZSI6IlRheWxvciIsImFnZSI6MzYsImRhdGVfam9pbmVkIjoiMjAxNi0wNi0wMyAyMzo1Mzo1MCJ9</td><td>streaming-0ad8a60ac12f-user</td><td>shardId-000000000000</td><td>49648256421248313573246050392543509695789560952065622018</td><td>2024-01-14T16:04:12.070+0000</td></tr><tr><td>partition-user</td><td>eyJpbmQiOjc3MzMsImZpcnN0X25hbWUiOiJBYXJvbiIsImxhc3RfbmFtZSI6IkFiYm90dCIsImFnZSI6MjAsImRhdGVfam9pbmVkIjoiMjAxNS0xMC0yMyAxNjowODo0MSJ9</td><td>streaming-0ad8a60ac12f-user</td><td>shardId-000000000000</td><td>49648256421248313573246050393915640501052165271515561986</td><td>2024-01-14T16:04:13.899+0000</td></tr><tr><td>partition-user</td><td>eyJpbmQiOjM3MTYsImZpcnN0X25hbWUiOiJDYXRoZXJpbmUiLCJsYXN0X25hbWUiOiJGZXJyZWxsIiwiYWdlIjoyMSwiZGF0ZV9qb2luZWQiOiIyMDE3LTAxLTAyIDAzOjAxOjA5In0=</td><td>streaming-0ad8a60ac12f-user</td><td>shardId-000000000000</td><td>49648256421248313573246050396022798204640464060467380226</td><td>2024-01-14T16:04:16.734+0000</td></tr><tr><td>partition-user</td><td>eyJpbmQiOjM3NTAsImZpcnN0X25hbWUiOiJHYXJ5IiwibGFzdF9uYW1lIjoiQmFya2VyIiwiYWdlIjoyOCwiZGF0ZV9qb2luZWQiOiIyMDE1LTExLTI2IDExOjIzOjUwIn0=</td><td>streaming-0ad8a60ac12f-user</td><td>shardId-000000000000</td><td>49648256421248313573246050398017525807004602404891000834</td><td>2024-01-14T16:04:19.458+0000</td></tr><tr><td>partition-user</td><td>eyJpbmQiOjIzMiwiZmlyc3RfbmFtZSI6IlNhcmFoIiwibGFzdF9uYW1lIjoiQnVjaGFuYW4iLCJhZ2UiOjMzLCJkYXRlX2pvaW5lZCI6IjIwMTctMDQtMTkgMDg6NDk6NDAifQ==</td><td>streaming-0ad8a60ac12f-user</td><td>shardId-000000000000</td><td>49648256421248313573246050399425924386855645530862649346</td><td>2024-01-14T16:04:21.330+0000</td></tr><tr><td>partition-user</td><td>eyJpbmQiOjgzMDAsImZpcnN0X25hbWUiOiJOYXRoYW4iLCJsYXN0X25hbWUiOiJTdGFudG9uIiwiYWdlIjo1MSwiZGF0ZV9qb2luZWQiOiIyMDE3LTA4LTE0IDA4OjI2OjMwIn0=</td><td>streaming-0ad8a60ac12f-user</td><td>shardId-000000000000</td><td>49648256421248313573246050400793219488839791196174811138</td><td>2024-01-14T16:04:23.082+0000</td></tr><tr><td>partition-user</td><td>eyJpbmQiOjg5NzgsImZpcnN0X25hbWUiOiJNYXJrIiwibGFzdF9uYW1lIjoiSm9uZXMiLCJhZ2UiOjM0LCJkYXRlX2pvaW5lZCI6IjIwMTctMDgtMjIgMDA6MDE6MjkifQ==</td><td>streaming-0ad8a60ac12f-user</td><td>shardId-000000000000</td><td>49648256421248313573246050402056546970337078821181718530</td><td>2024-01-14T16:04:24.844+0000</td></tr><tr><td>partition-user</td><td>eyJpbmQiOjIwNDgsImZpcnN0X25hbWUiOiJBbm4iLCJsYXN0X25hbWUiOiJDaHVuZyIsImFnZSI6MjIsImRhdGVfam9pbmVkIjoiMjAxNS0xMS0xOCAyMzoxMToxNSJ9</td><td>streaming-0ad8a60ac12f-user</td><td>shardId-000000000000</td><td>49648256421248313573246050403365813632979722354827460610</td><td>2024-01-14T16:04:26.585+0000</td></tr><tr><td>partition-user</td><td>eyJpbmQiOjEwMzM3LCJmaXJzdF9uYW1lIjoiQ2FycmllIiwibGFzdF9uYW1lIjoiUGFya2VyIiwiYWdlIjo0NiwiZGF0ZV9qb2luZWQiOiIyMDE2LTA5LTExIDIyOjMyOjUwIn0=</td><td>streaming-0ad8a60ac12f-user</td><td>shardId-000000000000</td><td>49648256421248313573246050405327900238214265780253491202</td><td>2024-01-14T16:04:29.399+0000</td></tr><tr><td>partition-user</td><td>eyJpbmQiOjc4MzIsImZpcnN0X25hbWUiOiJTYW11ZWwiLCJsYXN0X25hbWUiOiJIYXdraW5zIiwiYWdlIjozOSwiZGF0ZV9qb2luZWQiOiIyMDE2LTA2LTMwIDAyOjU2OjA2In0=</td><td>streaming-0ad8a60ac12f-user</td><td>shardId-000000000000</td><td>49648256421248313573246050406672225749625733491246235650</td><td>2024-01-14T16:04:31.218+0000</td></tr><tr><td>partition-user</td><td>eyJpbmQiOjgzNjYsImZpcnN0X25hbWUiOiJKdXN0aW4iLCJsYXN0X25hbWUiOiJFd2luZyIsImFnZSI6NTYsImRhdGVfam9pbmVkIjoiMjAxNi0wMi0wNCAyMzoyNzozNiJ9</td><td>streaming-0ad8a60ac12f-user</td><td>shardId-000000000000</td><td>49648256421248313573246050408737071049527520259083337730</td><td>2024-01-14T16:04:34.073+0000</td></tr><tr><td>partition-user</td><td>eyJpbmQiOjMzMzQsImZpcnN0X25hbWUiOiJBbWJlciIsImxhc3RfbmFtZSI6IkNhc2V5IiwiYWdlIjoyMywiZGF0ZV9qb2luZWQiOiIyMDE2LTAxLTA2IDEyOjIyOjA4In0=</td><td>streaming-0ad8a60ac12f-user</td><td>shardId-000000000000</td><td>49648256421248313573246050410904675044096550575489941506</td><td>2024-01-14T16:04:36.917+0000</td></tr><tr><td>partition-user</td><td>eyJpbmQiOjc3OCwiZmlyc3RfbmFtZSI6IkNocmlzdGluZSIsImxhc3RfbmFtZSI6IkFkYW1zIiwiYWdlIjozMSwiZGF0ZV9qb2luZWQiOiIyMDE2LTAyLTA2IDEwOjIyOjUzIn0=</td><td>streaming-0ad8a60ac12f-user</td><td>shardId-000000000000</td><td>49648256421248313573246050412900611572280303549088268290</td><td>2024-01-14T16:04:39.688+0000</td></tr><tr><td>partition-user</td><td>eyJpbmQiOjQ4MCwiZmlyc3RfbmFtZSI6IlRpbW90aHkiLCJsYXN0X25hbWUiOiJTdWxsaXZhbiIsImFnZSI6NDAsImRhdGVfam9pbmVkIjoiMjAxNy0wMS0xMiAwODozNzoxMiJ9</td><td>streaming-0ad8a60ac12f-user</td><td>shardId-000000000000</td><td>49648256421248313573246050414931606949232880768753074178</td><td>2024-01-14T16:04:42.525+0000</td></tr><tr><td>partition-user</td><td>eyJpbmQiOjMwMTEsImZpcnN0X25hbWUiOiJKdXN0aW4iLCJsYXN0X25hbWUiOiJTaW5nbGV0b24iLCJhZ2UiOjIwLCJkYXRlX2pvaW5lZCI6IjIwMTctMDMtMTAgMTk6NTM6NDQifQ==</td><td>streaming-0ad8a60ac12f-user</td><td>shardId-000000000000</td><td>49648256421248313573246050416190098727451709877061156866</td><td>2024-01-14T16:04:44.302+0000</td></tr><tr><td>partition-user</td><td>eyJpbmQiOjk0NzUsImZpcnN0X25hbWUiOiJKZXNzaWNhIiwibGFzdF9uYW1lIjoiTWVqaWEiLCJhZ2UiOjQwLCJkYXRlX2pvaW5lZCI6IjIwMTYtMDEtMDMgMTI6MDM6MDUifQ==</td><td>streaming-0ad8a60ac12f-user</td><td>shardId-000000000000</td><td>49648256421248313573246050417484858280258977791890948098</td><td>2024-01-14T16:04:46.239+0000</td></tr><tr><td>partition-user</td><td>eyJpbmQiOjc1ODYsImZpcnN0X25hbWUiOiJBYXJvbiIsImxhc3RfbmFtZSI6IkFsZXhhbmRlciIsImFnZSI6MjEsImRhdGVfam9pbmVkIjoiMjAxNS0xMC0yNSAwNzozNjowOCJ9</td><td>streaming-0ad8a60ac12f-user</td><td>shardId-000000000000</td><td>49648256421248313573246050418944031744533835411919732738</td><td>2024-01-14T16:04:48.106+0000</td></tr><tr><td>partition-user</td><td>eyJpbmQiOjE4NjQsImZpcnN0X25hbWUiOiJBbGV4YW5kZXIiLCJsYXN0X25hbWUiOiJBZGFtcyIsImFnZSI6MzIsImRhdGVfam9pbmVkIjoiMjAxNS0xMC0yOCAxNTo0ODoyNCJ9</td><td>streaming-0ad8a60ac12f-user</td><td>shardId-000000000000</td><td>49648256421248313573246050420375399914957556423491321858</td><td>2024-01-14T16:04:50.095+0000</td></tr><tr><td>partition-user</td><td>eyJpbmQiOjYwMTQsImZpcnN0X25hbWUiOiJNYXJ5IiwibGFzdF9uYW1lIjoiTHVuYSIsImFnZSI6MjIsImRhdGVfam9pbmVkIjoiMjAxNi0wMS0wMiAwMTo0MDo1MiJ9</td><td>streaming-0ad8a60ac12f-user</td><td>shardId-000000000000</td><td>49648256421248313573246050421637518470635229488042999810</td><td>2024-01-14T16:04:51.960+0000</td></tr><tr><td>partition-user</td><td>eyJpbmQiOjE5NjcsImZpcnN0X25hbWUiOiJKYXkiLCJsYXN0X25hbWUiOiJGbHlubiIsImFnZSI6MjQsImRhdGVfam9pbmVkIjoiMjAxNi0wNS0xMiAxNjoyODoyNyJ9</td><td>streaming-0ad8a60ac12f-user</td><td>shardId-000000000000</td><td>49648256421248313573246050423647962108654357943018323970</td><td>2024-01-14T16:04:54.803+0000</td></tr><tr><td>partition-user</td><td>eyJpbmQiOjE2OTksImZpcnN0X25hbWUiOiJCcmFuZG9uIiwibGFzdF9uYW1lIjoiQ3VtbWluZ3MiLCJhZ2UiOjIyLCJkYXRlX2pvaW5lZCI6IjIwMTYtMDUtMTEgMDE6MzY6MDAifQ==</td><td>streaming-0ad8a60ac12f-user</td><td>shardId-000000000000</td><td>49648256421248313573246050425701927076179613185722023938</td><td>2024-01-14T16:04:57.674+0000</td></tr><tr><td>partition-user</td><td>eyJpbmQiOjQ5OTYsImZpcnN0X25hbWUiOiJKb2huIiwibGFzdF9uYW1lIjoiQW5kZXJzb24iLCJhZ2UiOjI3LCJkYXRlX2pvaW5lZCI6IjIwMTYtMDMtMDMgMDc6Mjg6MzkifQ==</td><td>streaming-0ad8a60ac12f-user</td><td>shardId-000000000000</td><td>49648256421248313573246050427701490381822209978124992514</td><td>2024-01-14T16:05:00.518+0000</td></tr><tr><td>partition-user</td><td>eyJpbmQiOjEwMTY4LCJmaXJzdF9uYW1lIjoiTmljb2xlIiwibGFzdF9uYW1lIjoiR3JheSIsImFnZSI6NTMsImRhdGVfam9pbmVkIjoiMjAxNi0wMi0yMCAxMzowMzowMCJ9</td><td>streaming-0ad8a60ac12f-user</td><td>shardId-000000000000</td><td>49648256421248313573246050429705889390743265287226785794</td><td>2024-01-14T16:05:03.548+0000</td></tr><tr><td>partition-user</td><td>eyJpbmQiOjUzMzMsImZpcnN0X25hbWUiOiJBYXJvbiIsImxhc3RfbmFtZSI6IkNsYXJrIiwiYWdlIjozNSwiZGF0ZV9qb2luZWQiOiIyMDE2LTExLTE5IDIyOjM2OjQ5In0=</td><td>streaming-0ad8a60ac12f-user</td><td>shardId-000000000000</td><td>49648256421248313573246050431016364979205523518766710786</td><td>2024-01-14T16:05:05.363+0000</td></tr><tr><td>partition-user</td><td>eyJpbmQiOjI1NjUsImZpcnN0X25hbWUiOiJBbnRob255IiwibGFzdF9uYW1lIjoiQWRraW5zIiwiYWdlIjoyMSwiZGF0ZV9qb2luZWQiOiIyMDE1LTEwLTI4IDAzOjU5OjQyIn0=</td><td>streaming-0ad8a60ac12f-user</td><td>shardId-000000000000</td><td>49648256421248313573246050432386077932828898511147761666</td><td>2024-01-14T16:05:07.245+0000</td></tr><tr><td>partition-user</td><td>eyJpbmQiOjk3NzgsImZpcnN0X25hbWUiOiJIb2xseSIsImxhc3RfbmFtZSI6IkNhbXBiZWxsIiwiYWdlIjozMCwiZGF0ZV9qb2luZWQiOiIyMDE2LTA3LTA4IDE5OjEwOjM3In0=</td><td>streaming-0ad8a60ac12f-user</td><td>shardId-000000000000</td><td>49648256421248313573246050434789422462222781516622069762</td><td>2024-01-14T16:05:10.067+0000</td></tr><tr><td>partition-user</td><td>eyJpbmQiOjMxNDUsImZpcnN0X25hbWUiOiJDcnlzdGFsIiwibGFzdF9uYW1lIjoiU2NobWlkdCIsImFnZSI6MjIsImRhdGVfam9pbmVkIjoiMjAxNy0wNC0xNCAxMzo1Nzo1MiJ9</td><td>streaming-0ad8a60ac12f-user</td><td>shardId-000000000000</td><td>49648256421248313573246050436324758253133360637218390018</td><td>2024-01-14T16:05:11.881+0000</td></tr><tr><td>partition-user</td><td>eyJpbmQiOjEzNDEsImZpcnN0X25hbWUiOiJBYmlnYWlsIiwibGFzdF9uYW1lIjoiQWxpIiwiYWdlIjoyMCwiZGF0ZV9qb2luZWQiOiIyMDE1LTEwLTI0IDExOjIzOjUxIn0=</td><td>streaming-0ad8a60ac12f-user</td><td>shardId-000000000000</td><td>49648256421248313573246050438809100812441423866117488642</td><td>2024-01-14T16:05:14.666+0000</td></tr><tr><td>partition-user</td><td>eyJpbmQiOjUxNjIsImZpcnN0X25hbWUiOiJKYW1lcyIsImxhc3RfbmFtZSI6IkphY29ic29uIiwiYWdlIjoyOCwiZGF0ZV9qb2luZWQiOiIyMDE3LTA0LTMwIDE2OjQxOjI2In0=</td><td>streaming-0ad8a60ac12f-user</td><td>shardId-000000000000</td><td>49648256421248313573246050440322675938598939661569097730</td><td>2024-01-14T16:05:16.439+0000</td></tr><tr><td>partition-user</td><td>eyJpbmQiOjUxNTEsImZpcnN0X25hbWUiOiJNYXJ5IiwibGFzdF9uYW1lIjoiSm9yZGFuIiwiYWdlIjoyNiwiZGF0ZV9qb2luZWQiOiIyMDE3LTA2LTEyIDE2OjAyOjU5In0=</td><td>streaming-0ad8a60ac12f-user</td><td>shardId-000000000000</td><td>49648256421248313573246050441778222625414953325354287106</td><td>2024-01-14T16:05:18.238+0000</td></tr><tr><td>partition-user</td><td>eyJpbmQiOjI0OTgsImZpcnN0X25hbWUiOiJKZXJlbXkiLCJsYXN0X25hbWUiOiJDaGFzZSIsImFnZSI6NTAsImRhdGVfam9pbmVkIjoiMjAxNy0wNy0zMSAxNjo1Njo1MiJ9</td><td>streaming-0ad8a60ac12f-user</td><td>shardId-000000000000</td><td>49648256421248313573246050444122329789647719432548515842</td><td>2024-01-14T16:05:21.125+0000</td></tr><tr><td>partition-user</td><td>eyJpbmQiOjcyNjgsImZpcnN0X25hbWUiOiJBbGVqYW5kcmEiLCJsYXN0X25hbWUiOiJBY2V2ZWRvIiwiYWdlIjoyMCwiZGF0ZV9qb2luZWQiOiIyMDE1LTExLTI0IDIxOjAxOjIzIn0=</td><td>streaming-0ad8a60ac12f-user</td><td>shardId-000000000000</td><td>49648256421248313573246050445784602791617834753927938050</td><td>2024-01-14T16:05:22.978+0000</td></tr><tr><td>partition-user</td><td>eyJpbmQiOjMzNTEsImZpcnN0X25hbWUiOiJFcmljIiwibGFzdF9uYW1lIjoiVGF5bG9yIiwiYWdlIjozOSwiZGF0ZV9qb2luZWQiOiIyMDE3LTA0LTA0IDA2OjA1OjAzIn0=</td><td>streaming-0ad8a60ac12f-user</td><td>shardId-000000000000</td><td>49648256421248313573246050447481934642356774183934885890</td><td>2024-01-14T16:05:24.787+0000</td></tr><tr><td>partition-user</td><td>eyJpbmQiOjc3MzgsImZpcnN0X25hbWUiOiJBbGV4aXMiLCJsYXN0X25hbWUiOiJHZW9yZ2UiLCJhZ2UiOjM0LCJkYXRlX2pvaW5lZCI6IjIwMTYtMDItMjYgMDA6Mzg6MDEifQ==</td><td>streaming-0ad8a60ac12f-user</td><td>shardId-000000000000</td><td>49648256421248313573246050449011225804169280296096628738</td><td>2024-01-14T16:05:26.621+0000</td></tr><tr><td>partition-user</td><td>eyJpbmQiOjc1MjgsImZpcnN0X25hbWUiOiJBYmlnYWlsIiwibGFzdF9uYW1lIjoiQWxpIiwiYWdlIjoyMCwiZGF0ZV9qb2luZWQiOiIyMDE1LTEwLTI0IDExOjIzOjUxIn0=</td><td>streaming-0ad8a60ac12f-user</td><td>shardId-000000000000</td><td>49648256421248313573246050467635936981152258873448464386</td><td>2024-01-14T16:05:49.546+0000</td></tr><tr><td>partition-user</td><td>eyJpbmQiOjI4NjMsImZpcnN0X25hbWUiOiJEeWxhbiIsImxhc3RfbmFtZSI6IkhvbG1lcyIsImFnZSI6MzIsImRhdGVfam9pbmVkIjoiMjAxNi0xMC0yMyAxNDowNjo1MSJ9</td><td>streaming-0ad8a60ac12f-user</td><td>shardId-000000000000</td><td>49648256421248313573246050469752766091297474695797932034</td><td>2024-01-14T16:05:52.306+0000</td></tr></tbody></table></div>"
      ]
     },
     "metadata": {
      "application/vnd.databricks.v1+output": {
       "addedWidgets": {},
       "aggData": [],
       "aggError": "",
       "aggOverflow": false,
       "aggSchema": [],
       "aggSeriesLimitReached": false,
       "aggType": "",
       "arguments": {},
       "columnCustomDisplayInfos": {},
       "data": [
        [
         "partition-user",
         "eyJpbmQiOjc1MjgsImZpcnN0X25hbWUiOiJBYmlnYWlsIiwibGFzdF9uYW1lIjoiQWxpIiwiYWdlIjoyMCwiZGF0ZV9qb2luZWQiOiIyMDE1LTEwLTI0IDExOjIzOjUxIn0=",
         "streaming-0ad8a60ac12f-user",
         "shardId-000000000000",
         "49648256421248313573246050223309610985396448393091350530",
         "2024-01-14T15:59:44.638+0000"
        ],
        [
         "partition-user",
         "eyJpbmQiOjI4NjMsImZpcnN0X25hbWUiOiJEeWxhbiIsImxhc3RfbmFtZSI6IkhvbG1lcyIsImFnZSI6MzIsImRhdGVfam9pbmVkIjoiMjAxNi0xMC0yMyAxNDowNjo1MSJ9",
         "streaming-0ad8a60ac12f-user",
         "shardId-000000000000",
         "49648256421248313573246050225081896236951494900649558018",
         "2024-01-14T15:59:47.500+0000"
        ],
        [
         "partition-user",
         "eyJpbmQiOjU3MzAsImZpcnN0X25hbWUiOiJSYWNoZWwiLCJsYXN0X25hbWUiOiJEYXZpcyIsImFnZSI6MzYsImRhdGVfam9pbmVkIjoiMjAxNS0xMi0wOCAyMDowMjo0MyJ9",
         "streaming-0ad8a60ac12f-user",
         "shardId-000000000000",
         "49648256421248313573246050226828794046294634264258412546",
         "2024-01-14T15:59:50.415+0000"
        ],
        [
         "partition-user",
         "eyJpbmQiOjgzMDQsImZpcnN0X25hbWUiOiJDaGFybGVzIiwibGFzdF9uYW1lIjoiQmVycnkiLCJhZ2UiOjI1LCJkYXRlX2pvaW5lZCI6IjIwMTUtMTItMjggMDQ6MjE6MzkifQ==",
         "streaming-0ad8a60ac12f-user",
         "shardId-000000000000",
         "49648256421248313573246050228711091547434612095434358786",
         "2024-01-14T15:59:53.296+0000"
        ],
        [
         "partition-user",
         "eyJpbmQiOjg3MzEsImZpcnN0X25hbWUiOiJBbmRyZWEiLCJsYXN0X25hbWUiOiJBbGV4YW5kZXIiLCJhZ2UiOjIxLCJkYXRlX2pvaW5lZCI6IjIwMTUtMTEtMTAgMDk6Mjc6NDIifQ==",
         "streaming-0ad8a60ac12f-user",
         "shardId-000000000000",
         "49648256421248313573246050229799124785087778421389393922",
         "2024-01-14T15:59:55.151+0000"
        ],
        [
         "partition-user",
         "eyJpbmQiOjEzMTMsImZpcnN0X25hbWUiOiJCcml0dGFueSIsImxhc3RfbmFtZSI6IkpvbmVzIiwiYWdlIjozMiwiZGF0ZV9qb2luZWQiOiIyMDE2LTA0LTAyIDAzOjUxOjIzIn0=",
         "streaming-0ad8a60ac12f-user",
         "shardId-000000000000",
         "49648256421248313573246050230962111423557051893615165442",
         "2024-01-14T15:59:56.951+0000"
        ],
        [
         "partition-user",
         "eyJpbmQiOjQzMTUsImZpcnN0X25hbWUiOiJNaWNoZWxsZSIsImxhc3RfbmFtZSI6IlByaW5jZSIsImFnZSI6MzYsImRhdGVfam9pbmVkIjoiMjAxNS0xMi0yMCAxNjozODoxMyJ9",
         "streaming-0ad8a60ac12f-user",
         "shardId-000000000000",
         "49648256421248313573246050232641309387001771954720997378",
         "2024-01-14T15:59:59.837+0000"
        ],
        [
         "partition-user",
         "eyJpbmQiOjEwNzk0LCJmaXJzdF9uYW1lIjoiVGhvbWFzIiwibGFzdF9uYW1lIjoiVHVybmVyIiwiYWdlIjozNCwiZGF0ZV9qb2luZWQiOiIyMDE2LTEyLTIyIDAwOjAyOjAyIn0=",
         "streaming-0ad8a60ac12f-user",
         "shardId-000000000000",
         "49648256421248313573246050234877822153288836202805329922",
         "2024-01-14T16:00:03.681+0000"
        ],
        [
         "partition-user",
         "eyJpbmQiOjU0OTQsImZpcnN0X25hbWUiOiJBbm5lIiwibGFzdF9uYW1lIjoiQWxsZW4iLCJhZ2UiOjI3LCJkYXRlX2pvaW5lZCI6IjIwMTUtMTItMTYgMTU6MjA6MDUifQ==",
         "streaming-0ad8a60ac12f-user",
         "shardId-000000000000",
         "49648256421248313573246050236147194263884196973685768194",
         "2024-01-14T16:00:05.554+0000"
        ],
        [
         "partition-user",
         "eyJpbmQiOjUwNjksImZpcnN0X25hbWUiOiJBbWFuZGEiLCJsYXN0X25hbWUiOiJCYWxsIiwiYWdlIjoyNSwiZGF0ZV9qb2luZWQiOiIyMDE2LTAxLTEzIDE3OjM2OjMwIn0=",
         "streaming-0ad8a60ac12f-user",
         "shardId-000000000000",
         "49648256421248313573246050237383925377349962756849139714",
         "2024-01-14T16:00:07.311+0000"
        ],
        [
         "partition-user",
         "eyJpbmQiOjI5MjMsImZpcnN0X25hbWUiOiJCcmlhbiIsImxhc3RfbmFtZSI6Ik5lbHNvbiIsImFnZSI6MjYsImRhdGVfam9pbmVkIjoiMjAxNS0xMS0xMSAwMzoyMDo1NyJ9",
         "streaming-0ad8a60ac12f-user",
         "shardId-000000000000",
         "49648256421248313573246050238670222449419928336175464450",
         "2024-01-14T16:00:09.147+0000"
        ],
        [
         "partition-user",
         "eyJpbmQiOjMwODksImZpcnN0X25hbWUiOiJBYmlnYWlsIiwibGFzdF9uYW1lIjoiQWxpIiwiYWdlIjoyMCwiZGF0ZV9qb2luZWQiOiIyMDE1LTEwLTI0IDExOjIzOjUxIn0=",
         "streaming-0ad8a60ac12f-user",
         "shardId-000000000000",
         "49648256421248313573246050239942012411654518296685838338",
         "2024-01-14T16:00:11.078+0000"
        ],
        [
         "partition-user",
         "eyJpbmQiOjYwNjMsImZpcnN0X25hbWUiOiJDb3JleSIsImxhc3RfbmFtZSI6IkFuZHJld3MiLCJhZ2UiOjIzLCJkYXRlX2pvaW5lZCI6IjIwMTUtMTEtMjUgMTM6MzY6MjIifQ==",
         "streaming-0ad8a60ac12f-user",
         "shardId-000000000000",
         "49648256421248313573246050241968172085328637068371296258",
         "2024-01-14T16:00:13.965+0000"
        ],
        [
         "partition-user",
         "eyJpbmQiOjM0NTQsImZpcnN0X25hbWUiOiJSb2JlcnQiLCJsYXN0X25hbWUiOiJNdXJwaHkiLCJhZ2UiOjQ4LCJkYXRlX2pvaW5lZCI6IjIwMTctMDktMjYgMTY6MzE6NTYifQ==",
         "streaming-0ad8a60ac12f-user",
         "shardId-000000000000",
         "49648256421248313573246050244139402857356511203582541826",
         "2024-01-14T16:00:16.954+0000"
        ],
        [
         "partition-user",
         "eyJpbmQiOjc1NTQsImZpcnN0X25hbWUiOiJDaGVyeWwiLCJsYXN0X25hbWUiOiJIdWVydGEiLCJhZ2UiOjIwLCJkYXRlX2pvaW5lZCI6IjIwMTctMDQtMTEgMTY6MzU6MzMifQ==",
         "streaming-0ad8a60ac12f-user",
         "shardId-000000000000",
         "49648256421248313573246050246128085830622576402132631554",
         "2024-01-14T16:00:19.802+0000"
        ],
        [
         "partition-user",
         "eyJpbmQiOjYxNDUsImZpcnN0X25hbWUiOiJFbWlseSIsImxhc3RfbmFtZSI6Ikhhd2tpbnMiLCJhZ2UiOjMwLCJkYXRlX2pvaW5lZCI6IjIwMTUtMTItMjUgMjA6MjQ6MzcifQ==",
         "streaming-0ad8a60ac12f-user",
         "shardId-000000000000",
         "49648256421248313573246050248143365171920163442526257154",
         "2024-01-14T16:00:22.657+0000"
        ],
        [
         "partition-user",
         "eyJpbmQiOjEwNjI1LCJmaXJzdF9uYW1lIjoiQ2hyaXN0aWFuIiwibGFzdF9uYW1lIjoiTGFuZyIsImFnZSI6MzIsImRhdGVfam9pbmVkIjoiMjAxNy0xMC0xMCAyMDowOTozMyJ9",
         "streaming-0ad8a60ac12f-user",
         "shardId-000000000000",
         "49648256421248313573246050249523958457920070028760186882",
         "2024-01-14T16:00:24.599+0000"
        ],
        [
         "partition-user",
         "eyJpbmQiOjI5NTksImZpcnN0X25hbWUiOiJEYXZpZCIsImxhc3RfbmFtZSI6IkdyaWZmaXRoIiwiYWdlIjoyMCwiZGF0ZV9qb2luZWQiOiIyMDE2LTAxLTA3IDE5OjQ5OjIyIn0=",
         "streaming-0ad8a60ac12f-user",
         "shardId-000000000000",
         "49648256421248313573246050250929939186131883965101899778",
         "2024-01-14T16:00:26.538+0000"
        ],
        [
         "partition-user",
         "eyJpbmQiOjk4NzUsImZpcnN0X25hbWUiOiJCcmVuZGFuIiwibGFzdF9uYW1lIjoiSm9zZXBoIiwiYWdlIjoyNiwiZGF0ZV9qb2luZWQiOiIyMDE1LTEyLTIwIDEwOjI4OjAwIn0=",
         "streaming-0ad8a60ac12f-user",
         "shardId-000000000000",
         "49648256421248313573246050252213818406562620286078812162",
         "2024-01-14T16:00:28.415+0000"
        ],
        [
         "partition-user",
         "eyJpbmQiOjI0MTgsImZpcnN0X25hbWUiOiJBbWFuZGEiLCJsYXN0X25hbWUiOiJBZGFtcyIsImFnZSI6MjAsImRhdGVfam9pbmVkIjoiMjAxNS0xMC0yMSAwODoyNzozNiJ9",
         "streaming-0ad8a60ac12f-user",
         "shardId-000000000000",
         "49648256421248313573246050254061057058933773871188279298",
         "2024-01-14T16:00:31.271+0000"
        ],
        [
         "partition-user",
         "eyJpbmQiOjMxNTYsImZpcnN0X25hbWUiOiJBbmRyZXciLCJsYXN0X25hbWUiOiJCYWtlciIsImFnZSI6MjIsImRhdGVfam9pbmVkIjoiMjAxNS0xMi0yMSAwODowNjo1NCJ9",
         "streaming-0ad8a60ac12f-user",
         "shardId-000000000000",
         "49648256421248313573246050255412636125262929425948737538",
         "2024-01-14T16:00:33.245+0000"
        ],
        [
         "partition-user",
         "eyJpbmQiOjQyOCwiZmlyc3RfbmFtZSI6IkNsYXVkaWEiLCJsYXN0X25hbWUiOiJBZGFtcyIsImFnZSI6MjAsImRhdGVfam9pbmVkIjoiMjAxNS0xMS0yOCAwMjoyMDoyOSJ9",
         "streaming-0ad8a60ac12f-user",
         "shardId-000000000000",
         "49648256421248313573246050256587712021928349052482617346",
         "2024-01-14T16:00:35.020+0000"
        ],
        [
         "partition-user",
         "eyJpbmQiOjczNDMsImZpcnN0X25hbWUiOiJBbm5lIiwibGFzdF9uYW1lIjoiQ2xheXRvbiIsImFnZSI6MjQsImRhdGVfam9pbmVkIjoiMjAxNi0wMS0xMSAxMjowMzo0OCJ9",
         "streaming-0ad8a60ac12f-user",
         "shardId-000000000000",
         "49648256421248313573246050257973141011206714224134848514",
         "2024-01-14T16:00:36.960+0000"
        ],
        [
         "partition-user",
         "eyJpbmQiOjIwNzQsImZpcnN0X25hbWUiOiJBbm5ldHRlIiwibGFzdF9uYW1lIjoiRm9yYmVzIiwiYWdlIjoyMSwiZGF0ZV9qb2luZWQiOiIyMDE2LTAxLTAzIDE1OjQyOjEyIn0=",
         "streaming-0ad8a60ac12f-user",
         "shardId-000000000000",
         "49648256421248313573246050259920720506605882030744928258",
         "2024-01-14T16:00:39.725+0000"
        ],
        [
         "partition-user",
         "eyJpbmQiOjk5NzksImZpcnN0X25hbWUiOiJLYXlsZWUiLCJsYXN0X25hbWUiOiJNaWxsZXIiLCJhZ2UiOjMxLCJkYXRlX2pvaW5lZCI6IjIwMTYtMTEtMDkgMTk6NTA6NTEifQ==",
         "streaming-0ad8a60ac12f-user",
         "shardId-000000000000",
         "49648256421248313573246050261132064177859740601239470082",
         "2024-01-14T16:00:41.595+0000"
        ],
        [
         "partition-user",
         "eyJpbmQiOjEwMTM4LCJmaXJzdF9uYW1lIjoiQ2Fyb2wiLCJsYXN0X25hbWUiOiJTaWx2YSIsImFnZSI6MjIsImRhdGVfam9pbmVkIjoiMjAxNS0xMi0zMSAxNDo1NzowMiJ9",
         "streaming-0ad8a60ac12f-user",
         "shardId-000000000000",
         "49648256421248313573246050262518702092957720333346930690",
         "2024-01-14T16:00:43.533+0000"
        ],
        [
         "partition-user",
         "eyJpbmQiOjk2NzIsImZpcnN0X25hbWUiOiJKZW5uaWZlciIsImxhc3RfbmFtZSI6Ikh1ZHNvbiIsImFnZSI6MjIsImRhdGVfam9pbmVkIjoiMjAxNi0wMi0xMSAyMDo0NjowNCJ9",
         "streaming-0ad8a60ac12f-user",
         "shardId-000000000000",
         "49648256421248313573246050264546070692451453734207094786",
         "2024-01-14T16:00:46.355+0000"
        ],
        [
         "partition-user",
         "eyJpbmQiOjg2NTMsImZpcnN0X25hbWUiOiJUYW1teSIsImxhc3RfbmFtZSI6IkRhdmlzIiwiYWdlIjoyNCwiZGF0ZV9qb2luZWQiOiIyMDE2LTAzLTA5IDEwOjQ4OjE0In0=",
         "streaming-0ad8a60ac12f-user",
         "shardId-000000000000",
         "49648256421248313573246050266673780134973201219128918018",
         "2024-01-14T16:00:49.423+0000"
        ],
        [
         "partition-user",
         "eyJpbmQiOjg4ODcsImZpcnN0X25hbWUiOiJBdXN0aW4iLCJsYXN0X25hbWUiOiJSb2RyaWd1ZXoiLCJhZ2UiOjI0LCJkYXRlX2pvaW5lZCI6IjIwMTYtMDMtMzEgMjA6NTY6MzkifQ==",
         "streaming-0ad8a60ac12f-user",
         "shardId-000000000000",
         "49648256421248313573246050268730162954137685651462553602",
         "2024-01-14T16:00:52.263+0000"
        ],
        [
         "partition-user",
         "eyJpbmQiOjc5MjIsImZpcnN0X25hbWUiOiJEZW5pc2UiLCJsYXN0X25hbWUiOiJBZGFtcyIsImFnZSI6MjEsImRhdGVfam9pbmVkIjoiMjAxNS0xMS0xMiAwNjoyMTozNiJ9",
         "streaming-0ad8a60ac12f-user",
         "shardId-000000000000",
         "49648256421248313573246050270640265749128800022376218626",
         "2024-01-14T16:00:55.061+0000"
        ],
        [
         "partition-user",
         "eyJpbmQiOjEwMTQsImZpcnN0X25hbWUiOiJHcmVnb3J5IiwibGFzdF9uYW1lIjoiUmFtc2V5IiwiYWdlIjo1NiwiZGF0ZV9qb2luZWQiOiIyMDE2LTEwLTE1IDE3OjIxOjM5In0=",
         "streaming-0ad8a60ac12f-user",
         "shardId-000000000000",
         "49648256421248313573246050272539488211743382661998051330",
         "2024-01-14T16:00:57.946+0000"
        ],
        [
         "partition-user",
         "eyJpbmQiOjQ5MTMsImZpcnN0X25hbWUiOiJBbmdlbGEiLCJsYXN0X25hbWUiOiJCcm9va3MiLCJhZ2UiOjI0LCJkYXRlX2pvaW5lZCI6IjIwMTUtMTEtMjAgMDU6Mzc6MTEifQ==",
         "streaming-0ad8a60ac12f-user",
         "shardId-000000000000",
         "49648256421248313573246050273851172726025255385273729026",
         "2024-01-14T16:00:59.915+0000"
        ],
        [
         "partition-user",
         "eyJpbmQiOjQxMzcsImZpcnN0X25hbWUiOiJNaWNoYWVsIiwibGFzdF9uYW1lIjoiRGVja2VyIiwiYWdlIjo1OSwiZGF0ZV9qb2luZWQiOiIyMDE3LTA2LTI5IDIyOjM1OjE3In0=",
         "streaming-0ad8a60ac12f-user",
         "shardId-000000000000",
         "49648256421248313573246050275757648743557525868663275522",
         "2024-01-14T16:01:02.781+0000"
        ],
        [
         "partition-user",
         "eyJpbmQiOjcxNjYsImZpcnN0X25hbWUiOiJBbHZpbiIsImxhc3RfbmFtZSI6IkFkYW1zIiwiYWdlIjoyMCwiZGF0ZV9qb2luZWQiOiIyMDE2LTAxLTAxIDEzOjUwOjQwIn0=",
         "streaming-0ad8a60ac12f-user",
         "shardId-000000000000",
         "49648256421248313573246050277093511774231691175433076738",
         "2024-01-14T16:01:04.793+0000"
        ],
        [
         "partition-user",
         "eyJpbmQiOjk1NDYsImZpcnN0X25hbWUiOiJBbGV4IiwibGFzdF9uYW1lIjoiQmFybmVzIiwiYWdlIjoyMCwiZGF0ZV9qb2luZWQiOiIyMDE2LTAyLTI3IDIxOjEzOjQ0In0=",
         "streaming-0ad8a60ac12f-user",
         "shardId-000000000000",
         "49648256421248313573246050279032628788893556509100736514",
         "2024-01-14T16:01:07.722+0000"
        ],
        [
         "partition-user",
         "eyJpbmQiOjI0MTEsImZpcnN0X25hbWUiOiJBYXJvbiIsImxhc3RfbmFtZSI6IkJhcnRsZXR0IiwiYWdlIjoyMSwiZGF0ZV9qb2luZWQiOiIyMDE1LTExLTI0IDAyOjE1OjM2In0=",
         "streaming-0ad8a60ac12f-user",
         "shardId-000000000000",
         "49648256421248313573246050281091429459697270268503261186",
         "2024-01-14T16:01:10.749+0000"
        ],
        [
         "partition-user",
         "eyJpbmQiOjk1OTAsImZpcnN0X25hbWUiOiJBbWFuZGEiLCJsYXN0X25hbWUiOiJBbGxlbiIsImFnZSI6MjIsImRhdGVfam9pbmVkIjoiMjAxNS0xMC0yNCAxODo1NjozMCJ9",
         "streaming-0ad8a60ac12f-user",
         "shardId-000000000000",
         "49648256421248313573246050282209685842840802323825950722",
         "2024-01-14T16:01:12.649+0000"
        ],
        [
         "partition-user",
         "eyJpbmQiOjI2OTgsImZpcnN0X25hbWUiOiJLYXlsYSIsImxhc3RfbmFtZSI6IkJ1cnRvbiIsImFnZSI6NDQsImRhdGVfam9pbmVkIjoiMjAxNy0wNi0yMSAxOTo1MzoyNyJ9",
         "streaming-0ad8a60ac12f-user",
         "shardId-000000000000",
         "49648256421248313573246050283963837207101629531202519042",
         "2024-01-14T16:01:15.581+0000"
        ],
        [
         "partition-user",
         "eyJpbmQiOjQ1MDgsImZpcnN0X25hbWUiOiJNaWNoYWVsIiwibGFzdF9uYW1lIjoiQ2FydGVyIiwiYWdlIjo1OCwiZGF0ZV9qb2luZWQiOiIyMDE2LTA2LTAzIDIzOjM1OjMwIn0=",
         "streaming-0ad8a60ac12f-user",
         "shardId-000000000000",
         "49648256421248313573246050285131659548849361382688161794",
         "2024-01-14T16:01:17.455+0000"
        ],
        [
         "partition-user",
         "eyJpbmQiOjgzMSwiZmlyc3RfbmFtZSI6IkFpbWVlIiwibGFzdF9uYW1lIjoiQ29sbGlucyIsImFnZSI6MjgsImRhdGVfam9pbmVkIjoiMjAxNi0wNi0xNiAwMjowNjozOCJ9",
         "streaming-0ad8a60ac12f-user",
         "shardId-000000000000",
         "49648256421248313573246050286223319563961371733606268930",
         "2024-01-14T16:01:19.284+0000"
        ],
        [
         "partition-user",
         "eyJpbmQiOjUwNzYsImZpcnN0X25hbWUiOiJDaHJpc3RvcGhlciIsImxhc3RfbmFtZSI6IkJ1dGxlciIsImFnZSI6MjAsImRhdGVfam9pbmVkIjoiMjAxNS0xMi0wMSAxNTowODozMSJ9",
         "streaming-0ad8a60ac12f-user",
         "shardId-000000000000",
         "49648256421248313573246050287229145845880743275681284098",
         "2024-01-14T16:01:21.207+0000"
        ],
        [
         "partition-user",
         "eyJpbmQiOjEwNjYzLCJmaXJzdF9uYW1lIjoiSnVsaWUiLCJsYXN0X25hbWUiOiJDb3giLCJhZ2UiOjIzLCJkYXRlX2pvaW5lZCI6IjIwMTYtMDYtMjMgMTQ6Mzg6MDAifQ==",
         "streaming-0ad8a60ac12f-user",
         "shardId-000000000000",
         "49648256421248313573246050288286955938043544009707618306",
         "2024-01-14T16:01:23.088+0000"
        ],
        [
         "partition-user",
         "eyJpbmQiOjU0NjgsImZpcnN0X25hbWUiOiJMaXNhIiwibGFzdF9uYW1lIjoiR2FtYmxlIiwiYWdlIjoyMCwiZGF0ZV9qb2luZWQiOiIyMDE2LTA3LTIzIDIwOjUxOjA2In0=",
         "streaming-0ad8a60ac12f-user",
         "shardId-000000000000",
         "49648256421248313573246050289973407456405951845861687298",
         "2024-01-14T16:01:25.914+0000"
        ],
        [
         "partition-user",
         "eyJpbmQiOjIwNSwiZmlyc3RfbmFtZSI6IkJyZXR0IiwibGFzdF9uYW1lIjoiQnJ5YW50IiwiYWdlIjoyMCwiZGF0ZV9qb2luZWQiOiIyMDE1LTEwLTIzIDEyOjQwOjE5In0=",
         "streaming-0ad8a60ac12f-user",
         "shardId-000000000000",
         "49648256421248313573246050291698544600996027884325830658",
         "2024-01-14T16:01:28.839+0000"
        ],
        [
         "partition-user",
         "eyJpbmQiOjc3OTAsImZpcnN0X25hbWUiOiJNaWNoZWxsZSIsImxhc3RfbmFtZSI6Ikd1dGllcnJleiIsImFnZSI6MzksImRhdGVfam9pbmVkIjoiMjAxNy0wNy0xOSAwNzoxMjowNCJ9",
         "streaming-0ad8a60ac12f-user",
         "shardId-000000000000",
         "49648256421248313573246050292735802954225379784943206402",
         "2024-01-14T16:01:30.688+0000"
        ],
        [
         "partition-user",
         "eyJpbmQiOjg2MDYsImZpcnN0X25hbWUiOiJEZW5pc2UiLCJsYXN0X25hbWUiOiJBZGFtcyIsImFnZSI6MjEsImRhdGVfam9pbmVkIjoiMjAxNS0xMS0xMiAwNjoyMTozNiJ9",
         "streaming-0ad8a60ac12f-user",
         "shardId-000000000000",
         "49648256421248313573246050293889118186137736223771328514",
         "2024-01-14T16:01:32.645+0000"
        ],
        [
         "partition-user",
         "eyJpbmQiOjk3NTksImZpcnN0X25hbWUiOiJEYW5pZWwiLCJsYXN0X25hbWUiOiJCcm9va3MiLCJhZ2UiOjI1LCJkYXRlX2pvaW5lZCI6IjIwMTUtMTEtMTkgMjE6MjQ6MzMifQ==",
         "streaming-0ad8a60ac12f-user",
         "shardId-000000000000",
         "49648256421248313573246050294861094545107898217674047490",
         "2024-01-14T16:01:34.502+0000"
        ],
        [
         "partition-user",
         "eyJpbmQiOjcxOSwiZmlyc3RfbmFtZSI6IkFsaWNpYSIsImxhc3RfbmFtZSI6IkF2aWxhIiwiYWdlIjoyMCwiZGF0ZV9qb2luZWQiOiIyMDE2LTAxLTI2IDAxOjQ5OjIzIn0=",
         "streaming-0ad8a60ac12f-user",
         "shardId-000000000000",
         "49648256421248313573246050295864502975388040570119127042",
         "2024-01-14T16:01:36.389+0000"
        ],
        [
         "partition-user",
         "eyJpbmQiOjE3MDQsImZpcnN0X25hbWUiOiJCYXJyeSIsImxhc3RfbmFtZSI6Ikx5bm4iLCJhZ2UiOjIwLCJkYXRlX2pvaW5lZCI6IjIwMTUtMTAtMjggMDU6MDA6MzMifQ==",
         "streaming-0ad8a60ac12f-user",
         "shardId-000000000000",
         "49648256421248313573246050297304333626549064054633136130",
         "2024-01-14T16:01:39.197+0000"
        ],
        [
         "partition-user",
         "eyJpbmQiOjI0ODIsImZpcnN0X25hbWUiOiJEYXZpZCIsImxhc3RfbmFtZSI6Ik1vc3MiLCJhZ2UiOjIyLCJkYXRlX2pvaW5lZCI6IjIwMTYtMDMtMDEgMDc6MTE6NDgifQ==",
         "streaming-0ad8a60ac12f-user",
         "shardId-000000000000",
         "49648256421248313573246050298888026450244228548376133634",
         "2024-01-14T16:01:42.074+0000"
        ],
        [
         "partition-user",
         "eyJpbmQiOjg5MzAsImZpcnN0X25hbWUiOiJBbmRyZXciLCJsYXN0X25hbWUiOiJBbmRlcnNvbiIsImFnZSI6MjMsImRhdGVfam9pbmVkIjoiMjAxNS0xMS0yOCAxMTo1MjozNyJ9",
         "streaming-0ad8a60ac12f-user",
         "shardId-000000000000",
         "49648256421248313573246050300576895820245865642879614978",
         "2024-01-14T16:01:44.976+0000"
        ],
        [
         "partition-user",
         "eyJpbmQiOjcyOTQsImZpcnN0X25hbWUiOiJEYXduIiwibGFzdF9uYW1lIjoiQW5kZXJzb24iLCJhZ2UiOjIwLCJkYXRlX2pvaW5lZCI6IjIwMTYtMTItMzEgMDA6MDY6MzYifQ==",
         "streaming-0ad8a60ac12f-user",
         "shardId-000000000000",
         "49648256421248313573246050301540409698478725301278867458",
         "2024-01-14T16:01:46.776+0000"
        ],
        [
         "partition-user",
         "eyJpbmQiOjgwOCwiZmlyc3RfbmFtZSI6IkFhcm9uIiwibGFzdF9uYW1lIjoiQmFydGxldHQiLCJhZ2UiOjIxLCJkYXRlX2pvaW5lZCI6IjIwMTUtMTEtMjQgMDI6MTU6MzYifQ==",
         "streaming-0ad8a60ac12f-user",
         "shardId-000000000000",
         "49648256421248313573246050302572832348429618685197418498",
         "2024-01-14T16:01:48.545+0000"
        ],
        [
         "partition-user",
         "eyJpbmQiOjc3MSwiZmlyc3RfbmFtZSI6IkJyaXR0YW55IiwibGFzdF9uYW1lIjoiQnV0bGVyIiwiYWdlIjozMiwiZGF0ZV9qb2luZWQiOiIyMDE2LTAzLTEwIDA0OjExOjMxIn0=",
         "streaming-0ad8a60ac12f-user",
         "shardId-000000000000",
         "49648256421248313573246050304216971463105514500236771330",
         "2024-01-14T16:01:51.430+0000"
        ],
        [
         "partition-user",
         "eyJpbmQiOjQwNzYsImZpcnN0X25hbWUiOiJMYXJyeSIsImxhc3RfbmFtZSI6IlBpbmVkYSIsImFnZSI6MjAsImRhdGVfam9pbmVkIjoiMjAxNS0xMC0yMyAyMjo0NzozOSJ9",
         "streaming-0ad8a60ac12f-user",
         "shardId-000000000000",
         "49648256421248313573246050305213126338467969146353090562",
         "2024-01-14T16:01:53.275+0000"
        ],
        [
         "partition-user",
         "eyJpbmQiOjE1NDUsImZpcnN0X25hbWUiOiJKb25hdGhhbiIsImxhc3RfbmFtZSI6IkF2aWxhIiwiYWdlIjo0NiwiZGF0ZV9qb2luZWQiOiIyMDE1LTExLTI3IDIzOjExOjIxIn0=",
         "streaming-0ad8a60ac12f-user",
         "shardId-000000000000",
         "49648256421248313573246050306176640216700828667313389570",
         "2024-01-14T16:01:55.079+0000"
        ],
        [
         "partition-user",
         "eyJpbmQiOjIyOTMsImZpcnN0X25hbWUiOiJBbGV4IiwibGFzdF9uYW1lIjoiQmVhbiIsImFnZSI6MjQsImRhdGVfam9pbmVkIjoiMjAxNi0wMS0xMSAyMzowODoyNyJ9",
         "streaming-0ad8a60ac12f-user",
         "shardId-000000000000",
         "49648256421248313573246050307200600385914419715728474114",
         "2024-01-14T16:01:56.959+0000"
        ],
        [
         "partition-user",
         "eyJpbmQiOjEwNTA5LCJmaXJzdF9uYW1lIjoiQnJpdHRhbnkiLCJsYXN0X25hbWUiOiJUaG9tcHNvbiIsImFnZSI6NDksImRhdGVfam9pbmVkIjoiMjAxNi0wNC0yMiAyMDozNjowMiJ9",
         "streaming-0ad8a60ac12f-user",
         "shardId-000000000000",
         "49648256421248313573246050308153233931770747642835894274",
         "2024-01-14T16:01:58.829+0000"
        ],
        [
         "partition-user",
         "eyJpbmQiOjIwMTUsImZpcnN0X25hbWUiOiJDaHJpc3RvcGhlciIsImxhc3RfbmFtZSI6IkJyYWRzaGF3IiwiYWdlIjoyNywiZGF0ZV9qb2luZWQiOiIyMDE2LTAzLTA4IDEzOjM4OjM3In0=",
         "streaming-0ad8a60ac12f-user",
         "shardId-000000000000",
         "49648256421248313573246050309186865507541255724648628226",
         "2024-01-14T16:02:00.625+0000"
        ],
        [
         "partition-user",
         "eyJpbmQiOjEwOTQsImZpcnN0X25hbWUiOiJBbm4iLCJsYXN0X25hbWUiOiJFbGxpb3R0IiwiYWdlIjoyMCwiZGF0ZV9qb2luZWQiOiIyMDE2LTA3LTAyIDAyOjMyOjMwIn0=",
         "streaming-0ad8a60ac12f-user",
         "shardId-000000000000",
         "49648256421248313573246050310849138509511371046028050434",
         "2024-01-14T16:02:03.558+0000"
        ],
        [
         "partition-user",
         "eyJpbmQiOjYwMywiZmlyc3RfbmFtZSI6IkJyYW5kb24iLCJsYXN0X25hbWUiOiJKYWNrc29uIiwiYWdlIjo0NCwiZGF0ZV9qb2luZWQiOiIyMDE2LTEwLTI5IDAyOjA3OjIxIn0=",
         "streaming-0ad8a60ac12f-user",
         "shardId-000000000000",
         "49648256421248313573246050312467890181975359717118050306",
         "2024-01-14T16:02:06.396+0000"
        ],
        [
         "partition-user",
         "eyJpbmQiOjc3NjgsImZpcnN0X25hbWUiOiJDaHJpc3RpbmUiLCJsYXN0X25hbWUiOiJDb3J0ZXoiLCJhZ2UiOjIzLCJkYXRlX2pvaW5lZCI6IjIwMTUtMTItMDEgMTg6MTU6MDIifQ==",
         "streaming-0ad8a60ac12f-user",
         "shardId-000000000000",
         "49648256421248313573246050314176102365090830947136307202",
         "2024-01-14T16:02:09.342+0000"
        ],
        [
         "partition-user",
         "eyJpbmQiOjU2MzAsImZpcnN0X25hbWUiOiJDYXJsb3MiLCJsYXN0X25hbWUiOiJFc3RyYWRhIiwiYWdlIjoyMiwiZGF0ZV9qb2luZWQiOiIyMDE2LTAyLTA5IDE3OjAxOjM4In0=",
         "streaming-0ad8a60ac12f-user",
         "shardId-000000000000",
         "49648256421248313573246050315920582322794740983676272642",
         "2024-01-14T16:02:12.285+0000"
        ],
        [
         "partition-user",
         "eyJpbmQiOjg1NzgsImZpcnN0X25hbWUiOiJKb2UiLCJsYXN0X25hbWUiOiJQaGFtIiwiYWdlIjo0OCwiZGF0ZV9qb2luZWQiOiIyMDE3LTA2LTAxIDIzOjEzOjI3In0=",
         "streaming-0ad8a60ac12f-user",
         "shardId-000000000000",
         "49648256421248313573246050317684405093612485224450490370",
         "2024-01-14T16:02:15.146+0000"
        ],
        [
         "partition-user",
         "eyJpbmQiOjk5MzYsImZpcnN0X25hbWUiOiJBbnRob255IiwibGFzdF9uYW1lIjoiQ2FudHUiLCJhZ2UiOjI4LCJkYXRlX2pvaW5lZCI6IjIwMTYtMTEtMTUgMTA6NDA6MDMifQ==",
         "streaming-0ad8a60ac12f-user",
         "shardId-000000000000",
         "49648256421248313573246050318890913061587885209526730754",
         "2024-01-14T16:02:17.027+0000"
        ],
        [
         "partition-user",
         "eyJpbmQiOjY4NDQsImZpcnN0X25hbWUiOiJQZXRlciIsImxhc3RfbmFtZSI6IlJvYmVydHMiLCJhZ2UiOjMwLCJkYXRlX2pvaW5lZCI6IjIwMTYtMDctMDMgMTA6NTk6NDAifQ==",
         "streaming-0ad8a60ac12f-user",
         "shardId-000000000000",
         "49648256421248313573246050320774419488547477738596859906",
         "2024-01-14T16:02:19.911+0000"
        ],
        [
         "partition-user",
         "eyJpbmQiOjM0MTksImZpcnN0X25hbWUiOiJBYXJvbiIsImxhc3RfbmFtZSI6IkplbmtpbnMiLCJhZ2UiOjQ3LCJkYXRlX2pvaW5lZCI6IjIwMTctMDQtMjYgMDM6MjY6MjMifQ==",
         "streaming-0ad8a60ac12f-user",
         "shardId-000000000000",
         "49648256421248313573246050321990598863079794757070749698",
         "2024-01-14T16:02:21.753+0000"
        ],
        [
         "partition-user",
         "eyJpbmQiOjEyNjgsImZpcnN0X25hbWUiOiJEb25uYSIsImxhc3RfbmFtZSI6IkNhbXBiZWxsIiwiYWdlIjozMiwiZGF0ZV9qb2luZWQiOiIyMDE2LTA2LTA4IDIyOjEwOjEzIn0=",
         "streaming-0ad8a60ac12f-user",
         "shardId-000000000000",
         "49648256421248313573246050324028847794950059820503269378",
         "2024-01-14T16:02:24.700+0000"
        ],
        [
         "partition-user",
         "eyJpbmQiOjY1NjYsImZpcnN0X25hbWUiOiJBbGV4YW5kZXIiLCJsYXN0X25hbWUiOiJQZXJleiIsImFnZSI6MzEsImRhdGVfam9pbmVkIjoiMjAxNy0wOC0wNCAxNDozMDoyMiJ9",
         "streaming-0ad8a60ac12f-user",
         "shardId-000000000000",
         "49648256421248313573246050325980054067808071445917990914",
         "2024-01-14T16:02:27.550+0000"
        ],
        [
         "partition-user",
         "eyJpbmQiOjE1NTUsImZpcnN0X25hbWUiOiJBbGV4aXMiLCJsYXN0X25hbWUiOiJCZW5uZXR0IiwiYWdlIjo1NCwiZGF0ZV9qb2luZWQiOiIyMDE2LTA1LTE1IDA0OjIyOjAxIn0=",
         "streaming-0ad8a60ac12f-user",
         "shardId-000000000000",
         "49648256421248313573246050327677385918547010944644415490",
         "2024-01-14T16:02:30.354+0000"
        ],
        [
         "partition-user",
         "eyJpbmQiOjM3MjksImZpcnN0X25hbWUiOiJSaWNoYXJkIiwibGFzdF9uYW1lIjoiRWR3YXJkcyIsImFnZSI6NTIsImRhdGVfam9pbmVkIjoiMjAxNi0wMi0wNyAyMDowMDoyNSJ9",
         "streaming-0ad8a60ac12f-user",
         "shardId-000000000000",
         "49648256421248313573246050328831910076278982012647243778",
         "2024-01-14T16:02:32.206+0000"
        ],
        [
         "partition-user",
         "eyJpbmQiOjYzOTgsImZpcnN0X25hbWUiOiJDaHJpc3RpbmEiLCJsYXN0X25hbWUiOiJEYXZlbnBvcnQiLCJhZ2UiOjM5LCJkYXRlX2pvaW5lZCI6IjIwMTYtMDYtMjkgMjA6NDM6NTkifQ==",
         "streaming-0ad8a60ac12f-user",
         "shardId-000000000000",
         "49648256421248313573246050329973136049995192091008827394",
         "2024-01-14T16:02:34.074+0000"
        ],
        [
         "partition-user",
         "eyJpbmQiOjQ2LCJmaXJzdF9uYW1lIjoiRXJpayIsImxhc3RfbmFtZSI6IktlbGxleSIsImFnZSI6MzAsImRhdGVfam9pbmVkIjoiMjAxNi0wMS0wNiAwOTo1ODo1NiJ9",
         "streaming-0ad8a60ac12f-user",
         "shardId-000000000000",
         "49648256421248313573246050331799822963432896980148289538",
         "2024-01-14T16:02:36.975+0000"
        ],
        [
         "partition-user",
         "eyJpbmQiOjQ5ODgsImZpcnN0X25hbWUiOiJSaG9uZGEiLCJsYXN0X25hbWUiOiJEdXJoYW0iLCJhZ2UiOjI1LCJkYXRlX2pvaW5lZCI6IjIwMTctMDctMjAgMDU6NTE6MjMifQ==",
         "streaming-0ad8a60ac12f-user",
         "shardId-000000000000",
         "49648256421248313573246050333714761461702469730321825794",
         "2024-01-14T16:02:39.857+0000"
        ],
        [
         "partition-user",
         "eyJpbmQiOjQyNywiZmlyc3RfbmFtZSI6IkpvbiIsImxhc3RfbmFtZSI6IkJ1cmtlIiwiYWdlIjoyNSwiZGF0ZV9qb2luZWQiOiIyMDE1LTExLTI2IDE3OjQyOjM3In0=",
         "streaming-0ad8a60ac12f-user",
         "shardId-000000000000",
         "49648256421248313573246050334847524954681377404460466178",
         "2024-01-14T16:02:41.690+0000"
        ],
        [
         "partition-user",
         "eyJpbmQiOjM4MDAsImZpcnN0X25hbWUiOiJBZGFtIiwibGFzdF9uYW1lIjoiQXJtc3Ryb25nIiwiYWdlIjoyMCwiZGF0ZV9qb2luZWQiOiIyMDE1LTEyLTE3IDA4OjQzOjQwIn0=",
         "streaming-0ad8a60ac12f-user",
         "shardId-000000000000",
         "49648256421248313573246050336772134859507867256751128578",
         "2024-01-14T16:02:44.590+0000"
        ],
        [
         "partition-user",
         "eyJpbmQiOjE1OSwiZmlyc3RfbmFtZSI6IkFsaXNvbiIsImxhc3RfbmFtZSI6IkJlbGwiLCJhZ2UiOjIxLCJkYXRlX2pvaW5lZCI6IjIwMTYtMDEtMDcgMDg6MTE6MzUifQ==",
         "streaming-0ad8a60ac12f-user",
         "shardId-000000000000",
         "49648256421248313573246050338558927220898289314405810178",
         "2024-01-14T16:02:47.445+0000"
        ],
        [
         "partition-user",
         "eyJpbmQiOjM1OTksImZpcnN0X25hbWUiOiJBbGV4YW5kcmlhIiwibGFzdF9uYW1lIjoiQWx2YXJhZG8iLCJhZ2UiOjIwLCJkYXRlX2pvaW5lZCI6IjIwMTUtMTAtMjMgMDQ6MTM6MjMifQ==",
         "streaming-0ad8a60ac12f-user",
         "shardId-000000000000",
         "49648256421248313573246050339744883449940240740950999042",
         "2024-01-14T16:02:49.308+0000"
        ],
        [
         "partition-user",
         "eyJpbmQiOjEwNTUyLCJmaXJzdF9uYW1lIjoiTWljaGFlbCIsImxhc3RfbmFtZSI6Ikh1bnRlciIsImFnZSI6NDAsImRhdGVfam9pbmVkIjoiMjAxNy0wNS0xNiAwNzowOToyMSJ9",
         "streaming-0ad8a60ac12f-user",
         "shardId-000000000000",
         "49648256421248313573246050341563107882640643157148041218",
         "2024-01-14T16:02:52.172+0000"
        ],
        [
         "partition-user",
         "eyJpbmQiOjE0MjIsImZpcnN0X25hbWUiOiJBYXJvbiIsImxhc3RfbmFtZSI6IkFiYm90dCIsImFnZSI6MjAsImRhdGVfam9pbmVkIjoiMjAxNS0xMC0zMSAxODo1MTowNyJ9",
         "streaming-0ad8a60ac12f-user",
         "shardId-000000000000",
         "49648256421248313573246050342753899814961053031672578050",
         "2024-01-14T16:02:53.978+0000"
        ],
        [
         "partition-user",
         "eyJpbmQiOjUzMDksImZpcnN0X25hbWUiOiJEYW5pZWwiLCJsYXN0X25hbWUiOiJSb3kiLCJhZ2UiOjMxLCJkYXRlX2pvaW5lZCI6IjIwMTYtMDMtMDcgMDE6MDE6MjQifQ==",
         "streaming-0ad8a60ac12f-user",
         "shardId-000000000000",
         "49648256421248313573246050344610809873889123650179694594",
         "2024-01-14T16:02:56.855+0000"
        ],
        [
         "partition-user",
         "eyJpbmQiOjU1MiwiZmlyc3RfbmFtZSI6IlJlZ2luYSIsImxhc3RfbmFtZSI6Ik1vcmFsZXMiLCJhZ2UiOjIwLCJkYXRlX2pvaW5lZCI6IjIwMTctMDEtMTcgMDE6NDk6MjcifQ==",
         "streaming-0ad8a60ac12f-user",
         "shardId-000000000000",
         "49648256421248313573246050346384304051263784855632084994",
         "2024-01-14T16:02:59.772+0000"
        ],
        [
         "partition-user",
         "eyJpbmQiOjEzNzEsImZpcnN0X25hbWUiOiJBbWFuZGEiLCJsYXN0X25hbWUiOiJCcm93biIsImFnZSI6MjAsImRhdGVfam9pbmVkIjoiMjAxNS0xMS0xMiAwMzoyMzo0OSJ9",
         "streaming-0ad8a60ac12f-user",
         "shardId-000000000000",
         "49648256421248313573246050347547290689733058259138379778",
         "2024-01-14T16:03:01.729+0000"
        ],
        [
         "partition-user",
         "eyJpbmQiOjEwMTE5LCJmaXJzdF9uYW1lIjoiQ2hlbHNlYSIsImxhc3RfbmFtZSI6IkdvbnphbGV6IiwiYWdlIjo0MywiZGF0ZV9qb2luZWQiOiIyMDE2LTA3LTIxIDE1OjI1OjA4In0=",
         "streaming-0ad8a60ac12f-user",
         "shardId-000000000000",
         "49648256421248313573246050348652248888860829462258778114",
         "2024-01-14T16:03:03.587+0000"
        ],
        [
         "partition-user",
         "eyJpbmQiOjkwNzQsImZpcnN0X25hbWUiOiJBYXJvbiIsImxhc3RfbmFtZSI6IkFsZXhhbmRlciIsImFnZSI6MjEsImRhdGVfam9pbmVkIjoiMjAxNS0xMC0yNSAwNzozNjowOCJ9",
         "streaming-0ad8a60ac12f-user",
         "shardId-000000000000",
         "49648256421248313573246050350611917642456143560615919618",
         "2024-01-14T16:03:06.448+0000"
        ],
        [
         "partition-user",
         "eyJpbmQiOjI2MDQsImZpcnN0X25hbWUiOiJBc2hsZXkiLCJsYXN0X25hbWUiOiJFdmFucyIsImFnZSI6MzAsImRhdGVfam9pbmVkIjoiMjAxNi0wMi0yMSAxMjo1NDowMSJ9",
         "streaming-0ad8a60ac12f-user",
         "shardId-000000000000",
         "49648256421248313573246050351855902310839597118827528194",
         "2024-01-14T16:03:08.328+0000"
        ],
        [
         "partition-user",
         "eyJpbmQiOjIyMywiZmlyc3RfbmFtZSI6Ik1lbGFuaWUiLCJsYXN0X25hbWUiOiJIaWxsIiwiYWdlIjo1MSwiZGF0ZV9qb2luZWQiOiIyMDE2LTEwLTA5IDE0OjQ3OjUxIn0=",
         "streaming-0ad8a60ac12f-user",
         "shardId-000000000000",
         "49648256421248313573246050353053947798077694699680825346",
         "2024-01-14T16:03:10.196+0000"
        ],
        [
         "partition-user",
         "eyJpbmQiOjgzMTIsImZpcnN0X25hbWUiOiJEYW5pZWwiLCJsYXN0X25hbWUiOiJCcm9va3MiLCJhZ2UiOjI1LCJkYXRlX2pvaW5lZCI6IjIwMTUtMTEtMTkgMjE6MjQ6MzMifQ==",
         "streaming-0ad8a60ac12f-user",
         "shardId-000000000000",
         "49648256421248313573246050354943498854135360374624485378",
         "2024-01-14T16:03:13.115+0000"
        ],
        [
         "partition-user",
         "eyJpbmQiOjI4NTgsImZpcnN0X25hbWUiOiJBbm5lIiwibGFzdF9uYW1lIjoiQm9uZCIsImFnZSI6MjEsImRhdGVfam9pbmVkIjoiMjAxNS0xMi0yNyAyMzo0Mzo0MiJ9",
         "streaming-0ad8a60ac12f-user",
         "shardId-000000000000",
         "49648256421248313573246050356800408913063430924412125186",
         "2024-01-14T16:03:15.955+0000"
        ],
        [
         "partition-user",
         "eyJpbmQiOjYyNjEsImZpcnN0X25hbWUiOiJOaWNob2xhcyIsImxhc3RfbmFtZSI6IkhhcnQiLCJhZ2UiOjM4LCJkYXRlX2pvaW5lZCI6IjIwMTUtMTAtMjYgMDk6NDU6NDUifQ==",
         "streaming-0ad8a60ac12f-user",
         "shardId-000000000000",
         "49648256421248313573246050358595663755191155455009226754",
         "2024-01-14T16:03:18.791+0000"
        ],
        [
         "partition-user",
         "eyJpbmQiOjMyMDEsImZpcnN0X25hbWUiOiJFbGl6YWJldGgiLCJsYXN0X25hbWUiOiJUZXJyeSIsImFnZSI6MjgsImRhdGVfam9pbmVkIjoiMjAxNi0wMS0yOSAyMDozMjowNSJ9",
         "streaming-0ad8a60ac12f-user",
         "shardId-000000000000",
         "49648256421248313573246050360364322229287358143762792450",
         "2024-01-14T16:03:21.548+0000"
        ],
        [
         "partition-user",
         "eyJpbmQiOjI2MzcsImZpcnN0X25hbWUiOiJTaGF3biIsImxhc3RfbmFtZSI6IkpvbmVzIiwiYWdlIjozMiwiZGF0ZV9qb2luZWQiOiIyMDE2LTA4LTIzIDIwOjM2OjEyIn0=",
         "streaming-0ad8a60ac12f-user",
         "shardId-000000000000",
         "49648256421248313573246050361581710529639289860130865154",
         "2024-01-14T16:03:23.372+0000"
        ],
        [
         "partition-user",
         "eyJpbmQiOjExOTgsImZpcnN0X25hbWUiOiJBcmlhbmEiLCJsYXN0X25hbWUiOiJHcm9zcyIsImFnZSI6NTksImRhdGVfam9pbmVkIjoiMjAxNi0xMi0xNyAxMToxMDo0OCJ9",
         "streaming-0ad8a60ac12f-user",
         "shardId-000000000000",
         "49648256421248313573246050363356413632833565626038484994",
         "2024-01-14T16:03:26.152+0000"
        ],
        [
         "partition-user",
         "eyJpbmQiOjEwMzcwLCJmaXJzdF9uYW1lIjoiRGVycmljayIsImxhc3RfbmFtZSI6IktpbSIsImFnZSI6MzAsImRhdGVfam9pbmVkIjoiMjAxNi0xMi0yMSAxMzozOToxNCJ9",
         "streaming-0ad8a60ac12f-user",
         "shardId-000000000000",
         "49648256421248313573246050365191563027008572988120367106",
         "2024-01-14T16:03:29.023+0000"
        ],
        [
         "partition-user",
         "eyJpbmQiOjcxNjcsImZpcnN0X25hbWUiOiJEYXduIiwibGFzdF9uYW1lIjoiQnJhZGxleSIsImFnZSI6MjAsImRhdGVfam9pbmVkIjoiMjAxNi0wOC0yNiAxNjowOTo1MiJ9",
         "streaming-0ad8a60ac12f-user",
         "shardId-000000000000",
         "49648256421248313573246050366344878258920929289509535746",
         "2024-01-14T16:03:30.746+0000"
        ],
        [
         "partition-user",
         "eyJpbmQiOjEwNjczLCJmaXJzdF9uYW1lIjoiQWxleGFuZGVyIiwibGFzdF9uYW1lIjoiQ2VydmFudGVzIiwiYWdlIjo1OSwiZGF0ZV9qb2luZWQiOiIyMDE3LTA1LTEyIDIxOjIyOjE3In0=",
         "streaming-0ad8a60ac12f-user",
         "shardId-000000000000",
         "49648256421248313573246050367568311188370934220470616066",
         "2024-01-14T16:03:32.548+0000"
        ],
        [
         "partition-user",
         "eyJpbmQiOjIwNjAsImZpcnN0X25hbWUiOiJKb3NodWEiLCJsYXN0X25hbWUiOiJMb25nIiwiYWdlIjoyNywiZGF0ZV9qb2luZWQiOiIyMDE2LTEyLTE4IDEwOjExOjIzIn0=",
         "streaming-0ad8a60ac12f-user",
         "shardId-000000000000",
         "49648256421248313573246050369281359074764863898468220930",
         "2024-01-14T16:03:35.390+0000"
        ],
        [
         "partition-user",
         "eyJpbmQiOjk0ODcsImZpcnN0X25hbWUiOiJKb3NlIiwibGFzdF9uYW1lIjoiQmFpbGV5IiwiYWdlIjoyMSwiZGF0ZV9qb2luZWQiOiIyMDE2LTAxLTEwIDA5OjQxOjE0In0=",
         "streaming-0ad8a60ac12f-user",
         "shardId-000000000000",
         "49648256421248313573246050370602714995603653655141548034",
         "2024-01-14T16:03:37.298+0000"
        ],
        [
         "partition-user",
         "eyJpbmQiOjc3MiwiZmlyc3RfbmFtZSI6IkdsZW5uIiwibGFzdF9uYW1lIjoiSGFtbW9uZCIsImFnZSI6MjUsImRhdGVfam9pbmVkIjoiMjAxNi0wNC0yNyAwMjo1OToyNyJ9",
         "streaming-0ad8a60ac12f-user",
         "shardId-000000000000",
         "49648256421248313573246050371730642785304102881300840450",
         "2024-01-14T16:03:39.200+0000"
        ],
        [
         "partition-user",
         "eyJpbmQiOjc1MTAsImZpcnN0X25hbWUiOiJEZWJyYSIsImxhc3RfbmFtZSI6IkJlY2tlciIsImFnZSI6MjAsImRhdGVfam9pbmVkIjoiMjAxNi0wNy0yNyAwNjoyMDo0OCJ9",
         "streaming-0ad8a60ac12f-user",
         "shardId-000000000000",
         "49648256421248313573246050373481167372106086063714336770",
         "2024-01-14T16:03:42.061+0000"
        ],
        [
         "partition-user",
         "eyJpbmQiOjU3NTgsImZpcnN0X25hbWUiOiJBbWFuZGEiLCJsYXN0X25hbWUiOiJBcm5vbGQiLCJhZ2UiOjIwLCJkYXRlX2pvaW5lZCI6IjIwMTUtMTAtMjYgMjM6MDQ6NTIifQ==",
         "streaming-0ad8a60ac12f-user",
         "shardId-000000000000",
         "49648256421248313573246050375219602700711923091819724802",
         "2024-01-14T16:03:44.949+0000"
        ],
        [
         "partition-user",
         "eyJpbmQiOjExMzcsImZpcnN0X25hbWUiOiJWaXJnaW5pYSIsImxhc3RfbmFtZSI6IlZlZ2EiLCJhZ2UiOjM4LCJkYXRlX2pvaW5lZCI6IjIwMTctMDUtMDMgMDM6MDg6MzMifQ==",
         "streaming-0ad8a60ac12f-user",
         "shardId-000000000000",
         "49648256421248313573246050376383798265000811055781249026",
         "2024-01-14T16:03:46.806+0000"
        ],
        [
         "partition-user",
         "eyJpbmQiOjcyMzQsImZpcnN0X25hbWUiOiJBbmdlbGEiLCJsYXN0X25hbWUiOiJBbGxlbiIsImFnZSI6MjAsImRhdGVfam9pbmVkIjoiMjAxNS0xMC0yNiAwNDoxMjozMiJ9",
         "streaming-0ad8a60ac12f-user",
         "shardId-000000000000",
         "49648256421248313573246050377549202755109313717636956162",
         "2024-01-14T16:03:48.598+0000"
        ],
        [
         "partition-user",
         "eyJpbmQiOjMyNywiZmlyc3RfbmFtZSI6IkppbGwiLCJsYXN0X25hbWUiOiJUYXlsb3IiLCJhZ2UiOjM5LCJkYXRlX2pvaW5lZCI6IjIwMTUtMTItMDQgMDM6MTU6MjgifQ==",
         "streaming-0ad8a60ac12f-user",
         "shardId-000000000000",
         "49648256421248313573246050379348084374695882135758176258",
         "2024-01-14T16:03:51.466+0000"
        ],
        [
         "partition-user",
         "eyJpbmQiOjc4NzQsImZpcnN0X25hbWUiOiJBYXJvbiIsImxhc3RfbmFtZSI6IkFiYm90dCIsImFnZSI6MjAsImRhdGVfam9pbmVkIjoiMjAxNS0xMC0yMyAxNjowODo0MSJ9",
         "streaming-0ad8a60ac12f-user",
         "shardId-000000000000",
         "49648256421248313573246050380486892496772862955770347522",
         "2024-01-14T16:03:53.289+0000"
        ],
        [
         "partition-user",
         "eyJpbmQiOjE0NTAsImZpcnN0X25hbWUiOiJBYXJvbiIsImxhc3RfbmFtZSI6IkFiYm90dCIsImFnZSI6MjAsImRhdGVfam9pbmVkIjoiMjAxNS0xMC0zMSAxODo1MTowNyJ9",
         "streaming-0ad8a60ac12f-user",
         "shardId-000000000000",
         "49648256421248313573246050381551956143853351327405965314",
         "2024-01-14T16:03:55.066+0000"
        ],
        [
         "partition-user",
         "eyJpbmQiOjEwMjQ1LCJmaXJzdF9uYW1lIjoiSnVsaWUiLCJsYXN0X25hbWUiOiJDb29rIiwiYWdlIjozNCwiZGF0ZV9qb2luZWQiOiIyMDE2LTA1LTA4IDE2OjI3OjAxIn0=",
         "streaming-0ad8a60ac12f-user",
         "shardId-000000000000",
         "49648256421248313573246050383331494950326085678731886594",
         "2024-01-14T16:03:57.859+0000"
        ],
        [
         "partition-user",
         "eyJpbmQiOjkwOTMsImZpcnN0X25hbWUiOiJBbGJlcnQiLCJsYXN0X25hbWUiOiJBZGFtcyIsImFnZSI6MjEsImRhdGVfam9pbmVkIjoiMjAxNS0xMS0wNSAyMjowNzo1NiJ9",
         "streaming-0ad8a60ac12f-user",
         "shardId-000000000000",
         "49648256421248313573246050384446124556010773915249934338",
         "2024-01-14T16:03:59.716+0000"
        ],
        [
         "partition-user",
         "eyJpbmQiOjIzMDEsImZpcnN0X25hbWUiOiJLYXJpbmEiLCJsYXN0X25hbWUiOiJNb3J0b24iLCJhZ2UiOjMxLCJkYXRlX2pvaW5lZCI6IjIwMTYtMDEtMjEgMTI6NTM6MzQifQ==",
         "streaming-0ad8a60ac12f-user",
         "shardId-000000000000",
         "49648256421248313573246050385670766411280393475385720834",
         "2024-01-14T16:04:01.823+0000"
        ],
        [
         "partition-user",
         "eyJpbmQiOjI3ODgsImZpcnN0X25hbWUiOiJKZXN1cyIsImxhc3RfbmFtZSI6IkFyZWxsYW5vIiwiYWdlIjo0MywiZGF0ZV9qb2luZWQiOiIyMDE2LTAzLTIyIDE1OjQ1OjIxIn0=",
         "streaming-0ad8a60ac12f-user",
         "shardId-000000000000",
         "49648256421248313573246050386851886937043886247793131522",
         "2024-01-14T16:04:03.674+0000"
        ],
        [
         "partition-user",
         "eyJpbmQiOjkyNjgsImZpcnN0X25hbWUiOiJBbGV4YW5kZXIiLCJsYXN0X25hbWUiOiJCYWlsZXkiLCJhZ2UiOjIwLCJkYXRlX2pvaW5lZCI6IjIwMTUtMTAtMzAgMTE6Mzc6MzIifQ==",
         "streaming-0ad8a60ac12f-user",
         "shardId-000000000000",
         "49648256421248313573246050388656813185728527811787882498",
         "2024-01-14T16:04:06.482+0000"
        ],
        [
         "partition-user",
         "eyJpbmQiOjE3MDYsImZpcnN0X25hbWUiOiJBbXkiLCJsYXN0X25hbWUiOiJBZGFtcyIsImFnZSI6MjAsImRhdGVfam9pbmVkIjoiMjAxNS0xMC0yNCAwNTowNToyOCJ9",
         "streaming-0ad8a60ac12f-user",
         "shardId-000000000000",
         "49648256421248313573246050390552408870884266563885596674",
         "2024-01-14T16:04:09.304+0000"
        ],
        [
         "partition-user",
         "eyJpbmQiOjUyOTMsImZpcnN0X25hbWUiOiJEYXZpZCIsImxhc3RfbmFtZSI6IlRheWxvciIsImFnZSI6MzYsImRhdGVfam9pbmVkIjoiMjAxNi0wNi0wMyAyMzo1Mzo1MCJ9",
         "streaming-0ad8a60ac12f-user",
         "shardId-000000000000",
         "49648256421248313573246050392543509695789560952065622018",
         "2024-01-14T16:04:12.070+0000"
        ],
        [
         "partition-user",
         "eyJpbmQiOjc3MzMsImZpcnN0X25hbWUiOiJBYXJvbiIsImxhc3RfbmFtZSI6IkFiYm90dCIsImFnZSI6MjAsImRhdGVfam9pbmVkIjoiMjAxNS0xMC0yMyAxNjowODo0MSJ9",
         "streaming-0ad8a60ac12f-user",
         "shardId-000000000000",
         "49648256421248313573246050393915640501052165271515561986",
         "2024-01-14T16:04:13.899+0000"
        ],
        [
         "partition-user",
         "eyJpbmQiOjM3MTYsImZpcnN0X25hbWUiOiJDYXRoZXJpbmUiLCJsYXN0X25hbWUiOiJGZXJyZWxsIiwiYWdlIjoyMSwiZGF0ZV9qb2luZWQiOiIyMDE3LTAxLTAyIDAzOjAxOjA5In0=",
         "streaming-0ad8a60ac12f-user",
         "shardId-000000000000",
         "49648256421248313573246050396022798204640464060467380226",
         "2024-01-14T16:04:16.734+0000"
        ],
        [
         "partition-user",
         "eyJpbmQiOjM3NTAsImZpcnN0X25hbWUiOiJHYXJ5IiwibGFzdF9uYW1lIjoiQmFya2VyIiwiYWdlIjoyOCwiZGF0ZV9qb2luZWQiOiIyMDE1LTExLTI2IDExOjIzOjUwIn0=",
         "streaming-0ad8a60ac12f-user",
         "shardId-000000000000",
         "49648256421248313573246050398017525807004602404891000834",
         "2024-01-14T16:04:19.458+0000"
        ],
        [
         "partition-user",
         "eyJpbmQiOjIzMiwiZmlyc3RfbmFtZSI6IlNhcmFoIiwibGFzdF9uYW1lIjoiQnVjaGFuYW4iLCJhZ2UiOjMzLCJkYXRlX2pvaW5lZCI6IjIwMTctMDQtMTkgMDg6NDk6NDAifQ==",
         "streaming-0ad8a60ac12f-user",
         "shardId-000000000000",
         "49648256421248313573246050399425924386855645530862649346",
         "2024-01-14T16:04:21.330+0000"
        ],
        [
         "partition-user",
         "eyJpbmQiOjgzMDAsImZpcnN0X25hbWUiOiJOYXRoYW4iLCJsYXN0X25hbWUiOiJTdGFudG9uIiwiYWdlIjo1MSwiZGF0ZV9qb2luZWQiOiIyMDE3LTA4LTE0IDA4OjI2OjMwIn0=",
         "streaming-0ad8a60ac12f-user",
         "shardId-000000000000",
         "49648256421248313573246050400793219488839791196174811138",
         "2024-01-14T16:04:23.082+0000"
        ],
        [
         "partition-user",
         "eyJpbmQiOjg5NzgsImZpcnN0X25hbWUiOiJNYXJrIiwibGFzdF9uYW1lIjoiSm9uZXMiLCJhZ2UiOjM0LCJkYXRlX2pvaW5lZCI6IjIwMTctMDgtMjIgMDA6MDE6MjkifQ==",
         "streaming-0ad8a60ac12f-user",
         "shardId-000000000000",
         "49648256421248313573246050402056546970337078821181718530",
         "2024-01-14T16:04:24.844+0000"
        ],
        [
         "partition-user",
         "eyJpbmQiOjIwNDgsImZpcnN0X25hbWUiOiJBbm4iLCJsYXN0X25hbWUiOiJDaHVuZyIsImFnZSI6MjIsImRhdGVfam9pbmVkIjoiMjAxNS0xMS0xOCAyMzoxMToxNSJ9",
         "streaming-0ad8a60ac12f-user",
         "shardId-000000000000",
         "49648256421248313573246050403365813632979722354827460610",
         "2024-01-14T16:04:26.585+0000"
        ],
        [
         "partition-user",
         "eyJpbmQiOjEwMzM3LCJmaXJzdF9uYW1lIjoiQ2FycmllIiwibGFzdF9uYW1lIjoiUGFya2VyIiwiYWdlIjo0NiwiZGF0ZV9qb2luZWQiOiIyMDE2LTA5LTExIDIyOjMyOjUwIn0=",
         "streaming-0ad8a60ac12f-user",
         "shardId-000000000000",
         "49648256421248313573246050405327900238214265780253491202",
         "2024-01-14T16:04:29.399+0000"
        ],
        [
         "partition-user",
         "eyJpbmQiOjc4MzIsImZpcnN0X25hbWUiOiJTYW11ZWwiLCJsYXN0X25hbWUiOiJIYXdraW5zIiwiYWdlIjozOSwiZGF0ZV9qb2luZWQiOiIyMDE2LTA2LTMwIDAyOjU2OjA2In0=",
         "streaming-0ad8a60ac12f-user",
         "shardId-000000000000",
         "49648256421248313573246050406672225749625733491246235650",
         "2024-01-14T16:04:31.218+0000"
        ],
        [
         "partition-user",
         "eyJpbmQiOjgzNjYsImZpcnN0X25hbWUiOiJKdXN0aW4iLCJsYXN0X25hbWUiOiJFd2luZyIsImFnZSI6NTYsImRhdGVfam9pbmVkIjoiMjAxNi0wMi0wNCAyMzoyNzozNiJ9",
         "streaming-0ad8a60ac12f-user",
         "shardId-000000000000",
         "49648256421248313573246050408737071049527520259083337730",
         "2024-01-14T16:04:34.073+0000"
        ],
        [
         "partition-user",
         "eyJpbmQiOjMzMzQsImZpcnN0X25hbWUiOiJBbWJlciIsImxhc3RfbmFtZSI6IkNhc2V5IiwiYWdlIjoyMywiZGF0ZV9qb2luZWQiOiIyMDE2LTAxLTA2IDEyOjIyOjA4In0=",
         "streaming-0ad8a60ac12f-user",
         "shardId-000000000000",
         "49648256421248313573246050410904675044096550575489941506",
         "2024-01-14T16:04:36.917+0000"
        ],
        [
         "partition-user",
         "eyJpbmQiOjc3OCwiZmlyc3RfbmFtZSI6IkNocmlzdGluZSIsImxhc3RfbmFtZSI6IkFkYW1zIiwiYWdlIjozMSwiZGF0ZV9qb2luZWQiOiIyMDE2LTAyLTA2IDEwOjIyOjUzIn0=",
         "streaming-0ad8a60ac12f-user",
         "shardId-000000000000",
         "49648256421248313573246050412900611572280303549088268290",
         "2024-01-14T16:04:39.688+0000"
        ],
        [
         "partition-user",
         "eyJpbmQiOjQ4MCwiZmlyc3RfbmFtZSI6IlRpbW90aHkiLCJsYXN0X25hbWUiOiJTdWxsaXZhbiIsImFnZSI6NDAsImRhdGVfam9pbmVkIjoiMjAxNy0wMS0xMiAwODozNzoxMiJ9",
         "streaming-0ad8a60ac12f-user",
         "shardId-000000000000",
         "49648256421248313573246050414931606949232880768753074178",
         "2024-01-14T16:04:42.525+0000"
        ],
        [
         "partition-user",
         "eyJpbmQiOjMwMTEsImZpcnN0X25hbWUiOiJKdXN0aW4iLCJsYXN0X25hbWUiOiJTaW5nbGV0b24iLCJhZ2UiOjIwLCJkYXRlX2pvaW5lZCI6IjIwMTctMDMtMTAgMTk6NTM6NDQifQ==",
         "streaming-0ad8a60ac12f-user",
         "shardId-000000000000",
         "49648256421248313573246050416190098727451709877061156866",
         "2024-01-14T16:04:44.302+0000"
        ],
        [
         "partition-user",
         "eyJpbmQiOjk0NzUsImZpcnN0X25hbWUiOiJKZXNzaWNhIiwibGFzdF9uYW1lIjoiTWVqaWEiLCJhZ2UiOjQwLCJkYXRlX2pvaW5lZCI6IjIwMTYtMDEtMDMgMTI6MDM6MDUifQ==",
         "streaming-0ad8a60ac12f-user",
         "shardId-000000000000",
         "49648256421248313573246050417484858280258977791890948098",
         "2024-01-14T16:04:46.239+0000"
        ],
        [
         "partition-user",
         "eyJpbmQiOjc1ODYsImZpcnN0X25hbWUiOiJBYXJvbiIsImxhc3RfbmFtZSI6IkFsZXhhbmRlciIsImFnZSI6MjEsImRhdGVfam9pbmVkIjoiMjAxNS0xMC0yNSAwNzozNjowOCJ9",
         "streaming-0ad8a60ac12f-user",
         "shardId-000000000000",
         "49648256421248313573246050418944031744533835411919732738",
         "2024-01-14T16:04:48.106+0000"
        ],
        [
         "partition-user",
         "eyJpbmQiOjE4NjQsImZpcnN0X25hbWUiOiJBbGV4YW5kZXIiLCJsYXN0X25hbWUiOiJBZGFtcyIsImFnZSI6MzIsImRhdGVfam9pbmVkIjoiMjAxNS0xMC0yOCAxNTo0ODoyNCJ9",
         "streaming-0ad8a60ac12f-user",
         "shardId-000000000000",
         "49648256421248313573246050420375399914957556423491321858",
         "2024-01-14T16:04:50.095+0000"
        ],
        [
         "partition-user",
         "eyJpbmQiOjYwMTQsImZpcnN0X25hbWUiOiJNYXJ5IiwibGFzdF9uYW1lIjoiTHVuYSIsImFnZSI6MjIsImRhdGVfam9pbmVkIjoiMjAxNi0wMS0wMiAwMTo0MDo1MiJ9",
         "streaming-0ad8a60ac12f-user",
         "shardId-000000000000",
         "49648256421248313573246050421637518470635229488042999810",
         "2024-01-14T16:04:51.960+0000"
        ],
        [
         "partition-user",
         "eyJpbmQiOjE5NjcsImZpcnN0X25hbWUiOiJKYXkiLCJsYXN0X25hbWUiOiJGbHlubiIsImFnZSI6MjQsImRhdGVfam9pbmVkIjoiMjAxNi0wNS0xMiAxNjoyODoyNyJ9",
         "streaming-0ad8a60ac12f-user",
         "shardId-000000000000",
         "49648256421248313573246050423647962108654357943018323970",
         "2024-01-14T16:04:54.803+0000"
        ],
        [
         "partition-user",
         "eyJpbmQiOjE2OTksImZpcnN0X25hbWUiOiJCcmFuZG9uIiwibGFzdF9uYW1lIjoiQ3VtbWluZ3MiLCJhZ2UiOjIyLCJkYXRlX2pvaW5lZCI6IjIwMTYtMDUtMTEgMDE6MzY6MDAifQ==",
         "streaming-0ad8a60ac12f-user",
         "shardId-000000000000",
         "49648256421248313573246050425701927076179613185722023938",
         "2024-01-14T16:04:57.674+0000"
        ],
        [
         "partition-user",
         "eyJpbmQiOjQ5OTYsImZpcnN0X25hbWUiOiJKb2huIiwibGFzdF9uYW1lIjoiQW5kZXJzb24iLCJhZ2UiOjI3LCJkYXRlX2pvaW5lZCI6IjIwMTYtMDMtMDMgMDc6Mjg6MzkifQ==",
         "streaming-0ad8a60ac12f-user",
         "shardId-000000000000",
         "49648256421248313573246050427701490381822209978124992514",
         "2024-01-14T16:05:00.518+0000"
        ],
        [
         "partition-user",
         "eyJpbmQiOjEwMTY4LCJmaXJzdF9uYW1lIjoiTmljb2xlIiwibGFzdF9uYW1lIjoiR3JheSIsImFnZSI6NTMsImRhdGVfam9pbmVkIjoiMjAxNi0wMi0yMCAxMzowMzowMCJ9",
         "streaming-0ad8a60ac12f-user",
         "shardId-000000000000",
         "49648256421248313573246050429705889390743265287226785794",
         "2024-01-14T16:05:03.548+0000"
        ],
        [
         "partition-user",
         "eyJpbmQiOjUzMzMsImZpcnN0X25hbWUiOiJBYXJvbiIsImxhc3RfbmFtZSI6IkNsYXJrIiwiYWdlIjozNSwiZGF0ZV9qb2luZWQiOiIyMDE2LTExLTE5IDIyOjM2OjQ5In0=",
         "streaming-0ad8a60ac12f-user",
         "shardId-000000000000",
         "49648256421248313573246050431016364979205523518766710786",
         "2024-01-14T16:05:05.363+0000"
        ],
        [
         "partition-user",
         "eyJpbmQiOjI1NjUsImZpcnN0X25hbWUiOiJBbnRob255IiwibGFzdF9uYW1lIjoiQWRraW5zIiwiYWdlIjoyMSwiZGF0ZV9qb2luZWQiOiIyMDE1LTEwLTI4IDAzOjU5OjQyIn0=",
         "streaming-0ad8a60ac12f-user",
         "shardId-000000000000",
         "49648256421248313573246050432386077932828898511147761666",
         "2024-01-14T16:05:07.245+0000"
        ],
        [
         "partition-user",
         "eyJpbmQiOjk3NzgsImZpcnN0X25hbWUiOiJIb2xseSIsImxhc3RfbmFtZSI6IkNhbXBiZWxsIiwiYWdlIjozMCwiZGF0ZV9qb2luZWQiOiIyMDE2LTA3LTA4IDE5OjEwOjM3In0=",
         "streaming-0ad8a60ac12f-user",
         "shardId-000000000000",
         "49648256421248313573246050434789422462222781516622069762",
         "2024-01-14T16:05:10.067+0000"
        ],
        [
         "partition-user",
         "eyJpbmQiOjMxNDUsImZpcnN0X25hbWUiOiJDcnlzdGFsIiwibGFzdF9uYW1lIjoiU2NobWlkdCIsImFnZSI6MjIsImRhdGVfam9pbmVkIjoiMjAxNy0wNC0xNCAxMzo1Nzo1MiJ9",
         "streaming-0ad8a60ac12f-user",
         "shardId-000000000000",
         "49648256421248313573246050436324758253133360637218390018",
         "2024-01-14T16:05:11.881+0000"
        ],
        [
         "partition-user",
         "eyJpbmQiOjEzNDEsImZpcnN0X25hbWUiOiJBYmlnYWlsIiwibGFzdF9uYW1lIjoiQWxpIiwiYWdlIjoyMCwiZGF0ZV9qb2luZWQiOiIyMDE1LTEwLTI0IDExOjIzOjUxIn0=",
         "streaming-0ad8a60ac12f-user",
         "shardId-000000000000",
         "49648256421248313573246050438809100812441423866117488642",
         "2024-01-14T16:05:14.666+0000"
        ],
        [
         "partition-user",
         "eyJpbmQiOjUxNjIsImZpcnN0X25hbWUiOiJKYW1lcyIsImxhc3RfbmFtZSI6IkphY29ic29uIiwiYWdlIjoyOCwiZGF0ZV9qb2luZWQiOiIyMDE3LTA0LTMwIDE2OjQxOjI2In0=",
         "streaming-0ad8a60ac12f-user",
         "shardId-000000000000",
         "49648256421248313573246050440322675938598939661569097730",
         "2024-01-14T16:05:16.439+0000"
        ],
        [
         "partition-user",
         "eyJpbmQiOjUxNTEsImZpcnN0X25hbWUiOiJNYXJ5IiwibGFzdF9uYW1lIjoiSm9yZGFuIiwiYWdlIjoyNiwiZGF0ZV9qb2luZWQiOiIyMDE3LTA2LTEyIDE2OjAyOjU5In0=",
         "streaming-0ad8a60ac12f-user",
         "shardId-000000000000",
         "49648256421248313573246050441778222625414953325354287106",
         "2024-01-14T16:05:18.238+0000"
        ],
        [
         "partition-user",
         "eyJpbmQiOjI0OTgsImZpcnN0X25hbWUiOiJKZXJlbXkiLCJsYXN0X25hbWUiOiJDaGFzZSIsImFnZSI6NTAsImRhdGVfam9pbmVkIjoiMjAxNy0wNy0zMSAxNjo1Njo1MiJ9",
         "streaming-0ad8a60ac12f-user",
         "shardId-000000000000",
         "49648256421248313573246050444122329789647719432548515842",
         "2024-01-14T16:05:21.125+0000"
        ],
        [
         "partition-user",
         "eyJpbmQiOjcyNjgsImZpcnN0X25hbWUiOiJBbGVqYW5kcmEiLCJsYXN0X25hbWUiOiJBY2V2ZWRvIiwiYWdlIjoyMCwiZGF0ZV9qb2luZWQiOiIyMDE1LTExLTI0IDIxOjAxOjIzIn0=",
         "streaming-0ad8a60ac12f-user",
         "shardId-000000000000",
         "49648256421248313573246050445784602791617834753927938050",
         "2024-01-14T16:05:22.978+0000"
        ],
        [
         "partition-user",
         "eyJpbmQiOjMzNTEsImZpcnN0X25hbWUiOiJFcmljIiwibGFzdF9uYW1lIjoiVGF5bG9yIiwiYWdlIjozOSwiZGF0ZV9qb2luZWQiOiIyMDE3LTA0LTA0IDA2OjA1OjAzIn0=",
         "streaming-0ad8a60ac12f-user",
         "shardId-000000000000",
         "49648256421248313573246050447481934642356774183934885890",
         "2024-01-14T16:05:24.787+0000"
        ],
        [
         "partition-user",
         "eyJpbmQiOjc3MzgsImZpcnN0X25hbWUiOiJBbGV4aXMiLCJsYXN0X25hbWUiOiJHZW9yZ2UiLCJhZ2UiOjM0LCJkYXRlX2pvaW5lZCI6IjIwMTYtMDItMjYgMDA6Mzg6MDEifQ==",
         "streaming-0ad8a60ac12f-user",
         "shardId-000000000000",
         "49648256421248313573246050449011225804169280296096628738",
         "2024-01-14T16:05:26.621+0000"
        ],
        [
         "partition-user",
         "eyJpbmQiOjc1MjgsImZpcnN0X25hbWUiOiJBYmlnYWlsIiwibGFzdF9uYW1lIjoiQWxpIiwiYWdlIjoyMCwiZGF0ZV9qb2luZWQiOiIyMDE1LTEwLTI0IDExOjIzOjUxIn0=",
         "streaming-0ad8a60ac12f-user",
         "shardId-000000000000",
         "49648256421248313573246050467635936981152258873448464386",
         "2024-01-14T16:05:49.546+0000"
        ],
        [
         "partition-user",
         "eyJpbmQiOjI4NjMsImZpcnN0X25hbWUiOiJEeWxhbiIsImxhc3RfbmFtZSI6IkhvbG1lcyIsImFnZSI6MzIsImRhdGVfam9pbmVkIjoiMjAxNi0xMC0yMyAxNDowNjo1MSJ9",
         "streaming-0ad8a60ac12f-user",
         "shardId-000000000000",
         "49648256421248313573246050469752766091297474695797932034",
         "2024-01-14T16:05:52.306+0000"
        ]
       ],
       "datasetInfos": [],
       "dbfsResultPath": null,
       "isJsonSchema": true,
       "metadata": {},
       "overflow": false,
       "plotOptions": {
        "customPlotOptions": {},
        "displayType": "table",
        "pivotAggregation": null,
        "pivotColumns": null,
        "xColumns": null,
        "yColumns": null
       },
       "removedWidgets": [],
       "schema": [
        {
         "metadata": "{}",
         "name": "partitionKey",
         "type": "\"string\""
        },
        {
         "metadata": "{}",
         "name": "data",
         "type": "\"binary\""
        },
        {
         "metadata": "{}",
         "name": "stream",
         "type": "\"string\""
        },
        {
         "metadata": "{}",
         "name": "shardId",
         "type": "\"string\""
        },
        {
         "metadata": "{}",
         "name": "sequenceNumber",
         "type": "\"string\""
        },
        {
         "metadata": "{}",
         "name": "approximateArrivalTimestamp",
         "type": "\"timestamp\""
        }
       ],
       "type": "table"
      }
     },
     "output_type": "display_data"
    }
   ],
   "source": [
    "display(df_user)"
   ]
  },
  {
   "cell_type": "markdown",
   "metadata": {
    "application/vnd.databricks.v1+cell": {
     "cellMetadata": {},
     "inputWidgets": {},
     "nuid": "712413dd-914c-43ad-8920-2defc73b3c06",
     "showTitle": false,
     "title": ""
    }
   },
   "source": [
    "#### Deserialising the data column of each stream"
   ]
  },
  {
   "cell_type": "code",
   "execution_count": 0,
   "metadata": {
    "application/vnd.databricks.v1+cell": {
     "cellMetadata": {
      "byteLimit": 2048000,
      "rowLimit": 10000
     },
     "inputWidgets": {},
     "nuid": "ee82017f-b742-4014-bf12-ed7448c4c59e",
     "showTitle": false,
     "title": ""
    }
   },
   "outputs": [
    {
     "output_type": "display_data",
     "data": {
      "text/html": [
       "<style scoped>\n",
       "  .ansiout {\n",
       "    display: block;\n",
       "    unicode-bidi: embed;\n",
       "    white-space: pre-wrap;\n",
       "    word-wrap: break-word;\n",
       "    word-break: break-all;\n",
       "    font-family: \"Menlo\", \"Monaco\", \"Consolas\", \"Ubuntu Mono\", \"Source Code Pro\", monospace;\n",
       "    font-size: 13px;\n",
       "    color: #555;\n",
       "    margin-left: 4px;\n",
       "    line-height: 19px;\n",
       "  }\n",
       "</style>\n",
       "<div class=\"ansiout\"></div>"
      ]
     },
     "metadata": {
      "application/vnd.databricks.v1+output": {
       "addedWidgets": {},
       "arguments": {},
       "data": "<div class=\"ansiout\"></div>",
       "datasetInfos": [],
       "metadata": {},
       "removedWidgets": [],
       "type": "html"
      }
     },
     "output_type": "display_data"
    }
   ],
   "source": [
    "df_pin = df_pin.selectExpr(\"CAST(data as STRING)\")\n",
    "df_geo = df_geo.selectExpr(\"CAST(data as STRING)\")\n",
    "df_user = df_user.selectExpr(\"CAST(data as STRING)\")\n",
    "#display(df_pin)"
   ]
  },
  {
   "cell_type": "markdown",
   "metadata": {
    "application/vnd.databricks.v1+cell": {
     "cellMetadata": {},
     "inputWidgets": {},
     "nuid": "25035370-5b58-40d8-bf06-264516054432",
     "showTitle": false,
     "title": ""
    }
   },
   "source": [
    "#### Json data in data column is exploded to make regular dataframes for each data stream (like the ones used for batch processing)"
   ]
  },
  {
   "cell_type": "code",
   "execution_count": 0,
   "metadata": {
    "application/vnd.databricks.v1+cell": {
     "cellMetadata": {
      "byteLimit": 2048000,
      "rowLimit": 10000
     },
     "inputWidgets": {},
     "nuid": "87c8712f-85e6-4a6e-a37c-878cc3e1bd8f",
     "showTitle": false,
     "title": ""
    }
   },
   "outputs": [
    {
     "output_type": "display_data",
     "data": {
      "text/html": [
       "<style scoped>\n",
       "  .ansiout {\n",
       "    display: block;\n",
       "    unicode-bidi: embed;\n",
       "    white-space: pre-wrap;\n",
       "    word-wrap: break-word;\n",
       "    word-break: break-all;\n",
       "    font-family: \"Menlo\", \"Monaco\", \"Consolas\", \"Ubuntu Mono\", \"Source Code Pro\", monospace;\n",
       "    font-size: 13px;\n",
       "    color: #555;\n",
       "    margin-left: 4px;\n",
       "    line-height: 19px;\n",
       "  }\n",
       "</style>\n",
       "<div class=\"ansiout\"></div>"
      ]
     },
     "metadata": {
      "application/vnd.databricks.v1+output": {
       "addedWidgets": {},
       "arguments": {},
       "data": "<div class=\"ansiout\"></div>",
       "datasetInfos": [],
       "metadata": {},
       "removedWidgets": [],
       "type": "html"
      }
     },
     "output_type": "display_data"
    }
   ],
   "source": [
    "from pyspark.sql.functions import from_json, col\n",
    "\n",
    "# Convert the 'data' column from binary to string\n",
    "df_pin = df_pin.withColumn(\"data_str\", col(\"data\").cast(\"string\"))\n",
    "\n",
    "# Define json schema\n",
    "json_schema = StructType([\n",
    "    StructField(\"index\", StringType(), True),\n",
    "    StructField(\"unique_id\", StringType(), True),\n",
    "    StructField(\"title\", StringType(), True),\n",
    "    StructField(\"description\", StringType(), True),\n",
    "    StructField(\"poster_name\", StringType(), True),\n",
    "    StructField(\"follower_count\", StringType(), True),\n",
    "    StructField(\"tag_list\", StringType(), True),\n",
    "    StructField(\"is_image_or_video\", StringType(), True),\n",
    "    StructField(\"image_src\", StringType(), True),\n",
    "    StructField(\"downloaded\", StringType(), True),\n",
    "    StructField(\"save_location\", StringType(), True),\n",
    "    StructField(\"category\", StringType(), True)\n",
    "])\n",
    "\n",
    "# Apply the from_json function to parse the 'data_str' column\n",
    "df_pin = df_pin.withColumn(\"parsed_data\", from_json(\"data_str\", json_schema))\n",
    "\n",
    "# Selecting parsed_data\n",
    "df_pin = df_pin.select(\"parsed_data.*\")\n"
   ]
  },
  {
   "cell_type": "code",
   "execution_count": 0,
   "metadata": {
    "application/vnd.databricks.v1+cell": {
     "cellMetadata": {
      "byteLimit": 2048000,
      "rowLimit": 10000
     },
     "inputWidgets": {},
     "nuid": "b1b50816-4ded-4c61-9598-fdae49a0242b",
     "showTitle": false,
     "title": ""
    }
   },
   "outputs": [
    {
     "output_type": "display_data",
     "data": {
      "text/html": [
       "<style scoped>\n",
       "  .ansiout {\n",
       "    display: block;\n",
       "    unicode-bidi: embed;\n",
       "    white-space: pre-wrap;\n",
       "    word-wrap: break-word;\n",
       "    word-break: break-all;\n",
       "    font-family: \"Menlo\", \"Monaco\", \"Consolas\", \"Ubuntu Mono\", \"Source Code Pro\", monospace;\n",
       "    font-size: 13px;\n",
       "    color: #555;\n",
       "    margin-left: 4px;\n",
       "    line-height: 19px;\n",
       "  }\n",
       "</style>\n",
       "<div class=\"ansiout\"></div>"
      ]
     },
     "metadata": {
      "application/vnd.databricks.v1+output": {
       "addedWidgets": {},
       "arguments": {},
       "data": "<div class=\"ansiout\"></div>",
       "datasetInfos": [],
       "metadata": {},
       "removedWidgets": [],
       "type": "html"
      }
     },
     "output_type": "display_data"
    }
   ],
   "source": [
    "# Convert the 'data' column from binary to string\n",
    "df_geo = df_geo.withColumn(\"data_str\", col(\"data\").cast(\"string\"))\n",
    "\n",
    "# Define json schema\n",
    "json_schema = StructType([\n",
    "    StructField(\"index\", StringType(), True),\n",
    "    StructField(\"country\", StringType(), True),\n",
    "    StructField(\"latitude\", StringType(), True),\n",
    "    StructField(\"longitude\", StringType(), True),\n",
    "    StructField(\"timestamp\", StringType(), True),\n",
    "])\n",
    "\n",
    "# Apply the from_json function to parse the 'data_str' column\n",
    "df_geo = df_geo.withColumn(\"parsed_data\", from_json(\"data_str\", json_schema))\n",
    "\n",
    "# Selecting parsed_data\n",
    "df_geo = df_geo.select(\"parsed_data.*\")\n"
   ]
  },
  {
   "cell_type": "code",
   "execution_count": 0,
   "metadata": {
    "application/vnd.databricks.v1+cell": {
     "cellMetadata": {
      "byteLimit": 2048000,
      "rowLimit": 10000
     },
     "inputWidgets": {},
     "nuid": "aec9c8f8-3899-4743-9fff-a6b4992a812e",
     "showTitle": false,
     "title": ""
    }
   },
   "outputs": [
    {
     "output_type": "display_data",
     "data": {
      "text/html": [
       "<style scoped>\n",
       "  .ansiout {\n",
       "    display: block;\n",
       "    unicode-bidi: embed;\n",
       "    white-space: pre-wrap;\n",
       "    word-wrap: break-word;\n",
       "    word-break: break-all;\n",
       "    font-family: \"Menlo\", \"Monaco\", \"Consolas\", \"Ubuntu Mono\", \"Source Code Pro\", monospace;\n",
       "    font-size: 13px;\n",
       "    color: #555;\n",
       "    margin-left: 4px;\n",
       "    line-height: 19px;\n",
       "  }\n",
       "</style>\n",
       "<div class=\"ansiout\"></div>"
      ]
     },
     "metadata": {
      "application/vnd.databricks.v1+output": {
       "addedWidgets": {},
       "arguments": {},
       "data": "<div class=\"ansiout\"></div>",
       "datasetInfos": [],
       "metadata": {},
       "removedWidgets": [],
       "type": "html"
      }
     },
     "output_type": "display_data"
    }
   ],
   "source": [
    "# Convert the 'data' column from binary to string\n",
    "df_user = df_user.withColumn(\"data_str\", col(\"data\").cast(\"string\"))\n",
    "\n",
    "# Define json schema\n",
    "json_schema = StructType([\n",
    "    StructField(\"index\", StringType(), True),\n",
    "    StructField(\"first_name\", StringType(), True),\n",
    "    StructField(\"last_name\", StringType(), True),\n",
    "    StructField(\"age\", StringType(), True),\n",
    "    StructField(\"date_joined\", StringType(), True),\n",
    "])\n",
    "\n",
    "# Apply the from_json function to parse the 'data_str' column\n",
    "df_user = df_user.withColumn(\"parsed_data\", from_json(\"data_str\", json_schema))\n",
    "\n",
    "# Selecting parsed_data\n",
    "df_user = df_user.select(\"parsed_data.*\")"
   ]
  },
  {
   "cell_type": "markdown",
   "metadata": {
    "application/vnd.databricks.v1+cell": {
     "cellMetadata": {},
     "inputWidgets": {},
     "nuid": "862c9290-ac5f-4613-b68a-ff44081f37fe",
     "showTitle": false,
     "title": ""
    }
   },
   "source": [
    "#### Each of the dataframes transformed in the same way as for batch processing"
   ]
  },
  {
   "cell_type": "code",
   "execution_count": 0,
   "metadata": {
    "application/vnd.databricks.v1+cell": {
     "cellMetadata": {
      "byteLimit": 2048000,
      "rowLimit": 10000
     },
     "inputWidgets": {},
     "nuid": "447a13e5-bf27-4946-b5b1-4b2706759173",
     "showTitle": false,
     "title": ""
    }
   },
   "outputs": [
    {
     "output_type": "display_data",
     "data": {
      "text/html": [
       "<style scoped>\n",
       "  .ansiout {\n",
       "    display: block;\n",
       "    unicode-bidi: embed;\n",
       "    white-space: pre-wrap;\n",
       "    word-wrap: break-word;\n",
       "    word-break: break-all;\n",
       "    font-family: \"Menlo\", \"Monaco\", \"Consolas\", \"Ubuntu Mono\", \"Source Code Pro\", monospace;\n",
       "    font-size: 13px;\n",
       "    color: #555;\n",
       "    margin-left: 4px;\n",
       "    line-height: 19px;\n",
       "  }\n",
       "</style>\n",
       "<div class=\"ansiout\"></div>"
      ]
     },
     "metadata": {
      "application/vnd.databricks.v1+output": {
       "addedWidgets": {},
       "arguments": {},
       "data": "<div class=\"ansiout\"></div>",
       "datasetInfos": [],
       "metadata": {},
       "removedWidgets": [],
       "type": "html"
      }
     },
     "output_type": "display_data"
    }
   ],
   "source": [
    "from pyspark.sql.functions import when\n",
    "df_pin = df_pin.withColumn('description', when(col('description').contains('No description available'), None).otherwise(col('description')))\n",
    " # ^^ done in this format rather than standard replace because some records contain more info after no description\n",
    "df_pin = df_pin.replace({'Image src error.': None}, subset=['image_src'])\n",
    "df_pin = df_pin.replace({'N,o, ,T,a,g,s, ,A,v,a,i,l,a,b,l,e': None}, subset=['tag_list'])\n",
    "df_pin = df_pin.replace({'No Title Data Available': None}, subset=['title'])\n",
    "df_pin = df_pin.replace({'User Info Error': None}, subset=['follower_count', 'poster_name'])"
   ]
  },
  {
   "cell_type": "code",
   "execution_count": 0,
   "metadata": {
    "application/vnd.databricks.v1+cell": {
     "cellMetadata": {
      "byteLimit": 2048000,
      "rowLimit": 10000
     },
     "inputWidgets": {},
     "nuid": "146e8c54-d456-4330-828b-3aee7f341b16",
     "showTitle": false,
     "title": ""
    }
   },
   "outputs": [
    {
     "output_type": "display_data",
     "data": {
      "text/html": [
       "<style scoped>\n",
       "  .ansiout {\n",
       "    display: block;\n",
       "    unicode-bidi: embed;\n",
       "    white-space: pre-wrap;\n",
       "    word-wrap: break-word;\n",
       "    word-break: break-all;\n",
       "    font-family: \"Menlo\", \"Monaco\", \"Consolas\", \"Ubuntu Mono\", \"Source Code Pro\", monospace;\n",
       "    font-size: 13px;\n",
       "    color: #555;\n",
       "    margin-left: 4px;\n",
       "    line-height: 19px;\n",
       "  }\n",
       "</style>\n",
       "<div class=\"ansiout\"></div>"
      ]
     },
     "metadata": {
      "application/vnd.databricks.v1+output": {
       "addedWidgets": {},
       "arguments": {},
       "data": "<div class=\"ansiout\"></div>",
       "datasetInfos": [],
       "metadata": {},
       "removedWidgets": [],
       "type": "html"
      }
     },
     "output_type": "display_data"
    }
   ],
   "source": [
    "from pyspark.sql.functions import regexp_replace, col\n",
    "df_pin = df_pin.withColumn('save_location', regexp_replace(col('save_location'), 'Local save in ', ''))\n",
    "df_pin = df_pin.withColumn('follower_count', regexp_replace(col('follower_count'), 'k', '000'))\n",
    "df_pin = df_pin.withColumn('follower_count', regexp_replace(col('follower_count'), 'M', '000000'))"
   ]
  },
  {
   "cell_type": "code",
   "execution_count": 0,
   "metadata": {
    "application/vnd.databricks.v1+cell": {
     "cellMetadata": {
      "byteLimit": 2048000,
      "rowLimit": 10000
     },
     "inputWidgets": {},
     "nuid": "e29fcda9-54f3-449a-8a6f-478cfd4aec0d",
     "showTitle": false,
     "title": ""
    }
   },
   "outputs": [
    {
     "output_type": "display_data",
     "data": {
      "text/html": [
       "<style scoped>\n",
       "  .ansiout {\n",
       "    display: block;\n",
       "    unicode-bidi: embed;\n",
       "    white-space: pre-wrap;\n",
       "    word-wrap: break-word;\n",
       "    word-break: break-all;\n",
       "    font-family: \"Menlo\", \"Monaco\", \"Consolas\", \"Ubuntu Mono\", \"Source Code Pro\", monospace;\n",
       "    font-size: 13px;\n",
       "    color: #555;\n",
       "    margin-left: 4px;\n",
       "    line-height: 19px;\n",
       "  }\n",
       "</style>\n",
       "<div class=\"ansiout\"></div>"
      ]
     },
     "metadata": {
      "application/vnd.databricks.v1+output": {
       "addedWidgets": {},
       "arguments": {},
       "data": "<div class=\"ansiout\"></div>",
       "datasetInfos": [],
       "metadata": {},
       "removedWidgets": [],
       "type": "html"
      }
     },
     "output_type": "display_data"
    }
   ],
   "source": [
    "df_pin = df_pin.withColumn(\"index\", df_pin[\"index\"].cast(\"integer\"))\n",
    "df_pin = df_pin.withColumn(\"follower_count\", df_pin[\"follower_count\"].cast(\"integer\"))\n",
    "df_pin = df_pin.withColumnRenamed(\"index\", \"ind\")\n",
    "df_pin = df_pin.select(\"ind\",\n",
    "\"unique_id\",\n",
    "\"title\",\n",
    "\"description\",\n",
    "\"follower_count\",\n",
    "\"poster_name\",\n",
    "\"tag_list\",\n",
    "\"is_image_or_video\",\n",
    "\"image_src\",\n",
    "\"save_location\",\n",
    "\"category\")"
   ]
  },
  {
   "cell_type": "code",
   "execution_count": 0,
   "metadata": {
    "application/vnd.databricks.v1+cell": {
     "cellMetadata": {
      "byteLimit": 2048000,
      "rowLimit": 10000
     },
     "inputWidgets": {},
     "nuid": "a27357e1-2fcb-4c1e-9cc9-fd111c2dcd2e",
     "showTitle": false,
     "title": ""
    }
   },
   "outputs": [
    {
     "output_type": "display_data",
     "data": {
      "text/html": [
       "<style scoped>\n",
       "  .ansiout {\n",
       "    display: block;\n",
       "    unicode-bidi: embed;\n",
       "    white-space: pre-wrap;\n",
       "    word-wrap: break-word;\n",
       "    word-break: break-all;\n",
       "    font-family: \"Menlo\", \"Monaco\", \"Consolas\", \"Ubuntu Mono\", \"Source Code Pro\", monospace;\n",
       "    font-size: 13px;\n",
       "    color: #555;\n",
       "    margin-left: 4px;\n",
       "    line-height: 19px;\n",
       "  }\n",
       "</style>\n",
       "<div class=\"ansiout\"></div>"
      ]
     },
     "metadata": {
      "application/vnd.databricks.v1+output": {
       "addedWidgets": {},
       "arguments": {},
       "data": "<div class=\"ansiout\"></div>",
       "datasetInfos": [],
       "metadata": {},
       "removedWidgets": [],
       "type": "html"
      }
     },
     "output_type": "display_data"
    }
   ],
   "source": [
    "from pyspark.sql.functions import array\n",
    "df_geo = df_geo.withColumn(\"coordinates\", array(\"latitude\", \"longitude\"))\n",
    "df_geo = df_geo.drop(\"latitude\", \"longitude\")\n",
    "df_geo = df_geo.withColumn(\"timestamp\", df_geo[\"timestamp\"].cast(\"timestamp\"))\n",
    "df_geo = df_geo.withColumnRenamed(\"index\", \"ind\")\n",
    "df_geo = df_geo.select(\"ind\", \"country\", \"coordinates\", \"timestamp\")"
   ]
  },
  {
   "cell_type": "code",
   "execution_count": 0,
   "metadata": {
    "application/vnd.databricks.v1+cell": {
     "cellMetadata": {
      "byteLimit": 2048000,
      "rowLimit": 10000
     },
     "inputWidgets": {},
     "nuid": "5ac06461-7a3a-4919-ab5d-03d94280996d",
     "showTitle": false,
     "title": ""
    }
   },
   "outputs": [
    {
     "output_type": "display_data",
     "data": {
      "text/html": [
       "<style scoped>\n",
       "  .ansiout {\n",
       "    display: block;\n",
       "    unicode-bidi: embed;\n",
       "    white-space: pre-wrap;\n",
       "    word-wrap: break-word;\n",
       "    word-break: break-all;\n",
       "    font-family: \"Menlo\", \"Monaco\", \"Consolas\", \"Ubuntu Mono\", \"Source Code Pro\", monospace;\n",
       "    font-size: 13px;\n",
       "    color: #555;\n",
       "    margin-left: 4px;\n",
       "    line-height: 19px;\n",
       "  }\n",
       "</style>\n",
       "<div class=\"ansiout\"></div>"
      ]
     },
     "metadata": {
      "application/vnd.databricks.v1+output": {
       "addedWidgets": {},
       "arguments": {},
       "data": "<div class=\"ansiout\"></div>",
       "datasetInfos": [],
       "metadata": {},
       "removedWidgets": [],
       "type": "html"
      }
     },
     "output_type": "display_data"
    }
   ],
   "source": [
    "from pyspark.sql.functions import concat, lit\n",
    "df_user = df_user.withColumn(\"user_name\", concat(\"first_name\", lit(\" \"), \"last_name\"))\n",
    "df_user = df_user.drop(\"first_name\", \"last_name\")\n",
    "df_user = df_user.withColumn(\"timestamp\", df_user[\"date_joined\"].cast(\"timestamp\"))\n",
    "df_user = df_user.withColumnRenamed(\"index\", \"ind\")\n",
    "df_user = df_user.select(\"ind\", \"user_name\", \"age\", \"date_joined\")"
   ]
  },
  {
   "cell_type": "markdown",
   "metadata": {
    "application/vnd.databricks.v1+cell": {
     "cellMetadata": {},
     "inputWidgets": {},
     "nuid": "321e66ff-9c2e-4700-9cae-35b8c5a02aec",
     "showTitle": false,
     "title": ""
    }
   },
   "source": [
    "#### Streaming data written to delta tables "
   ]
  },
  {
   "cell_type": "code",
   "execution_count": 0,
   "metadata": {
    "application/vnd.databricks.v1+cell": {
     "cellMetadata": {
      "byteLimit": 2048000,
      "rowLimit": 10000
     },
     "inputWidgets": {},
     "nuid": "7a8700e0-cd4e-46c9-8080-c3d5f7ff023a",
     "showTitle": false,
     "title": ""
    }
   },
   "outputs": [
    {
     "output_type": "display_data",
     "data": {
      "text/html": [
       "<style scoped>\n",
       "  .ansiout {\n",
       "    display: block;\n",
       "    unicode-bidi: embed;\n",
       "    white-space: pre-wrap;\n",
       "    word-wrap: break-word;\n",
       "    word-break: break-all;\n",
       "    font-family: \"Menlo\", \"Monaco\", \"Consolas\", \"Ubuntu Mono\", \"Source Code Pro\", monospace;\n",
       "    font-size: 13px;\n",
       "    color: #555;\n",
       "    margin-left: 4px;\n",
       "    line-height: 19px;\n",
       "  }\n",
       "</style>\n",
       "<div class=\"ansiout\">Out[156]: &lt;pyspark.sql.streaming.StreamingQuery at 0x7f137c0a3490&gt;</div>"
      ]
     },
     "metadata": {
      "application/vnd.databricks.v1+output": {
       "addedWidgets": {},
       "arguments": {},
       "data": "<div class=\"ansiout\">Out[156]: &lt;pyspark.sql.streaming.StreamingQuery at 0x7f137c0a3490&gt;</div>",
       "datasetInfos": [],
       "metadata": {},
       "removedWidgets": [],
       "type": "html"
      }
     },
     "output_type": "display_data"
    }
   ],
   "source": [
    "df_pin.writeStream \\\n",
    "  .format(\"delta\") \\\n",
    "  .outputMode(\"append\") \\\n",
    "  .option(\"checkpointLocation\", \"/tmp/kinesis/_checkpoints/\") \\\n",
    "  .table(\"0ad8a60ac12f_pin_table\")"
   ]
  },
  {
   "cell_type": "code",
   "execution_count": 0,
   "metadata": {
    "application/vnd.databricks.v1+cell": {
     "cellMetadata": {
      "byteLimit": 2048000,
      "rowLimit": 10000
     },
     "inputWidgets": {},
     "nuid": "57dc1b05-3f6b-483f-b465-f62f825b9ae2",
     "showTitle": false,
     "title": ""
    }
   },
   "outputs": [
    {
     "output_type": "display_data",
     "data": {
      "text/html": [
       "<style scoped>\n",
       "  .ansiout {\n",
       "    display: block;\n",
       "    unicode-bidi: embed;\n",
       "    white-space: pre-wrap;\n",
       "    word-wrap: break-word;\n",
       "    word-break: break-all;\n",
       "    font-family: \"Menlo\", \"Monaco\", \"Consolas\", \"Ubuntu Mono\", \"Source Code Pro\", monospace;\n",
       "    font-size: 13px;\n",
       "    color: #555;\n",
       "    margin-left: 4px;\n",
       "    line-height: 19px;\n",
       "  }\n",
       "</style>\n",
       "<div class=\"ansiout\">Out[157]: &lt;pyspark.sql.streaming.StreamingQuery at 0x7f137c467820&gt;</div>"
      ]
     },
     "metadata": {
      "application/vnd.databricks.v1+output": {
       "addedWidgets": {},
       "arguments": {},
       "data": "<div class=\"ansiout\">Out[157]: &lt;pyspark.sql.streaming.StreamingQuery at 0x7f137c467820&gt;</div>",
       "datasetInfos": [],
       "metadata": {},
       "removedWidgets": [],
       "type": "html"
      }
     },
     "output_type": "display_data"
    }
   ],
   "source": [
    "df_geo.writeStream \\\n",
    "  .format(\"delta\") \\\n",
    "  .outputMode(\"append\") \\\n",
    "  .option(\"checkpointLocation\", \"/tmp/kinesis/_checkpoints/\") \\\n",
    "  .table(\"0ad8a60ac12f_geo_table\")"
   ]
  },
  {
   "cell_type": "code",
   "execution_count": 0,
   "metadata": {
    "application/vnd.databricks.v1+cell": {
     "cellMetadata": {
      "byteLimit": 2048000,
      "rowLimit": 10000
     },
     "inputWidgets": {},
     "nuid": "be5007f0-56c5-4481-8b94-df69c0d91a08",
     "showTitle": false,
     "title": ""
    }
   },
   "outputs": [
    {
     "output_type": "display_data",
     "data": {
      "text/html": [
       "<style scoped>\n",
       "  .ansiout {\n",
       "    display: block;\n",
       "    unicode-bidi: embed;\n",
       "    white-space: pre-wrap;\n",
       "    word-wrap: break-word;\n",
       "    word-break: break-all;\n",
       "    font-family: \"Menlo\", \"Monaco\", \"Consolas\", \"Ubuntu Mono\", \"Source Code Pro\", monospace;\n",
       "    font-size: 13px;\n",
       "    color: #555;\n",
       "    margin-left: 4px;\n",
       "    line-height: 19px;\n",
       "  }\n",
       "</style>\n",
       "<div class=\"ansiout\">Out[158]: &lt;pyspark.sql.streaming.StreamingQuery at 0x7f137d40b850&gt;</div>"
      ]
     },
     "metadata": {
      "application/vnd.databricks.v1+output": {
       "addedWidgets": {},
       "arguments": {},
       "data": "<div class=\"ansiout\">Out[158]: &lt;pyspark.sql.streaming.StreamingQuery at 0x7f137d40b850&gt;</div>",
       "datasetInfos": [],
       "metadata": {},
       "removedWidgets": [],
       "type": "html"
      }
     },
     "output_type": "display_data"
    }
   ],
   "source": [
    "df_user.writeStream \\\n",
    "  .format(\"delta\") \\\n",
    "  .outputMode(\"append\") \\\n",
    "  .option(\"checkpointLocation\", \"/tmp/kinesis/_checkpoints/\") \\\n",
    "  .table(\"0ad8a60ac12f_user_table\")"
   ]
  },
  {
   "cell_type": "code",
   "execution_count": 0,
   "metadata": {
    "application/vnd.databricks.v1+cell": {
     "cellMetadata": {},
     "inputWidgets": {},
     "nuid": "736e06e0-9ef3-4e61-97e5-3710cccf3d8e",
     "showTitle": false,
     "title": ""
    }
   },
   "outputs": [],
   "source": []
  }
 ],
 "metadata": {
  "application/vnd.databricks.v1+notebook": {
   "dashboards": [],
   "language": "python",
   "notebookMetadata": {
    "mostRecentlyExecutedCommandWithImplicitDF": {
     "commandId": 53513123490722,
     "dataframes": [
      "_sqldf"
     ]
    },
    "pythonIndentUnit": 4
   },
   "notebookName": "streaming_notebook",
   "widgets": {}
  }
 },
 "nbformat": 4,
 "nbformat_minor": 0
}
